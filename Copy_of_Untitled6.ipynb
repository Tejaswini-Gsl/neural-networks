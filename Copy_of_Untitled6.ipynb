{
  "nbformat": 4,
  "nbformat_minor": 0,
  "metadata": {
    "colab": {
      "provenance": [],
      "gpuType": "T4",
      "mount_file_id": "1a5L3GGLy1_c1ybJOBB5RtVMIxoodyenP",
      "authorship_tag": "ABX9TyNVXI6XTQdmDY2OpohMgAVj",
      "include_colab_link": true
    },
    "kernelspec": {
      "name": "python3",
      "display_name": "Python 3"
    },
    "language_info": {
      "name": "python"
    },
    "accelerator": "GPU"
  },
  "cells": [
    {
      "cell_type": "markdown",
      "metadata": {
        "id": "view-in-github",
        "colab_type": "text"
      },
      "source": [
        "<a href=\"https://colab.research.google.com/github/Tejaswini-Gsl/neural-networks/blob/main/Copy_of_Untitled6.ipynb\" target=\"_parent\"><img src=\"https://colab.research.google.com/assets/colab-badge.svg\" alt=\"Open In Colab\"/></a>"
      ]
    },
    {
      "cell_type": "code",
      "execution_count": 1,
      "metadata": {
        "id": "SE7V6nJu0kQm"
      },
      "outputs": [],
      "source": [
        "import numpy as np\n",
        "import matplotlib.pyplot as plt\n",
        "import pandas as pd\n",
        "import scipy as sp\n",
        "import os\n",
        "import librosa as lr\n",
        "import shutil\n",
        "import dask.array as da\n",
        "import h5py\n",
        "import glob\n",
        "# import resampy\n",
        "import imageio\n",
        "from PIL import Image\n",
        "\n",
        "\n",
        "\n",
        "# from keras.models import Model, load_model\n",
        "# from keras.layers import Conv2D, MaxPooling2D, Dense, Flatten\n",
        "# from keras.layers import Dropout, Input, BatchNormalization\n",
        "# from keras.optimizers import Nadam\n",
        "# from keras.preprocessing.image import ImageDataGenerator\n",
        "# from keras.utils import np_utils"
      ]
    },
    {
      "cell_type": "code",
      "source": [
        "# importing english dataset\n",
        "\n",
        "other_df_en = pd.read_csv('/content/drive/MyDrive/neural dataset/en/other.tsv', sep='\\t')\n",
        "validate_sen_df_en = pd.read_csv('/content/drive/MyDrive/neural dataset/en/validated.tsv', sep='\\t')\n",
        "unvalidate_sen_df_en = pd.read_csv('/content/drive/MyDrive/neural dataset/en/invalidated.tsv', sep='\\t')\n",
        "other_df_de = pd.read_csv('/content/drive/MyDrive/neural dataset/de/other.tsv', sep='\\t')\n",
        "validate_sen_df_de = pd.read_csv('/content/drive/MyDrive/neural dataset/de/validated.tsv', sep='\\t')\n",
        "unvalidate_sen_df_de = pd.read_csv('/content/drive/MyDrive/neural dataset/de/invalidated.tsv', sep='\\t')\n",
        "other_df_ca = pd.read_csv('/content/drive/MyDrive/neural dataset/ca/other.tsv', sep='\\t')\n",
        "validate_sen_df_ca = pd.read_csv('/content/drive/MyDrive/neural dataset/ca/validated.tsv', sep='\\t')\n",
        "unvalidate_sen_df_ca = pd.read_csv('/content/drive/MyDrive/neural dataset/ca/invalidated.tsv', sep='\\t')\n",
        "\n",
        "print(validate_sen_df_en.shape,validate_sen_df_ca.shape,validate_sen_df_de.shape)\n",
        "print(\"values of en:\",other_df_en['sentence_domain'].notnull().sum(),validate_sen_df_en['sentence_domain'].notnull().sum(),unvalidate_sen_df_en['sentence_domain'].notnull().sum())\n",
        "print(\"values of de:\",other_df_de['sentence_domain'].notnull().sum(),validate_sen_df_de['sentence_domain'].notnull().sum(),unvalidate_sen_df_de['sentence_domain'].notnull().sum())\n",
        "print(\"values of ca:\",other_df_ca['sentence_domain'].notnull().sum(),validate_sen_df_ca['sentence_domain'].notnull().sum(),unvalidate_sen_df_ca['sentence_domain'].notnull().sum())"
      ],
      "metadata": {
        "id": "flF-89SvJnHe",
        "colab": {
          "base_uri": "https://localhost:8080/"
        },
        "outputId": "7dae8f04-4fd4-4cec-dd91-141cebe82640"
      },
      "execution_count": 2,
      "outputs": [
        {
          "output_type": "stream",
          "name": "stdout",
          "text": [
            "(1877, 13) (1586, 13) (12901, 13)\n",
            "values of en: 102 1 1\n",
            "values of de: 5 32 3\n",
            "values of ca: 219 2 0\n"
          ]
        }
      ]
    },
    {
      "cell_type": "code",
      "source": [
        "# def cleaned_data(other_df,validate_sen_df,unvalidate_sen_df,lan):\n",
        "#   other_df_cleaned = other_df.dropna(subset=['sentence_domain'], inplace=False)\n",
        "#   validate_sen_df_cleaned = validate_sen_df.dropna(subset=['sentence_domain'], inplace=False)\n",
        "#   unvalidate_sen_df_cleaned = unvalidate_sen_df.dropna(subset=['sentence_domain'], inplace=False)\n",
        "#   print(other_df_cleaned.shape,validate_sen_df_cleaned.shape,unvalidate_sen_df_cleaned.shape)\n",
        "#   result = pd.concat([other_df_cleaned,validate_sen_df_cleaned,unvalidate_sen_df_cleaned], axis=0)\n",
        "#   print(result.shape)\n",
        "#   file_path = \"/content/drive/MyDrive/neural dataset/{}/other_cleaned.tsv\".format(lan)\n",
        "#   result.to_csv(file_path, sep='\\t', index=False)\n",
        "#   return(result)\n",
        "\n",
        "# df_en = cleaned_data(other_df_en,validate_sen_df_en,unvalidate_sen_df_en,'en')\n",
        "# df_de = cleaned_data(other_df_de,validate_sen_df_de,unvalidate_sen_df_de,'de')\n",
        "# df_ca = pd.read_csv('/content/drive/MyDrive/neural dataset/ca/other_cleaned.tsv', sep='\\t')[:102]"
      ],
      "metadata": {
        "id": "K0PdoXwfBSdL"
      },
      "execution_count": 5,
      "outputs": []
    },
    {
      "cell_type": "code",
      "source": [
        "# import os\n",
        "# import shutil\n",
        "\n",
        "# def allclips(df,lan):\n",
        "#   # Source folder containing the MP3 files\n",
        "\n",
        "#   path = '/content/drive/MyDrive/neural dataset/{}/clips'.format(lan)\n",
        "#   source_folder = path\n",
        "\n",
        "#   # Destination folder where MP3 files will be moved\n",
        "#   destination_folder = '/content/drive/MyDrive/neural dataset/allclips'\n",
        "\n",
        "#   # Create destination folder if it doesn't exist\n",
        "#   os.makedirs(destination_folder, exist_ok=True)\n",
        "\n",
        "#   # Loop through each row in the DataFrame\n",
        "#   for index, row in df.iterrows():\n",
        "#       # Extract the MP3 file name from the 'path' column\n",
        "#       mp3_file = os.path.basename(row['path'])\n",
        "\n",
        "#       # Construct the full path of the MP3 file in the source folder\n",
        "#       source_path = os.path.join(source_folder, mp3_file)\n",
        "\n",
        "#       # Construct the full path of the MP3 file in the destination folder\n",
        "#       destination_path = os.path.join(destination_folder, mp3_file)\n",
        "\n",
        "#       # Check if the MP3 file exists in the source folder\n",
        "#       if os.path.exists(source_path):\n",
        "#           # Move the MP3 file from the source folder to the destination folder\n",
        "#           shutil.move(source_path, destination_path)\n",
        "#           print(f\"Moved {mp3_file} to {destination_folder}\")\n",
        "#       else:\n",
        "#           print(f\"MP3 file {mp3_file} not found in the source folder\")\n",
        "\n",
        "#   print(\"All MP3 files have been moved.\")\n",
        "\n",
        "\n",
        "# allclips(df_en,'en')\n",
        "# # allclips(df_de,'de')\n"
      ],
      "metadata": {
        "id": "bDzW-xxD7vxa"
      },
      "execution_count": 6,
      "outputs": []
    },
    {
      "cell_type": "code",
      "source": [
        "# print(\"other:\",other_df_en_cleaned.columns)\n",
        "# print(\"validate:\",validate_sen_df_en_cleaned.columns)\n",
        "# print(\"unvalidate:\",unvalidate_sen_df_en_cleaned.columns)\n",
        "# df_ca.shape"
      ],
      "metadata": {
        "id": "dciDYFhTCU_S"
      },
      "execution_count": 7,
      "outputs": []
    },
    {
      "cell_type": "code",
      "source": [
        "\n",
        "# time_steps = 16000  # Assuming 1 second audio clips with a sampling rate of 16 kHz\n",
        "# num_mfcc_features = 13  # Example value for the number of MFCC features\n"
      ],
      "metadata": {
        "id": "y3L0m1_l0nmA"
      },
      "execution_count": 8,
      "outputs": []
    },
    {
      "cell_type": "code",
      "source": [
        "\n",
        "\n",
        "def load_audio(file_path, sr=16000):\n",
        "    data,sr = lr.load(file_path)\n",
        "    return data\n",
        "\n",
        "validate_sen_df_en['audio'] = validate_sen_df_en['path'].apply(lambda x: load_audio(f'/content/drive/MyDrive/neural dataset/en/clips/{x}'))\n",
        "validate_sen_df_ca['audio'] = validate_sen_df_ca['path'].apply(lambda x: load_audio(f'/content/drive/MyDrive/neural dataset/ca/val_clips/{x}'))\n",
        "# df_total['audio'] = df_total['path'].apply(lambda x: load_audio(f'/content/drive/MyDrive/neural dataset/allclips/{x}'))\n",
        "\n",
        "# dev_df['audio'] = dev_df['path'].apply(lambda x: load_audio(f'/content/drive/MyDrive/neural dataset/te/clips/{x}'))\n",
        "# test_df['audio'] = test_df['path'].apply(lambda x: load_audio(f'/content/drive/MyDrive/neural dataset/te/clips/{x}'))"
      ],
      "metadata": {
        "id": "-77Rrnu91GaZ"
      },
      "execution_count": 7,
      "outputs": []
    },
    {
      "cell_type": "code",
      "source": [
        "validate_sen_df_ca.head(1)"
      ],
      "metadata": {
        "colab": {
          "base_uri": "https://localhost:8080/",
          "height": 205
        },
        "id": "vEM2Rw2rI3la",
        "outputId": "ca58645f-8c49-470b-bcef-ba79242a56b9"
      },
      "execution_count": 8,
      "outputs": [
        {
          "output_type": "execute_result",
          "data": {
            "text/plain": [
              "                                           client_id  \\\n",
              "0  0bf9a3c9eebf8e427fa1d08800532c4bb279c13c113446...   \n",
              "\n",
              "                           path  \\\n",
              "0  common_voice_ca_39702834.mp3   \n",
              "\n",
              "                                         sentence_id  \\\n",
              "0  d159405abc07362ede5b393be7a63233f72fdc766a3186...   \n",
              "\n",
              "                                            sentence sentence_domain  \\\n",
              "0  La finalització de la guerra obrí un tens perí...             NaN   \n",
              "\n",
              "   up_votes  down_votes       age           gender accents variant locale  \\\n",
              "0         2           0  fourties  female_feminine     NaN     NaN     ca   \n",
              "\n",
              "   segment                                              audio  \n",
              "0      NaN  [-3.9815347e-12, -8.749569e-13, -4.1578212e-12...  "
            ],
            "text/html": [
              "\n",
              "  <div id=\"df-7094ab52-f4e3-4495-827e-71b30aeea697\" class=\"colab-df-container\">\n",
              "    <div>\n",
              "<style scoped>\n",
              "    .dataframe tbody tr th:only-of-type {\n",
              "        vertical-align: middle;\n",
              "    }\n",
              "\n",
              "    .dataframe tbody tr th {\n",
              "        vertical-align: top;\n",
              "    }\n",
              "\n",
              "    .dataframe thead th {\n",
              "        text-align: right;\n",
              "    }\n",
              "</style>\n",
              "<table border=\"1\" class=\"dataframe\">\n",
              "  <thead>\n",
              "    <tr style=\"text-align: right;\">\n",
              "      <th></th>\n",
              "      <th>client_id</th>\n",
              "      <th>path</th>\n",
              "      <th>sentence_id</th>\n",
              "      <th>sentence</th>\n",
              "      <th>sentence_domain</th>\n",
              "      <th>up_votes</th>\n",
              "      <th>down_votes</th>\n",
              "      <th>age</th>\n",
              "      <th>gender</th>\n",
              "      <th>accents</th>\n",
              "      <th>variant</th>\n",
              "      <th>locale</th>\n",
              "      <th>segment</th>\n",
              "      <th>audio</th>\n",
              "    </tr>\n",
              "  </thead>\n",
              "  <tbody>\n",
              "    <tr>\n",
              "      <th>0</th>\n",
              "      <td>0bf9a3c9eebf8e427fa1d08800532c4bb279c13c113446...</td>\n",
              "      <td>common_voice_ca_39702834.mp3</td>\n",
              "      <td>d159405abc07362ede5b393be7a63233f72fdc766a3186...</td>\n",
              "      <td>La finalització de la guerra obrí un tens perí...</td>\n",
              "      <td>NaN</td>\n",
              "      <td>2</td>\n",
              "      <td>0</td>\n",
              "      <td>fourties</td>\n",
              "      <td>female_feminine</td>\n",
              "      <td>NaN</td>\n",
              "      <td>NaN</td>\n",
              "      <td>ca</td>\n",
              "      <td>NaN</td>\n",
              "      <td>[-3.9815347e-12, -8.749569e-13, -4.1578212e-12...</td>\n",
              "    </tr>\n",
              "  </tbody>\n",
              "</table>\n",
              "</div>\n",
              "    <div class=\"colab-df-buttons\">\n",
              "\n",
              "  <div class=\"colab-df-container\">\n",
              "    <button class=\"colab-df-convert\" onclick=\"convertToInteractive('df-7094ab52-f4e3-4495-827e-71b30aeea697')\"\n",
              "            title=\"Convert this dataframe to an interactive table.\"\n",
              "            style=\"display:none;\">\n",
              "\n",
              "  <svg xmlns=\"http://www.w3.org/2000/svg\" height=\"24px\" viewBox=\"0 -960 960 960\">\n",
              "    <path d=\"M120-120v-720h720v720H120Zm60-500h600v-160H180v160Zm220 220h160v-160H400v160Zm0 220h160v-160H400v160ZM180-400h160v-160H180v160Zm440 0h160v-160H620v160ZM180-180h160v-160H180v160Zm440 0h160v-160H620v160Z\"/>\n",
              "  </svg>\n",
              "    </button>\n",
              "\n",
              "  <style>\n",
              "    .colab-df-container {\n",
              "      display:flex;\n",
              "      gap: 12px;\n",
              "    }\n",
              "\n",
              "    .colab-df-convert {\n",
              "      background-color: #E8F0FE;\n",
              "      border: none;\n",
              "      border-radius: 50%;\n",
              "      cursor: pointer;\n",
              "      display: none;\n",
              "      fill: #1967D2;\n",
              "      height: 32px;\n",
              "      padding: 0 0 0 0;\n",
              "      width: 32px;\n",
              "    }\n",
              "\n",
              "    .colab-df-convert:hover {\n",
              "      background-color: #E2EBFA;\n",
              "      box-shadow: 0px 1px 2px rgba(60, 64, 67, 0.3), 0px 1px 3px 1px rgba(60, 64, 67, 0.15);\n",
              "      fill: #174EA6;\n",
              "    }\n",
              "\n",
              "    .colab-df-buttons div {\n",
              "      margin-bottom: 4px;\n",
              "    }\n",
              "\n",
              "    [theme=dark] .colab-df-convert {\n",
              "      background-color: #3B4455;\n",
              "      fill: #D2E3FC;\n",
              "    }\n",
              "\n",
              "    [theme=dark] .colab-df-convert:hover {\n",
              "      background-color: #434B5C;\n",
              "      box-shadow: 0px 1px 3px 1px rgba(0, 0, 0, 0.15);\n",
              "      filter: drop-shadow(0px 1px 2px rgba(0, 0, 0, 0.3));\n",
              "      fill: #FFFFFF;\n",
              "    }\n",
              "  </style>\n",
              "\n",
              "    <script>\n",
              "      const buttonEl =\n",
              "        document.querySelector('#df-7094ab52-f4e3-4495-827e-71b30aeea697 button.colab-df-convert');\n",
              "      buttonEl.style.display =\n",
              "        google.colab.kernel.accessAllowed ? 'block' : 'none';\n",
              "\n",
              "      async function convertToInteractive(key) {\n",
              "        const element = document.querySelector('#df-7094ab52-f4e3-4495-827e-71b30aeea697');\n",
              "        const dataTable =\n",
              "          await google.colab.kernel.invokeFunction('convertToInteractive',\n",
              "                                                    [key], {});\n",
              "        if (!dataTable) return;\n",
              "\n",
              "        const docLinkHtml = 'Like what you see? Visit the ' +\n",
              "          '<a target=\"_blank\" href=https://colab.research.google.com/notebooks/data_table.ipynb>data table notebook</a>'\n",
              "          + ' to learn more about interactive tables.';\n",
              "        element.innerHTML = '';\n",
              "        dataTable['output_type'] = 'display_data';\n",
              "        await google.colab.output.renderOutput(dataTable, element);\n",
              "        const docLink = document.createElement('div');\n",
              "        docLink.innerHTML = docLinkHtml;\n",
              "        element.appendChild(docLink);\n",
              "      }\n",
              "    </script>\n",
              "  </div>\n",
              "\n",
              "\n",
              "    </div>\n",
              "  </div>\n"
            ],
            "application/vnd.google.colaboratory.intrinsic+json": {
              "type": "dataframe",
              "variable_name": "validate_sen_df_ca",
              "summary": "{\n  \"name\": \"validate_sen_df_ca\",\n  \"rows\": 1586,\n  \"fields\": [\n    {\n      \"column\": \"client_id\",\n      \"properties\": {\n        \"dtype\": \"category\",\n        \"num_unique_values\": 59,\n        \"samples\": [\n          \"0bf9a3c9eebf8e427fa1d08800532c4bb279c13c113446c7507857ed53dbe058fae56bb0cf3db94e38ac53927e2165ca7e66cad3a46cae0afb21a5b8eed5b776\",\n          \"648a7a2a915bb43ddf94a74c2d0c3b3e23e0443cbe379f18d4c0ec9582b46ab8a52fe08189031603f1358a4c9d956aec3379d7ebaf6be259d746f33b84d92b70\",\n          \"2484ec5ade2d6f4d4f4018c366912fef0116608a55cc756d241646e2e18fbc8fc1cf53e04d9234e02e2054197686160cf9b647650ade74a1832a774c89752207\"\n        ],\n        \"semantic_type\": \"\",\n        \"description\": \"\"\n      }\n    },\n    {\n      \"column\": \"path\",\n      \"properties\": {\n        \"dtype\": \"string\",\n        \"num_unique_values\": 1586,\n        \"samples\": [\n          \"common_voice_ca_39978668.mp3\",\n          \"common_voice_ca_39852414.mp3\",\n          \"common_voice_ca_39761018.mp3\"\n        ],\n        \"semantic_type\": \"\",\n        \"description\": \"\"\n      }\n    },\n    {\n      \"column\": \"sentence_id\",\n      \"properties\": {\n        \"dtype\": \"string\",\n        \"num_unique_values\": 1584,\n        \"samples\": [\n          \"d875725fd0884d69e47deab4b68407c663ad7425d970db9fdc50c1d0c7b228b1\",\n          \"b051131e2de13090ff6bf6778ae691efc0e949f8c234e8719e62b8bd9d7f0ed2\",\n          \"d508eaaf9fe67820569ce9f92c4eeb3df9ba5e366497f8b4588a446c0ec24332\"\n        ],\n        \"semantic_type\": \"\",\n        \"description\": \"\"\n      }\n    },\n    {\n      \"column\": \"sentence\",\n      \"properties\": {\n        \"dtype\": \"string\",\n        \"num_unique_values\": 1584,\n        \"samples\": [\n          \"Li van disparar per l\\u2019esquena quan intentava escapar-se dels policies.\",\n          \"A finals de novembre, replegar\\u00e0s la teua oliva sempre.\",\n          \"A la segona fase es jugaren vint-i-tres eliminat\\u00f2ries.\"\n        ],\n        \"semantic_type\": \"\",\n        \"description\": \"\"\n      }\n    },\n    {\n      \"column\": \"sentence_domain\",\n      \"properties\": {\n        \"dtype\": \"category\",\n        \"num_unique_values\": 2,\n        \"samples\": [\n          \"food_service_retail\",\n          \"automotive\"\n        ],\n        \"semantic_type\": \"\",\n        \"description\": \"\"\n      }\n    },\n    {\n      \"column\": \"up_votes\",\n      \"properties\": {\n        \"dtype\": \"number\",\n        \"std\": 0,\n        \"min\": 2,\n        \"max\": 9,\n        \"num_unique_values\": 5,\n        \"samples\": [\n          3,\n          9\n        ],\n        \"semantic_type\": \"\",\n        \"description\": \"\"\n      }\n    },\n    {\n      \"column\": \"down_votes\",\n      \"properties\": {\n        \"dtype\": \"number\",\n        \"std\": 0,\n        \"min\": 0,\n        \"max\": 0,\n        \"num_unique_values\": 1,\n        \"samples\": [\n          0\n        ],\n        \"semantic_type\": \"\",\n        \"description\": \"\"\n      }\n    },\n    {\n      \"column\": \"age\",\n      \"properties\": {\n        \"dtype\": \"category\",\n        \"num_unique_values\": 7,\n        \"samples\": [\n          \"fourties\"\n        ],\n        \"semantic_type\": \"\",\n        \"description\": \"\"\n      }\n    },\n    {\n      \"column\": \"gender\",\n      \"properties\": {\n        \"dtype\": \"category\",\n        \"num_unique_values\": 2,\n        \"samples\": [\n          \"male_masculine\"\n        ],\n        \"semantic_type\": \"\",\n        \"description\": \"\"\n      }\n    },\n    {\n      \"column\": \"accents\",\n      \"properties\": {\n        \"dtype\": \"category\",\n        \"num_unique_values\": 16,\n        \"samples\": [\n          \"valenci\\u00e0,Castell\\u00f3 de la Plana\"\n        ],\n        \"semantic_type\": \"\",\n        \"description\": \"\"\n      }\n    },\n    {\n      \"column\": \"variant\",\n      \"properties\": {\n        \"dtype\": \"category\",\n        \"num_unique_values\": 7,\n        \"samples\": [\n          \"Valenci\\u00e0 septentrional\"\n        ],\n        \"semantic_type\": \"\",\n        \"description\": \"\"\n      }\n    },\n    {\n      \"column\": \"locale\",\n      \"properties\": {\n        \"dtype\": \"category\",\n        \"num_unique_values\": 1,\n        \"samples\": [\n          \"ca\"\n        ],\n        \"semantic_type\": \"\",\n        \"description\": \"\"\n      }\n    },\n    {\n      \"column\": \"segment\",\n      \"properties\": {\n        \"dtype\": \"number\",\n        \"std\": null,\n        \"min\": null,\n        \"max\": null,\n        \"num_unique_values\": 0,\n        \"samples\": [],\n        \"semantic_type\": \"\",\n        \"description\": \"\"\n      }\n    },\n    {\n      \"column\": \"audio\",\n      \"properties\": {\n        \"dtype\": \"object\",\n        \"semantic_type\": \"\",\n        \"description\": \"\"\n      }\n    }\n  ]\n}"
            }
          },
          "metadata": {},
          "execution_count": 8
        }
      ]
    },
    {
      "cell_type": "code",
      "source": [
        "# # df_total = pd.concat([validate_sen_df_en,validate_sen_df_ca], axis=0)\n",
        "# # df_total.shape\n",
        "# validate_sen_df_en.to_csv('/content/drive/MyDrive/neural dataset/data_en.csv', index=False)\n",
        "# validate_sen_df_ca.to_csv('/content/drive/MyDrive/neural dataset/data_ca.csv', index=False)"
      ],
      "metadata": {
        "id": "rDSmxUPwCDo-"
      },
      "execution_count": 11,
      "outputs": []
    },
    {
      "cell_type": "code",
      "source": [
        "# validate_sen_df_en = pd.read_csv('/content/drive/MyDrive/neural dataset/data_en.csv')\n",
        "# validate_sen_df_ca = pd.read_csv('/content/drive/MyDrive/neural dataset/data_ca.csv')\n"
      ],
      "metadata": {
        "id": "_49EMOTrIKui"
      },
      "execution_count": 4,
      "outputs": []
    },
    {
      "cell_type": "code",
      "source": [
        "df_total = pd.concat([validate_sen_df_en,validate_sen_df_ca], axis=0)\n",
        "df_total.head(1)"
      ],
      "metadata": {
        "colab": {
          "base_uri": "https://localhost:8080/",
          "height": 257
        },
        "id": "3NNYvWFUH-_R",
        "outputId": "c3b804e2-814b-4bae-f19b-57e69ec69be8"
      },
      "execution_count": 9,
      "outputs": [
        {
          "output_type": "execute_result",
          "data": {
            "text/plain": [
              "                                           client_id  \\\n",
              "0  01e8ea298cdecf26e273f5baac3915eb992c493f229686...   \n",
              "\n",
              "                           path  \\\n",
              "0  common_voice_en_39751075.mp3   \n",
              "\n",
              "                                         sentence_id  \\\n",
              "0  e5e7d4694b7160add018a08876327f254690c1ab4c39ea...   \n",
              "\n",
              "                                            sentence sentence_domain  \\\n",
              "0  Madin was a significant figure of post-war Bir...             NaN   \n",
              "\n",
              "   up_votes  down_votes  age gender                                 accents  \\\n",
              "0         2           0  NaN    NaN  United States English,New York English   \n",
              "\n",
              "  variant locale  segment                                              audio  \n",
              "0     NaN     en      NaN  [0.0, 0.0, 0.0, 0.0, 0.0, 0.0, 0.0, 0.0, 0.0, ...  "
            ],
            "text/html": [
              "\n",
              "  <div id=\"df-73297a8a-2f80-4555-9251-bbed562b61d8\" class=\"colab-df-container\">\n",
              "    <div>\n",
              "<style scoped>\n",
              "    .dataframe tbody tr th:only-of-type {\n",
              "        vertical-align: middle;\n",
              "    }\n",
              "\n",
              "    .dataframe tbody tr th {\n",
              "        vertical-align: top;\n",
              "    }\n",
              "\n",
              "    .dataframe thead th {\n",
              "        text-align: right;\n",
              "    }\n",
              "</style>\n",
              "<table border=\"1\" class=\"dataframe\">\n",
              "  <thead>\n",
              "    <tr style=\"text-align: right;\">\n",
              "      <th></th>\n",
              "      <th>client_id</th>\n",
              "      <th>path</th>\n",
              "      <th>sentence_id</th>\n",
              "      <th>sentence</th>\n",
              "      <th>sentence_domain</th>\n",
              "      <th>up_votes</th>\n",
              "      <th>down_votes</th>\n",
              "      <th>age</th>\n",
              "      <th>gender</th>\n",
              "      <th>accents</th>\n",
              "      <th>variant</th>\n",
              "      <th>locale</th>\n",
              "      <th>segment</th>\n",
              "      <th>audio</th>\n",
              "    </tr>\n",
              "  </thead>\n",
              "  <tbody>\n",
              "    <tr>\n",
              "      <th>0</th>\n",
              "      <td>01e8ea298cdecf26e273f5baac3915eb992c493f229686...</td>\n",
              "      <td>common_voice_en_39751075.mp3</td>\n",
              "      <td>e5e7d4694b7160add018a08876327f254690c1ab4c39ea...</td>\n",
              "      <td>Madin was a significant figure of post-war Bir...</td>\n",
              "      <td>NaN</td>\n",
              "      <td>2</td>\n",
              "      <td>0</td>\n",
              "      <td>NaN</td>\n",
              "      <td>NaN</td>\n",
              "      <td>United States English,New York English</td>\n",
              "      <td>NaN</td>\n",
              "      <td>en</td>\n",
              "      <td>NaN</td>\n",
              "      <td>[0.0, 0.0, 0.0, 0.0, 0.0, 0.0, 0.0, 0.0, 0.0, ...</td>\n",
              "    </tr>\n",
              "  </tbody>\n",
              "</table>\n",
              "</div>\n",
              "    <div class=\"colab-df-buttons\">\n",
              "\n",
              "  <div class=\"colab-df-container\">\n",
              "    <button class=\"colab-df-convert\" onclick=\"convertToInteractive('df-73297a8a-2f80-4555-9251-bbed562b61d8')\"\n",
              "            title=\"Convert this dataframe to an interactive table.\"\n",
              "            style=\"display:none;\">\n",
              "\n",
              "  <svg xmlns=\"http://www.w3.org/2000/svg\" height=\"24px\" viewBox=\"0 -960 960 960\">\n",
              "    <path d=\"M120-120v-720h720v720H120Zm60-500h600v-160H180v160Zm220 220h160v-160H400v160Zm0 220h160v-160H400v160ZM180-400h160v-160H180v160Zm440 0h160v-160H620v160ZM180-180h160v-160H180v160Zm440 0h160v-160H620v160Z\"/>\n",
              "  </svg>\n",
              "    </button>\n",
              "\n",
              "  <style>\n",
              "    .colab-df-container {\n",
              "      display:flex;\n",
              "      gap: 12px;\n",
              "    }\n",
              "\n",
              "    .colab-df-convert {\n",
              "      background-color: #E8F0FE;\n",
              "      border: none;\n",
              "      border-radius: 50%;\n",
              "      cursor: pointer;\n",
              "      display: none;\n",
              "      fill: #1967D2;\n",
              "      height: 32px;\n",
              "      padding: 0 0 0 0;\n",
              "      width: 32px;\n",
              "    }\n",
              "\n",
              "    .colab-df-convert:hover {\n",
              "      background-color: #E2EBFA;\n",
              "      box-shadow: 0px 1px 2px rgba(60, 64, 67, 0.3), 0px 1px 3px 1px rgba(60, 64, 67, 0.15);\n",
              "      fill: #174EA6;\n",
              "    }\n",
              "\n",
              "    .colab-df-buttons div {\n",
              "      margin-bottom: 4px;\n",
              "    }\n",
              "\n",
              "    [theme=dark] .colab-df-convert {\n",
              "      background-color: #3B4455;\n",
              "      fill: #D2E3FC;\n",
              "    }\n",
              "\n",
              "    [theme=dark] .colab-df-convert:hover {\n",
              "      background-color: #434B5C;\n",
              "      box-shadow: 0px 1px 3px 1px rgba(0, 0, 0, 0.15);\n",
              "      filter: drop-shadow(0px 1px 2px rgba(0, 0, 0, 0.3));\n",
              "      fill: #FFFFFF;\n",
              "    }\n",
              "  </style>\n",
              "\n",
              "    <script>\n",
              "      const buttonEl =\n",
              "        document.querySelector('#df-73297a8a-2f80-4555-9251-bbed562b61d8 button.colab-df-convert');\n",
              "      buttonEl.style.display =\n",
              "        google.colab.kernel.accessAllowed ? 'block' : 'none';\n",
              "\n",
              "      async function convertToInteractive(key) {\n",
              "        const element = document.querySelector('#df-73297a8a-2f80-4555-9251-bbed562b61d8');\n",
              "        const dataTable =\n",
              "          await google.colab.kernel.invokeFunction('convertToInteractive',\n",
              "                                                    [key], {});\n",
              "        if (!dataTable) return;\n",
              "\n",
              "        const docLinkHtml = 'Like what you see? Visit the ' +\n",
              "          '<a target=\"_blank\" href=https://colab.research.google.com/notebooks/data_table.ipynb>data table notebook</a>'\n",
              "          + ' to learn more about interactive tables.';\n",
              "        element.innerHTML = '';\n",
              "        dataTable['output_type'] = 'display_data';\n",
              "        await google.colab.output.renderOutput(dataTable, element);\n",
              "        const docLink = document.createElement('div');\n",
              "        docLink.innerHTML = docLinkHtml;\n",
              "        element.appendChild(docLink);\n",
              "      }\n",
              "    </script>\n",
              "  </div>\n",
              "\n",
              "\n",
              "    </div>\n",
              "  </div>\n"
            ],
            "application/vnd.google.colaboratory.intrinsic+json": {
              "type": "dataframe",
              "variable_name": "df_total",
              "summary": "{\n  \"name\": \"df_total\",\n  \"rows\": 3463,\n  \"fields\": [\n    {\n      \"column\": \"client_id\",\n      \"properties\": {\n        \"dtype\": \"category\",\n        \"num_unique_values\": 435,\n        \"samples\": [\n          \"0debffd64018e6ec9b8706b996df4fdd7470774170f9d8da46600ad86d68f9e09a2f09d0dbfee4027ff7241c89ba1a3136cdfff40ad9c92f002c943a6f6e1a61\",\n          \"718fc490d46fcc55a2bae12a0dec7c3f9d6444a907d38c30712106497827e32ae89dec06b41532d2effbd72ed2944c4714e7e8daae50ddfeb7e6e10a1abc9e90\",\n          \"9dc051959870e443479ac04840758c8c10096804504e183c3849bc231fb7423fdad2419852f71281d8661f8862ac35b17d5e984ae990e3a897dc8ec9d77d34c6\"\n        ],\n        \"semantic_type\": \"\",\n        \"description\": \"\"\n      }\n    },\n    {\n      \"column\": \"path\",\n      \"properties\": {\n        \"dtype\": \"string\",\n        \"num_unique_values\": 3463,\n        \"samples\": [\n          \"common_voice_ca_39899611.mp3\",\n          \"common_voice_en_39747377.mp3\",\n          \"common_voice_ca_39907498.mp3\"\n        ],\n        \"semantic_type\": \"\",\n        \"description\": \"\"\n      }\n    },\n    {\n      \"column\": \"sentence_id\",\n      \"properties\": {\n        \"dtype\": \"string\",\n        \"num_unique_values\": 3459,\n        \"samples\": [\n          \"a8825d5d458ec7355516f0293d23fa23323de4068b52789ed550e0ec5bfa82ce\",\n          \"e4112c2174dfaaa6c7a7a1556f699f9633c561675b6aaaca85a2f71897e2a259\",\n          \"d5cb8ef3d2c2d0d5b29c89fa1d216811aca63f129ed6af95f2867c91bebde5c9\"\n        ],\n        \"semantic_type\": \"\",\n        \"description\": \"\"\n      }\n    },\n    {\n      \"column\": \"sentence\",\n      \"properties\": {\n        \"dtype\": \"string\",\n        \"num_unique_values\": 3459,\n        \"samples\": [\n          \"The slug is caught in the sea off Samoa.\",\n          \"During this time, Konstantin's first campaign took place under the leadership of Suvorov.\",\n          \"De sobte el mon\\u00f2lit emet un senyal ac\\u00fastic eixordador.\"\n        ],\n        \"semantic_type\": \"\",\n        \"description\": \"\"\n      }\n    },\n    {\n      \"column\": \"sentence_domain\",\n      \"properties\": {\n        \"dtype\": \"category\",\n        \"num_unique_values\": 3,\n        \"samples\": [\n          \"technology_robotics\",\n          \"automotive\",\n          \"food_service_retail\"\n        ],\n        \"semantic_type\": \"\",\n        \"description\": \"\"\n      }\n    },\n    {\n      \"column\": \"up_votes\",\n      \"properties\": {\n        \"dtype\": \"number\",\n        \"std\": 0,\n        \"min\": 2,\n        \"max\": 12,\n        \"num_unique_values\": 7,\n        \"samples\": [\n          2,\n          3,\n          12\n        ],\n        \"semantic_type\": \"\",\n        \"description\": \"\"\n      }\n    },\n    {\n      \"column\": \"down_votes\",\n      \"properties\": {\n        \"dtype\": \"number\",\n        \"std\": 0,\n        \"min\": 0,\n        \"max\": 2,\n        \"num_unique_values\": 3,\n        \"samples\": [\n          0,\n          1,\n          2\n        ],\n        \"semantic_type\": \"\",\n        \"description\": \"\"\n      }\n    },\n    {\n      \"column\": \"age\",\n      \"properties\": {\n        \"dtype\": \"category\",\n        \"num_unique_values\": 7,\n        \"samples\": [\n          \"teens\",\n          \"twenties\",\n          \"fifties\"\n        ],\n        \"semantic_type\": \"\",\n        \"description\": \"\"\n      }\n    },\n    {\n      \"column\": \"gender\",\n      \"properties\": {\n        \"dtype\": \"category\",\n        \"num_unique_values\": 3,\n        \"samples\": [\n          \"transgender\",\n          \"male_masculine\",\n          \"female_feminine\"\n        ],\n        \"semantic_type\": \"\",\n        \"description\": \"\"\n      }\n    },\n    {\n      \"column\": \"accents\",\n      \"properties\": {\n        \"dtype\": \"category\",\n        \"num_unique_values\": 135,\n        \"samples\": [\n          \"European accent\",\n          \"England English, north yorkshire\",\n          \"Singaporean English\"\n        ],\n        \"semantic_type\": \"\",\n        \"description\": \"\"\n      }\n    },\n    {\n      \"column\": \"variant\",\n      \"properties\": {\n        \"dtype\": \"category\",\n        \"num_unique_values\": 7,\n        \"samples\": [\n          \"Valenci\\u00e0 septentrional\",\n          \"Central\",\n          \"Valenci\\u00e0 meridional\"\n        ],\n        \"semantic_type\": \"\",\n        \"description\": \"\"\n      }\n    },\n    {\n      \"column\": \"locale\",\n      \"properties\": {\n        \"dtype\": \"category\",\n        \"num_unique_values\": 2,\n        \"samples\": [\n          \"ca\",\n          \"en\"\n        ],\n        \"semantic_type\": \"\",\n        \"description\": \"\"\n      }\n    },\n    {\n      \"column\": \"segment\",\n      \"properties\": {\n        \"dtype\": \"number\",\n        \"std\": null,\n        \"min\": null,\n        \"max\": null,\n        \"num_unique_values\": 0,\n        \"samples\": [],\n        \"semantic_type\": \"\",\n        \"description\": \"\"\n      }\n    },\n    {\n      \"column\": \"audio\",\n      \"properties\": {\n        \"dtype\": \"object\",\n        \"semantic_type\": \"\",\n        \"description\": \"\"\n      }\n    }\n  ]\n}"
            }
          },
          "metadata": {},
          "execution_count": 9
        }
      ]
    },
    {
      "cell_type": "code",
      "source": [
        "# Assuming the two DataFrames are named other_df_en and another_df\n",
        "# And they both have a 'sentence_id' column\n",
        "\n",
        "# Merge the two DataFrames based on 'sentence_id'\n",
        "# merged_df = pd.merge(validate_sen_df_en,other_df_en, on='sentence_id', suffixes=('_en', '_another'))\n",
        "\n",
        "# # Now you can compare the columns or perform further analysis on the merged data\n",
        "# # print(merged_df.head())\n",
        "# merged_df.head()"
      ],
      "metadata": {
        "id": "1gV7mNdp8Ea3"
      },
      "execution_count": 12,
      "outputs": []
    },
    {
      "cell_type": "code",
      "source": [
        "# Assuming the other DataFrame is named 'another_df' and it has 'sentence_id' and 'domain' columns\n",
        "# Mapping sentence_id to domain values in a dictionary\n",
        "# id_to_domain = dict(zip(validate_sen_df_en['sentence_id'], validate_sen_df_en['sentence_domain']))\n",
        "\n",
        "# first2pairs = {k: id_to_domain[k] for k in list(id_to_domain)[:2]}\n",
        "# print(first2pairs)\n",
        "# # Fill null values in 'sentence_domain' column with values from 'another_df'\n",
        "# other_df_en['sentence_domain'] = other_df_en['sentence_domain'].fillna(other_df_en['sentence_id'].map(id_to_domain))"
      ],
      "metadata": {
        "id": "MJ2jhPbrRUOq"
      },
      "execution_count": 13,
      "outputs": []
    },
    {
      "cell_type": "code",
      "source": [
        "# import librosa as lr\n",
        "\n",
        "# def extract_features(audio, n_mfcc=13, hop_length=512, n_fft=2048):\n",
        "#     mfcc = lr.feature.mfcc(y=audio, sr=16000, n_mfcc=n_mfcc,\n",
        "#                            hop_length=hop_length, n_fft=n_fft)\n",
        "#     return mfcc.T  # Transpose to align time to rows\n",
        "\n",
        "# df_total['features'] = df_total['audio'].apply(extract_features)\n",
        "# # dev_df['features'] = dev_df['audio'].apply(extract_features)\n",
        "# # test_df['features'] = test_df['audio'].apply(extract_features)\n",
        "\n",
        "# # Print the shapes of the extracted features\n",
        "# print(df_total['features'][0].shape)  # Assuming you want to check the shape of the first sample\n",
        "import librosa as lr\n",
        "\n",
        "def extract_features(audio, n_mels=128, hop_length=512, n_fft=2048):\n",
        "    mel_spectrogram = lr.feature.melspectrogram(y=audio, sr=16000, n_mels=n_mels,\n",
        "                                                hop_length=hop_length, n_fft=n_fft)\n",
        "    return mel_spectrogram.T  # Transpose to align time to rows\n",
        "\n",
        "# Assuming df_total['audio'] contains the audio data\n",
        "df_total['features'] = df_total['audio'].apply(extract_features)\n",
        "\n",
        "# Print the shapes of the extracted features\n",
        "print(df_total['features'][0].shape)  # Assuming you want to check the shape of the first sample\n",
        "\n"
      ],
      "metadata": {
        "colab": {
          "base_uri": "https://localhost:8080/"
        },
        "id": "StxzsCKF7win",
        "outputId": "85630ea9-6b0c-4063-b792-f22f428483f8"
      },
      "execution_count": 10,
      "outputs": [
        {
          "output_type": "stream",
          "name": "stdout",
          "text": [
            "(2,)\n"
          ]
        }
      ]
    },
    {
      "cell_type": "code",
      "source": [
        "features_lengths = []\n",
        "for features in df_total['features']:\n",
        "    features_lengths.append(features.shape[0])\n"
      ],
      "metadata": {
        "id": "oLtOCNgTosuB"
      },
      "execution_count": 11,
      "outputs": []
    },
    {
      "cell_type": "code",
      "source": [
        "import matplotlib.pyplot as plt\n",
        "import numpy as np\n",
        "\n",
        "# Calculate statistics\n",
        "mean_length = np.mean(features_lengths)\n",
        "median_length = np.median(features_lengths)\n",
        "percentile_90 = np.percentile(features_lengths, 90)\n",
        "percentile_95 = np.percentile(features_lengths, 95)\n",
        "\n",
        "print(f\"Mean mel-spectrogram length: {mean_length:.2f}\")\n",
        "print(f\"Median mel-spectrogram length: {median_length}\")\n",
        "print(f\"90th percentile mel-spectrogram length: {percentile_90}\")\n",
        "print(f\"95th percentile mel-spectrogram length: {percentile_95}\")\n",
        "\n",
        "# Plot a histogram\n",
        "plt.figure(figsize=(8, 6))\n",
        "plt.hist(features_lengths, bins=50, edgecolor='black')\n",
        "plt.xlabel('Mel-spectrogram Length')\n",
        "plt.ylabel('Frequency')\n",
        "plt.title('Distribution of Mel-spectrogram Lengths')\n",
        "plt.show()"
      ],
      "metadata": {
        "colab": {
          "base_uri": "https://localhost:8080/",
          "height": 636
        },
        "id": "40Rmhs2Bo07u",
        "outputId": "a07c0e8c-8850-4928-c4ac-494cc882b268"
      },
      "execution_count": 12,
      "outputs": [
        {
          "output_type": "stream",
          "name": "stdout",
          "text": [
            "Mean mel-spectrogram length: 220.74\n",
            "Median mel-spectrogram length: 214.0\n",
            "90th percentile mel-spectrogram length: 311.8000000000002\n",
            "95th percentile mel-spectrogram length: 338.0\n"
          ]
        },
        {
          "output_type": "display_data",
          "data": {
            "text/plain": [
              "<Figure size 800x600 with 1 Axes>"
            ],
            "image/png": "[encoded data removed]"
          },
          "metadata": {}
        }
      ]
    },
    {
      "cell_type": "code",
      "source": [
        "import numpy as np\n",
        "\n",
        "# Assuming you have a maximum length for the features\n",
        "max_length = 256  # Replace with the desired maximum length\n",
        "\n",
        "# Define a padding function\n",
        "def pad_features(features, max_length):\n",
        "    padded_features = np.zeros((max_length, features.shape[1]))\n",
        "    if features.shape[0] > max_length:\n",
        "        padded_features = features[:max_length, :]\n",
        "    else:\n",
        "        padded_features[:features.shape[0], :] = features\n",
        "    return padded_features\n",
        "\n",
        "# Pad the features in the dataframes\n",
        "df_total['features'] = df_total['features'].apply(lambda x: pad_features(x, max_length))\n",
        "# dev_df['features'] = dev_df['features'].apply(lambda x: pad_features(x, max_length))\n",
        "# test_df['features'] = test_df['features'].apply(lambda x: pad_features(x, max_length))\n",
        "\n",
        "# Now you can convert the features to NumPy arrays\n",
        "X = np.array(df_total['features'].tolist())\n",
        "y_domain =(df_total['sentence_domain'])\n",
        "y_lan = (df_total['locale'])\n",
        "\n",
        "# X_dev = np.array(dev_df['features'].tolist())\n",
        "# y_dev = np.array(dev_df['sentence'])\n",
        "\n",
        "# X_test = np.array(test_df['features'].tolist())\n",
        "# y_test = np.array(test_df['sentence'])"
      ],
      "metadata": {
        "id": "UXsfMQ5WlYjO"
      },
      "execution_count": 13,
      "outputs": []
    },
    {
      "cell_type": "code",
      "source": [
        "from sklearn.preprocessing import LabelEncoder\n",
        "from tensorflow.keras.utils import to_categorical\n",
        "\n",
        "# Assuming df_total['locale'] and df_total['sentence_domain'] are the columns with string labels\n",
        "# Initialize label encoders\n",
        "label_encoder_lang = LabelEncoder()\n",
        "label_encoder_domain = LabelEncoder()\n",
        "\n",
        "# Fit label encoder and return encoded labels\n",
        "y_lan = label_encoder_lang.fit_transform(df_total['locale'].dropna())\n",
        "# y_domain = label_encoder_domain.fit_transform(df_total['sentence_domain'].dropna())\n",
        "# print(y_domain.shape)\n",
        "# Get the number of classes from the fitted label encoder\n",
        "num_language_classes = len(label_encoder_lang.classes_)\n",
        "# num_domain_classes = len(label_encoder_domain.classes_)\n",
        "\n",
        "# Convert labels to one-hot encoding\n",
        "y_lan_encoded = to_categorical(y_lan, num_classes=num_language_classes)\n",
        "# y_domain_encoded= 1\n",
        "\n",
        "# y_domain_encoded = to_categorical(y_domain, num_classes=num_domain_classes)\n",
        "y_lan_encoded.shape"
      ],
      "metadata": {
        "id": "fZFMdkHybAut",
        "colab": {
          "base_uri": "https://localhost:8080/"
        },
        "outputId": "c75eab63-9a36-415a-dae1-4fe4d6c54ea2"
      },
      "execution_count": 14,
      "outputs": [
        {
          "output_type": "execute_result",
          "data": {
            "text/plain": [
              "(3463, 2)"
            ]
          },
          "metadata": {},
          "execution_count": 14
        }
      ]
    },
    {
      "cell_type": "code",
      "source": [
        "X.shape,y_lan_encoded.shape"
      ],
      "metadata": {
        "colab": {
          "base_uri": "https://localhost:8080/"
        },
        "id": "767MFxcVsKJ0",
        "outputId": "50369e74-9f33-4e8d-8f00-91b7802305a4"
      },
      "execution_count": 15,
      "outputs": [
        {
          "output_type": "execute_result",
          "data": {
            "text/plain": [
              "((3463, 256, 128), (3463, 2))"
            ]
          },
          "metadata": {},
          "execution_count": 15
        }
      ]
    },
    {
      "cell_type": "code",
      "source": [
        "from sklearn.model_selection import train_test_split\n",
        "\n",
        "X_train, X_test, y_lan_train, y_lan_test = train_test_split(\n",
        "    X, y_lan_encoded, test_size=0.3, random_state=42\n",
        ")\n",
        "\n",
        "# Optionally, split the training set further to create a validation set (e.g., 80% of the remaining train for training, 20% for validation)\n",
        "X_train, X_val, y_lan_train, y_lan_val = train_test_split(\n",
        "    X_train, y_lan_train, test_size=0.2, random_state=42\n",
        ")\n",
        "# X_train, X_test, y_domain_train, y_domain_test, y_lan_train, y_lan_test = train_test_split(\n",
        "#     X, y_domain_encoded, y_lan_encoded, test_size=0.3, random_state=42\n",
        "# )\n",
        "\n",
        "# # Optionally, split the training set further to create a validation set (e.g., 80% of the remaining train for training, 20% for validation)\n",
        "# X_train, X_val, y_domain_train, y_domain_val, y_lan_train, y_lan_val = train_test_split(\n",
        "#     X_train, y_domain_train, y_lan_train, test_size=0.2, random_state=42\n",
        "# )\n",
        "\n",
        "# Check the shape of each set to ensure everything is correct\n",
        "# print(\"Training set:\", X_train.shape, y_domain_train.shape, y_lan_train.shape)\n",
        "# print(\"Validation set:\", X_val.shape, y_domain_val.shape, y_lan_val.shape)\n",
        "# print(\"Test set:\", X_test.shape, y_domain_test.shape, y_lan_test.shape)"
      ],
      "metadata": {
        "id": "-38tZ9ffTcFS"
      },
      "execution_count": 16,
      "outputs": []
    },
    {
      "cell_type": "markdown",
      "source": [],
      "metadata": {
        "id": "QTG9f_GkArda"
      }
    },
    {
      "cell_type": "code",
      "source": [
        "X_train = X_train.reshape(X_train.shape[0], X_train.shape[1], X_train.shape[2], 1)/ 255.0\n",
        "X_val = X_val.reshape(X_val.shape[0], X_val.shape[1], X_val.shape[2], 1)/ 255.0\n",
        "X_test = X_test.reshape(X_test.shape[0], X_test.shape[1], X_test.shape[2], 1)/255.0"
      ],
      "metadata": {
        "id": "ab5_KYcFnQN5"
      },
      "execution_count": 17,
      "outputs": []
    },
    {
      "cell_type": "code",
      "source": [
        "num_domain_classes= 5\n",
        "X_train.shape\n"
      ],
      "metadata": {
        "colab": {
          "base_uri": "https://localhost:8080/"
        },
        "id": "nfsVb2gm9DGv",
        "outputId": "73521309-f13a-492b-b1bd-275d19fe0c9a"
      },
      "execution_count": 18,
      "outputs": [
        {
          "output_type": "execute_result",
          "data": {
            "text/plain": [
              "(1939, 256, 128, 1)"
            ]
          },
          "metadata": {},
          "execution_count": 18
        }
      ]
    },
    {
      "cell_type": "code",
      "source": [
        "import tensorflow as tf\n",
        "from tensorflow.keras import models, layers, optimizers\n",
        "\n",
        "# Define the CNN model\n",
        "def create_cnn_model(input_shape, num_domain_classes, num_language_classes):\n",
        "    model = models.Sequential([\n",
        "        # Input layer\n",
        "        layers.Input(shape=input_shape),\n",
        "\n",
        "        # First conv layer\n",
        "        layers.Conv2D(32, kernel_size=(3, 3), activation='relu', padding='same'),\n",
        "        # layers.BatchNormalization(),\n",
        "        layers.MaxPooling2D(pool_size=(2, 2)),\n",
        "        layers.Dropout(0.25),\n",
        "\n",
        "        # Second conv layer\n",
        "        layers.Conv2D(64, kernel_size=(3, 3), activation='relu', padding='same'),\n",
        "        # layers.BatchNormalization(),\n",
        "        layers.MaxPooling2D(pool_size=(2, 2)),\n",
        "        layers.Dropout(0.25),\n",
        "\n",
        "        # Third conv layer\n",
        "        layers.Conv2D(128, kernel_size=(3, 3), activation='relu', padding='same'),\n",
        "        # layers.BatchNormalization(),\n",
        "        layers.MaxPooling2D(pool_size=(2, 2)),\n",
        "        layers.Dropout(0.25),\n",
        "\n",
        "\n",
        "\n",
        "        # Flatten the output of the conv layers to feed into the dense layer\n",
        "        layers.Flatten(),\n",
        "\n",
        "        # Dense layer for feature interpretation\n",
        "        layers.Dense(256, activation='relu'),\n",
        "        layers.Dropout(0.5),\n",
        "\n",
        "        # Separate output layers for domain and language classification\n",
        "        layers.Dense(num_language_classes, activation='softmax'),\n",
        "        # layers.Dense(num_domain_classes, activation='softmax')\n",
        "    ])\n",
        "\n",
        "    # Compile the model\n",
        "    model.compile(optimizer='adam',\n",
        "                  loss='categorical_crossentropy',\n",
        "                  metrics=['accuracy'])\n",
        "\n",
        "    return model\n",
        "\n",
        "# Assuming you have already defined input_shape, num_domain_classes, and num_language_classes\n",
        "input_shape = X_train[0].shape  # Example: (MFCC_Time, MFCC_Features, 1) e.g., (32, 13, 1)\n",
        "print(input_shape)\n",
        "# Create the model\n",
        "model = create_cnn_model(input_shape, num_domain_classes, num_language_classes)\n",
        "\n",
        "# Print the model summary\n",
        "model.summary()\n"
      ],
      "metadata": {
        "id": "8fUQtfCMtjC2",
        "colab": {
          "base_uri": "https://localhost:8080/"
        },
        "outputId": "57bb937c-5576-41f3-c74c-dbf2164b0aa4"
      },
      "execution_count": 19,
      "outputs": [
        {
          "output_type": "stream",
          "name": "stdout",
          "text": [
            "(256, 128, 1)\n",
            "Model: \"sequential\"\n",
            "_________________________________________________________________\n",
            " Layer (type)                Output Shape              Param #   \n",
            "=================================================================\n",
            " conv2d (Conv2D)             (None, 256, 128, 32)      320       \n",
            "                                                                 \n",
            " max_pooling2d (MaxPooling2  (None, 128, 64, 32)       0         \n",
            " D)                                                              \n",
            "                                                                 \n",
            " dropout (Dropout)           (None, 128, 64, 32)       0         \n",
            "                                                                 \n",
            " conv2d_1 (Conv2D)           (None, 128, 64, 64)       18496     \n",
            "                                                                 \n",
            " max_pooling2d_1 (MaxPoolin  (None, 64, 32, 64)        0         \n",
            " g2D)                                                            \n",
            "                                                                 \n",
            " dropout_1 (Dropout)         (None, 64, 32, 64)        0         \n",
            "                                                                 \n",
            " conv2d_2 (Conv2D)           (None, 64, 32, 128)       73856     \n",
            "                                                                 \n",
            " max_pooling2d_2 (MaxPoolin  (None, 32, 16, 128)       0         \n",
            " g2D)                                                            \n",
            "                                                                 \n",
            " dropout_2 (Dropout)         (None, 32, 16, 128)       0         \n",
            "                                                                 \n",
            " flatten (Flatten)           (None, 65536)             0         \n",
            "                                                                 \n",
            " dense (Dense)               (None, 256)               16777472  \n",
            "                                                                 \n",
            " dropout_3 (Dropout)         (None, 256)               0         \n",
            "                                                                 \n",
            " dense_1 (Dense)             (None, 2)                 514       \n",
            "                                                                 \n",
            "=================================================================\n",
            "Total params: 16870658 (64.36 MB)\n",
            "Trainable params: 16870658 (64.36 MB)\n",
            "Non-trainable params: 0 (0.00 Byte)\n",
            "_________________________________________________________________\n"
          ]
        }
      ]
    },
    {
      "cell_type": "code",
      "source": [
        "# Fit the model\n",
        "# history = model.fit(X_train, {'domain_output': y_domain_train, 'language_output': y_lan_train},\n",
        "#                     validation_data=(X_val, {'domain_output': y_domain_val, 'language_output': y_lan_val}),\n",
        "#                     epochs=20, batch_size=32)\n",
        "\n",
        "history = model.fit(X_train, y_lan_train,epochs=20,validation_data=(X_val,y_lan_val), batch_size=32)\n",
        "\n",
        "# history = model.fit(X_train, y_domain_train,epochs=20,validation_data=(X_val,y_domain_val), batch_size=32)"
      ],
      "metadata": {
        "id": "jv0jbv0LHZEJ"
      },
      "execution_count": null,
      "outputs": []
    },
    {
      "cell_type": "code",
      "source": [
        "# Evaluate the model\n",
        "# test_loss, test_accuracy = model.evaluate(X_test,y_domain_test)\n",
        "test_loss, test_accuracy = model.evaluate(X_test,y_lan_test)\n",
        "print('Test Accuracy:', test_accuracy)\n"
      ],
      "metadata": {
        "colab": {
          "base_uri": "https://localhost:8080/"
        },
        "id": "X3-v6C2xHF-3",
        "outputId": "afbb06a2-0958-446c-cbfb-9ee5dafba438"
      },
      "execution_count": 35,
      "outputs": [
        {
          "output_type": "stream",
          "name": "stdout",
          "text": [
            "33/33 [==============================] - 1s 24ms/step - loss: 0.7446 - accuracy: 0.8306\n",
            "Test Accuracy: 0.8306063413619995\n"
          ]
        }
      ]
    },
    {
      "cell_type": "code",
      "source": [
        "def create_rnn_model(input_shape, num_domain_classes, num_language_classes):\n",
        "    model = models.Sequential([\n",
        "        # Input layer\n",
        "        layers.Input(shape=input_shape),\n",
        "\n",
        "        # LSTM layer\n",
        "        layers.LSTM(64, return_sequences=True),\n",
        "\n",
        "        # Dropout layer\n",
        "        layers.Dropout(0.5),\n",
        "\n",
        "        # LSTM layer\n",
        "        layers.LSTM(64),\n",
        "\n",
        "        # Dropout layer\n",
        "        layers.Dropout(0.5),\n",
        "\n",
        "        # Dense layer for feature interpretation\n",
        "        layers.Dense(256, activation='relu'),\n",
        "\n",
        "        # Output layer for language classification\n",
        "        layers.Dense(num_language_classes, activation='softmax')\n",
        "    ])\n",
        "\n",
        "    # Compile the model\n",
        "    model.compile(optimizer='adam',\n",
        "                  loss='categorical_crossentropy',\n",
        "                  metrics=['accuracy'])\n",
        "\n",
        "    return model\n",
        "\n",
        "input_shape1=X_train.shape[1:-1]\n",
        "#  (X_train.shape[1],X_train.shape[2])\n",
        "model_rnn = create_rnn_model(input_shape1, num_domain_classes, num_language_classes)\n",
        "\n",
        "model.summary()"
      ],
      "metadata": {
        "colab": {
          "base_uri": "https://localhost:8080/"
        },
        "id": "nI6vw6navXX2",
        "outputId": "d90d3cd1-67e8-486c-e429-9ecad3b8ebc9"
      },
      "execution_count": 47,
      "outputs": [
        {
          "output_type": "stream",
          "name": "stdout",
          "text": [
            "Model: \"sequential\"\n",
            "_________________________________________________________________\n",
            " Layer (type)                Output Shape              Param #   \n",
            "=================================================================\n",
            " conv2d (Conv2D)             (None, 256, 128, 32)      320       \n",
            "                                                                 \n",
            " max_pooling2d (MaxPooling2  (None, 128, 64, 32)       0         \n",
            " D)                                                              \n",
            "                                                                 \n",
            " dropout (Dropout)           (None, 128, 64, 32)       0         \n",
            "                                                                 \n",
            " conv2d_1 (Conv2D)           (None, 128, 64, 64)       18496     \n",
            "                                                                 \n",
            " max_pooling2d_1 (MaxPoolin  (None, 64, 32, 64)        0         \n",
            " g2D)                                                            \n",
            "                                                                 \n",
            " dropout_1 (Dropout)         (None, 64, 32, 64)        0         \n",
            "                                                                 \n",
            " conv2d_2 (Conv2D)           (None, 64, 32, 128)       73856     \n",
            "                                                                 \n",
            " max_pooling2d_2 (MaxPoolin  (None, 32, 16, 128)       0         \n",
            " g2D)                                                            \n",
            "                                                                 \n",
            " dropout_2 (Dropout)         (None, 32, 16, 128)       0         \n",
            "                                                                 \n",
            " flatten (Flatten)           (None, 65536)             0         \n",
            "                                                                 \n",
            " dense (Dense)               (None, 256)               16777472  \n",
            "                                                                 \n",
            " dropout_3 (Dropout)         (None, 256)               0         \n",
            "                                                                 \n",
            " dense_1 (Dense)             (None, 2)                 514       \n",
            "                                                                 \n",
            "=================================================================\n",
            "Total params: 16870658 (64.36 MB)\n",
            "Trainable params: 16870658 (64.36 MB)\n",
            "Non-trainable params: 0 (0.00 Byte)\n",
            "_________________________________________________________________\n"
          ]
        }
      ]
    },
    {
      "cell_type": "code",
      "source": [
        "# Fit the model\n",
        "# history = model.fit(X_train, {'domain_output': y_domain_train, 'language_output': y_lan_train},\n",
        "#                     validation_data=(X_val, {'domain_output': y_domain_val, 'language_output': y_lan_val}),\n",
        "#                     epochs=20, batch_size=32)\n",
        "\n",
        "history_rnn = model_rnn.fit(X_train, y_lan_train,epochs=20,validation_data=(X_val,y_lan_val), batch_size=32)\n",
        "\n",
        "# history = model.fit(X_train, y_domain_train,epochs=20,validation_data=(X_val,y_domain_val), batch_size=32)"
      ],
      "metadata": {
        "colab": {
          "base_uri": "https://localhost:8080/"
        },
        "id": "62guXEQnw2HW",
        "outputId": "db1b26de-f5b3-40e1-9763-b13b1714e3c0"
      },
      "execution_count": 48,
      "outputs": [
        {
          "output_type": "stream",
          "name": "stdout",
          "text": [
            "Epoch 1/20\n",
            "61/61 [==============================] - 8s 53ms/step - loss: 0.6916 - accuracy: 0.5281 - val_loss: 0.6872 - val_accuracy: 0.4866\n",
            "Epoch 2/20\n",
            "61/61 [==============================] - 2s 33ms/step - loss: 0.6885 - accuracy: 0.5090 - val_loss: 0.6786 - val_accuracy: 0.5567\n",
            "Epoch 3/20\n",
            "61/61 [==============================] - 2s 27ms/step - loss: 0.6829 - accuracy: 0.5111 - val_loss: 0.6756 - val_accuracy: 0.5216\n",
            "Epoch 4/20\n",
            "61/61 [==============================] - 2s 26ms/step - loss: 0.6959 - accuracy: 0.5049 - val_loss: 0.6864 - val_accuracy: 0.5505\n",
            "Epoch 5/20\n",
            "61/61 [==============================] - 2s 25ms/step - loss: 0.6815 - accuracy: 0.5255 - val_loss: 0.6823 - val_accuracy: 0.5567\n",
            "Epoch 6/20\n",
            "61/61 [==============================] - 2s 27ms/step - loss: 0.6800 - accuracy: 0.4972 - val_loss: 0.6809 - val_accuracy: 0.5629\n",
            "Epoch 7/20\n",
            "61/61 [==============================] - 2s 26ms/step - loss: 0.6720 - accuracy: 0.5250 - val_loss: 0.6802 - val_accuracy: 0.4969\n",
            "Epoch 8/20\n",
            "61/61 [==============================] - 2s 25ms/step - loss: 0.6751 - accuracy: 0.5132 - val_loss: 0.6841 - val_accuracy: 0.4866\n",
            "Epoch 9/20\n",
            "61/61 [==============================] - 2s 37ms/step - loss: 0.6912 - accuracy: 0.5250 - val_loss: 0.6821 - val_accuracy: 0.5567\n",
            "Epoch 10/20\n",
            "61/61 [==============================] - 2s 32ms/step - loss: 0.6874 - accuracy: 0.5193 - val_loss: 0.6832 - val_accuracy: 0.5649\n",
            "Epoch 11/20\n",
            "61/61 [==============================] - 2s 27ms/step - loss: 0.6841 - accuracy: 0.5152 - val_loss: 0.6559 - val_accuracy: 0.6103\n",
            "Epoch 12/20\n",
            "61/61 [==============================] - 2s 28ms/step - loss: 0.6680 - accuracy: 0.6070 - val_loss: 0.6156 - val_accuracy: 0.7052\n",
            "Epoch 13/20\n",
            "61/61 [==============================] - 2s 27ms/step - loss: 0.6517 - accuracy: 0.6462 - val_loss: 0.6085 - val_accuracy: 0.6866\n",
            "Epoch 14/20\n",
            "61/61 [==============================] - 1s 24ms/step - loss: 0.6461 - accuracy: 0.6452 - val_loss: 0.5982 - val_accuracy: 0.7072\n",
            "Epoch 15/20\n",
            "61/61 [==============================] - 2s 28ms/step - loss: 0.6996 - accuracy: 0.5199 - val_loss: 0.6881 - val_accuracy: 0.5567\n",
            "Epoch 16/20\n",
            "61/61 [==============================] - 2s 28ms/step - loss: 0.6944 - accuracy: 0.5116 - val_loss: 0.6911 - val_accuracy: 0.5567\n",
            "Epoch 17/20\n",
            "61/61 [==============================] - 2s 35ms/step - loss: 0.6932 - accuracy: 0.5276 - val_loss: 0.6898 - val_accuracy: 0.5567\n",
            "Epoch 18/20\n",
            "61/61 [==============================] - 2s 31ms/step - loss: 0.6932 - accuracy: 0.5101 - val_loss: 0.6911 - val_accuracy: 0.5567\n",
            "Epoch 19/20\n",
            "61/61 [==============================] - 2s 25ms/step - loss: 0.6922 - accuracy: 0.5348 - val_loss: 0.6921 - val_accuracy: 0.5567\n",
            "Epoch 20/20\n",
            "61/61 [==============================] - 2s 25ms/step - loss: 0.6955 - accuracy: 0.5054 - val_loss: 0.6894 - val_accuracy: 0.5567\n"
          ]
        }
      ]
    },
    {
      "cell_type": "code",
      "source": [
        "# Evaluate the model\n",
        "# test_loss, test_accuracy = model.evaluate(X_test,y_domain_test)\n",
        "test_loss, test_accuracy = model_rnn.evaluate(X_test,y_lan_test)\n",
        "print('Test Accuracy:', test_accuracy)"
      ],
      "metadata": {
        "colab": {
          "base_uri": "https://localhost:8080/"
        },
        "id": "PLVdXgRsxxy2",
        "outputId": "2ca0d922-3a91-4e43-9fae-6ac7c457ef6d"
      },
      "execution_count": 49,
      "outputs": [
        {
          "output_type": "stream",
          "name": "stdout",
          "text": [
            "33/33 [==============================] - 0s 12ms/step - loss: 0.6881 - accuracy: 0.5736\n",
            "Test Accuracy: 0.5736284852027893\n"
          ]
        }
      ]
    },
    {
      "cell_type": "code",
      "source": [
        "!pip install tensorflow-addons\n"
      ],
      "metadata": {
        "colab": {
          "base_uri": "https://localhost:8080/"
        },
        "id": "ghrf2a3u3iAt",
        "outputId": "ab7fb721-785c-49a8-f83e-615e2a8accb0"
      },
      "execution_count": 52,
      "outputs": [
        {
          "output_type": "stream",
          "name": "stdout",
          "text": [
            "Collecting tensorflow-addons\n",
            "  Downloading tensorflow_addons-0.23.0-cp310-cp310-manylinux_2_17_x86_64.manylinux2014_x86_64.whl (611 kB)\n",
            "\u001b[?25l     \u001b[90m━━━━━━━━━━━━━━━━━━━━━━━━━━━━━━━━━━━━━━━━\u001b[0m \u001b[32m0.0/611.8 kB\u001b[0m \u001b[31m?\u001b[0m eta \u001b[36m-:--:--\u001b[0m\r\u001b[2K     \u001b[91m━━━━━━━━━━━━━━\u001b[0m\u001b[91m╸\u001b[0m\u001b[90m━━━━━━━━━━━━━━━━━━━━━━━━━\u001b[0m \u001b[32m225.3/611.8 kB\u001b[0m \u001b[31m6.6 MB/s\u001b[0m eta \u001b[36m0:00:01\u001b[0m\r\u001b[2K     \u001b[90m━━━━━━━━━━━━━━━━━━━━━━━━━━━━━━━━━━━━━━━━\u001b[0m \u001b[32m611.8/611.8 kB\u001b[0m \u001b[31m9.5 MB/s\u001b[0m eta \u001b[36m0:00:00\u001b[0m\n",
            "\u001b[?25hRequirement already satisfied: packaging in /usr/local/lib/python3.10/dist-packages (from tensorflow-addons) (24.0)\n",
            "Collecting typeguard<3.0.0,>=2.7 (from tensorflow-addons)\n",
            "  Downloading typeguard-2.13.3-py3-none-any.whl (17 kB)\n",
            "Installing collected packages: typeguard, tensorflow-addons\n",
            "Successfully installed tensorflow-addons-0.23.0 typeguard-2.13.3\n"
          ]
        }
      ]
    },
    {
      "cell_type": "code",
      "source": [
        "from tensorflow.keras import layers, models\n",
        "\n",
        "def create_transformer_model(input_shape, num_domain_classes, num_language_classes):\n",
        "    # Encoder\n",
        "    encoder_inputs = layers.Input(shape=input_shape)\n",
        "    encoder_dense = layers.Flatten()(encoder_inputs)\n",
        "    encoder_dense = layers.Dense(128, activation='relu')(encoder_dense)\n",
        "    encoder_dense = layers.Dropout(0.5)(encoder_dense)\n",
        "    encoder_output = layers.Dense(128, activation='relu')(encoder_dense)\n",
        "\n",
        "    # Decoder\n",
        "    decoder_inputs = layers.Input(shape=input_shape)\n",
        "    decoder_dense = layers.Flatten()(decoder_inputs)\n",
        "    decoder_dense = layers.Dense(128, activation='relu')(decoder_dense)\n",
        "    decoder_dense = layers.Dropout(0.5)(decoder_dense)\n",
        "    decoder_output = layers.Dense(128, activation='relu')(decoder_dense)\n",
        "\n",
        "    # Output layers\n",
        "    output = layers.Concatenate()([encoder_output, decoder_output])\n",
        "    output = layers.Dense(256, activation='relu')(output)\n",
        "    output = layers.Dropout(0.5)(output)\n",
        "    language_output = layers.Dense(num_language_classes, activation='softmax')(output)\n",
        "    # domain_output = layers.Dense(num_domain_classes, activation='softmax', name='domain_output')(output)\n",
        "\n",
        "    # Build and compile the model\n",
        "    model = models.Model(inputs=[encoder_inputs, decoder_inputs], outputs=language_output)\n",
        "    model.compile(optimizer='adam', loss='categorical_crossentropy', metrics=['accuracy'])\n",
        "\n",
        "    return model\n",
        "\n",
        "# Example usage\n",
        "input_shape = X_train.shape[1:]  # Input shape for the encoder\n",
        "\n",
        "print(input_shape)\n",
        "num_domain_classes = 10  # Number of domain classes\n",
        "num_language_classes = 2  # Number of language classes\n",
        "\n",
        "model_ts = create_transformer_model(input_shape, num_domain_classes, num_language_classes)\n",
        "model_ts.summary()\n"
      ],
      "metadata": {
        "colab": {
          "base_uri": "https://localhost:8080/"
        },
        "id": "wMeA53nZ-yft",
        "outputId": "8842865d-ee2f-4495-9a8e-2b65de4ee066"
      },
      "execution_count": 30,
      "outputs": [
        {
          "output_type": "stream",
          "name": "stdout",
          "text": [
            "(256, 128, 1)\n",
            "Model: \"model_3\"\n",
            "__________________________________________________________________________________________________\n",
            " Layer (type)                Output Shape                 Param #   Connected to                  \n",
            "==================================================================================================\n",
            " input_8 (InputLayer)        [(None, 256, 128, 1)]        0         []                            \n",
            "                                                                                                  \n",
            " input_9 (InputLayer)        [(None, 256, 128, 1)]        0         []                            \n",
            "                                                                                                  \n",
            " flatten_7 (Flatten)         (None, 32768)                0         ['input_8[0][0]']             \n",
            "                                                                                                  \n",
            " flatten_8 (Flatten)         (None, 32768)                0         ['input_9[0][0]']             \n",
            "                                                                                                  \n",
            " dense_20 (Dense)            (None, 128)                  4194432   ['flatten_7[0][0]']           \n",
            "                                                                                                  \n",
            " dense_22 (Dense)            (None, 128)                  4194432   ['flatten_8[0][0]']           \n",
            "                                                                                                  \n",
            " dropout_13 (Dropout)        (None, 128)                  0         ['dense_20[0][0]']            \n",
            "                                                                                                  \n",
            " dropout_14 (Dropout)        (None, 128)                  0         ['dense_22[0][0]']            \n",
            "                                                                                                  \n",
            " dense_21 (Dense)            (None, 128)                  16512     ['dropout_13[0][0]']          \n",
            "                                                                                                  \n",
            " dense_23 (Dense)            (None, 128)                  16512     ['dropout_14[0][0]']          \n",
            "                                                                                                  \n",
            " concatenate_3 (Concatenate  (None, 256)                  0         ['dense_21[0][0]',            \n",
            " )                                                                   'dense_23[0][0]']            \n",
            "                                                                                                  \n",
            " dense_24 (Dense)            (None, 256)                  65792     ['concatenate_3[0][0]']       \n",
            "                                                                                                  \n",
            " dropout_15 (Dropout)        (None, 256)                  0         ['dense_24[0][0]']            \n",
            "                                                                                                  \n",
            " dense_25 (Dense)            (None, 2)                    514       ['dropout_15[0][0]']          \n",
            "                                                                                                  \n",
            "==================================================================================================\n",
            "Total params: 8488194 (32.38 MB)\n",
            "Trainable params: 8488194 (32.38 MB)\n",
            "Non-trainable params: 0 (0.00 Byte)\n",
            "__________________________________________________________________________________________________\n"
          ]
        }
      ]
    },
    {
      "cell_type": "code",
      "source": [
        "history_ts = model_ts.fit([X_train, X_train], y_lan_train, validation_data=([X_val, X_val], y_lan_val), epochs=20, batch_size=32)"
      ],
      "metadata": {
        "colab": {
          "base_uri": "https://localhost:8080/"
        },
        "id": "Kpv7OyJI2-Qq",
        "outputId": "e78761d0-690f-4ffa-931e-3c420f42dcde"
      },
      "execution_count": 31,
      "outputs": [
        {
          "output_type": "stream",
          "name": "stdout",
          "text": [
            "Epoch 1/20\n",
            "61/61 [==============================] - 12s 160ms/step - loss: 0.6764 - accuracy: 0.6065 - val_loss: 0.5921 - val_accuracy: 0.7010\n",
            "Epoch 2/20\n",
            "61/61 [==============================] - 8s 124ms/step - loss: 0.5656 - accuracy: 0.7550 - val_loss: 0.6522 - val_accuracy: 0.6722\n",
            "Epoch 3/20\n",
            "61/61 [==============================] - 7s 122ms/step - loss: 0.4195 - accuracy: 0.8221 - val_loss: 0.7020 - val_accuracy: 0.6825\n",
            "Epoch 4/20\n",
            "61/61 [==============================] - 8s 126ms/step - loss: 0.2662 - accuracy: 0.8912 - val_loss: 0.9683 - val_accuracy: 0.6907\n",
            "Epoch 5/20\n",
            "61/61 [==============================] - 7s 114ms/step - loss: 0.1727 - accuracy: 0.9469 - val_loss: 0.8847 - val_accuracy: 0.7485\n",
            "Epoch 6/20\n",
            "61/61 [==============================] - 9s 142ms/step - loss: 0.1268 - accuracy: 0.9634 - val_loss: 1.0470 - val_accuracy: 0.7361\n",
            "Epoch 7/20\n",
            "61/61 [==============================] - 7s 116ms/step - loss: 0.1167 - accuracy: 0.9680 - val_loss: 1.2902 - val_accuracy: 0.7258\n",
            "Epoch 8/20\n",
            "61/61 [==============================] - 10s 170ms/step - loss: 0.0713 - accuracy: 0.9742 - val_loss: 1.4660 - val_accuracy: 0.7381\n",
            "Epoch 9/20\n",
            "61/61 [==============================] - 7s 112ms/step - loss: 0.0861 - accuracy: 0.9789 - val_loss: 1.3188 - val_accuracy: 0.7567\n",
            "Epoch 10/20\n",
            "61/61 [==============================] - 10s 167ms/step - loss: 0.0673 - accuracy: 0.9778 - val_loss: 1.6537 - val_accuracy: 0.7320\n",
            "Epoch 11/20\n",
            "61/61 [==============================] - 8s 133ms/step - loss: 0.0451 - accuracy: 0.9866 - val_loss: 1.5542 - val_accuracy: 0.7464\n",
            "Epoch 12/20\n",
            "61/61 [==============================] - 8s 131ms/step - loss: 0.0509 - accuracy: 0.9845 - val_loss: 1.6188 - val_accuracy: 0.7505\n",
            "Epoch 13/20\n",
            "61/61 [==============================] - 7s 120ms/step - loss: 0.0410 - accuracy: 0.9876 - val_loss: 1.8121 - val_accuracy: 0.7340\n",
            "Epoch 14/20\n",
            "61/61 [==============================] - 8s 129ms/step - loss: 0.0294 - accuracy: 0.9907 - val_loss: 1.8461 - val_accuracy: 0.7299\n",
            "Epoch 15/20\n",
            "61/61 [==============================] - 14s 233ms/step - loss: 0.0191 - accuracy: 0.9954 - val_loss: 1.8754 - val_accuracy: 0.7608\n",
            "Epoch 16/20\n",
            "61/61 [==============================] - 11s 180ms/step - loss: 0.0225 - accuracy: 0.9969 - val_loss: 1.9764 - val_accuracy: 0.7485\n",
            "Epoch 17/20\n",
            "61/61 [==============================] - 10s 157ms/step - loss: 0.0159 - accuracy: 0.9954 - val_loss: 2.3339 - val_accuracy: 0.7361\n",
            "Epoch 18/20\n",
            "61/61 [==============================] - 8s 137ms/step - loss: 0.0162 - accuracy: 0.9964 - val_loss: 2.2607 - val_accuracy: 0.7443\n",
            "Epoch 19/20\n",
            "61/61 [==============================] - 7s 115ms/step - loss: 0.0150 - accuracy: 0.9938 - val_loss: 2.3896 - val_accuracy: 0.7485\n",
            "Epoch 20/20\n",
            "61/61 [==============================] - 9s 143ms/step - loss: 0.0357 - accuracy: 0.9954 - val_loss: 2.2908 - val_accuracy: 0.7670\n"
          ]
        }
      ]
    },
    {
      "cell_type": "code",
      "source": [
        "# Assuming you have separate test data (X_test, y_lan_test)\n",
        "test_loss, test_accuracy = model_ts.evaluate([X_test, X_test], y_lan_test)\n",
        "\n",
        "print(f\"Test Loss: {test_loss:.4f}\")\n",
        "print(f\"Test Accuracy: {test_accuracy:.4f}\")"
      ],
      "metadata": {
        "colab": {
          "base_uri": "https://localhost:8080/"
        },
        "id": "6Bg2T9tN6LIA",
        "outputId": "865de214-a584-474f-8293-3c303a59f2e2"
      },
      "execution_count": 33,
      "outputs": [
        {
          "output_type": "stream",
          "name": "stdout",
          "text": [
            "33/33 [==============================] - 1s 21ms/step - loss: 2.6655 - accuracy: 0.7440\n",
            "Test Loss: 2.6655\n",
            "Test Accuracy: 0.7440\n"
          ]
        }
      ]
    },
    {
      "cell_type": "markdown",
      "source": [],
      "metadata": {
        "id": "niFJZ7SbVWqR"
      }
    },
    {
      "cell_type": "markdown",
      "source": [],
      "metadata": {
        "id": "8GOEwyQ1VWmk"
      }
    }
  ]
}