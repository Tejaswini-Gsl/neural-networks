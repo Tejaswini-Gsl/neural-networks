{
  "nbformat": 4,
  "nbformat_minor": 0,
  "metadata": {
    "colab": {
      "provenance": [],
      "gpuType": "T4",
      "authorship_tag": "ABX9TyOGgOzLTSX59AxkQJCojYMR",
      "include_colab_link": true
    },
    "kernelspec": {
      "name": "python3",
      "display_name": "Python 3"
    },
    "language_info": {
      "name": "python"
    },
    "accelerator": "GPU"
  },
  "cells": [
    {
      "cell_type": "markdown",
      "metadata": {
        "id": "view-in-github",
        "colab_type": "text"
      },
      "source": [
        "<a href=\"https://colab.research.google.com/github/Tejaswini-Gsl/neural-networks/blob/main/quiz.ipynb\" target=\"_parent\"><img src=\"https://colab.research.google.com/assets/colab-badge.svg\" alt=\"Open In Colab\"/></a>"
      ]
    },
    {
      "cell_type": "code",
      "execution_count": 1,
      "metadata": {
        "id": "QI35PZRBFcMd"
      },
      "outputs": [],
      "source": [
        "import pandas as pd\n",
        "import numpy as np\n",
        "import matplotlib.pyplot as plt\n",
        "import tensorflow as tf\n",
        "from tensorflow import keras\n",
        "from tensorflow.keras.optimizers import RMSprop, Adam\n",
        "from sklearn.metrics import ConfusionMatrixDisplay\n",
        "from tensorflow.keras.datasets import mnist\n",
        "from sklearn.metrics import accuracy_score\n",
        "from sklearn.metrics import classification_report, confusion_matrix\n",
        "import warnings\n",
        "warnings.filterwarnings(\"ignore\")"
      ]
    },
    {
      "cell_type": "code",
      "source": [
        "(x_train, y_train), (x_test, y_test) = mnist.load_data()"
      ],
      "metadata": {
        "id": "R5NOHcivFfHO",
        "colab": {
          "base_uri": "https://localhost:8080/"
        },
        "outputId": "ca9748da-fb8c-4c68-9f0a-1523d5c11e01"
      },
      "execution_count": 2,
      "outputs": [
        {
          "output_type": "stream",
          "name": "stdout",
          "text": [
            "Downloading data from https://storage.googleapis.com/tensorflow/tf-keras-datasets/mnist.npz\n",
            "11490434/11490434 [==============================] - 2s 0us/step\n"
          ]
        }
      ]
    },
    {
      "cell_type": "code",
      "source": [
        "classes = [\"zero\", \"one\", \"two\", \"three\", \"four\", \"five\", \"six\", \"seven\", \"eight\", \"nine\"]"
      ],
      "metadata": {
        "id": "UtT9nXkIFvmB"
      },
      "execution_count": 3,
      "outputs": []
    },
    {
      "cell_type": "code",
      "source": [
        "x_train = x_train.reshape(-1, 28, 28, 1) / 255.0\n",
        "x_test = x_test.reshape(-1, 28, 28, 1) / 255.0"
      ],
      "metadata": {
        "id": "Bi49bEz5F3d1"
      },
      "execution_count": 4,
      "outputs": []
    },
    {
      "cell_type": "code",
      "source": [
        "from tensorflow.keras.utils import to_categorical\n",
        "num_classes = 10\n",
        "# Preprocess the images\n",
        "y_train_one_hot = to_categorical(y_train, num_classes=num_classes)\n",
        "y_test_one_hot = to_categorical(y_test, num_classes=num_classes)"
      ],
      "metadata": {
        "id": "3CeULskuF4zC"
      },
      "execution_count": 12,
      "outputs": []
    },
    {
      "cell_type": "code",
      "source": [
        "x_test.shape,y_test_one_hot.shape"
      ],
      "metadata": {
        "colab": {
          "base_uri": "https://localhost:8080/"
        },
        "id": "c-XzBQJkF6nL",
        "outputId": "f9d9fc52-052d-4e0a-b3d2-b7bf6718be42"
      },
      "execution_count": 13,
      "outputs": [
        {
          "output_type": "execute_result",
          "data": {
            "text/plain": [
              "((10000, 28, 28, 1), (10000, 10))"
            ]
          },
          "metadata": {},
          "execution_count": 13
        }
      ]
    },
    {
      "cell_type": "code",
      "source": [
        "noise_factor = 0.5\n",
        "x_train_noisy = x_train + noise_factor * np.random.normal(loc=0.0, scale=1.0, size=x_train.shape)\n",
        "x_test_noisy = x_test + noise_factor * np.random.normal(loc=0.0, scale=1.0, size=x_test.shape)\n",
        "x_train_noisy = np.clip(x_train_noisy, 0., 1.)\n",
        "x_test_noisy = np.clip(x_test_noisy, 0., 1.)"
      ],
      "metadata": {
        "id": "i1gVxc30hu5o"
      },
      "execution_count": 14,
      "outputs": []
    },
    {
      "cell_type": "code",
      "source": [
        "x_train_1 = x_train_noisy.reshape((len(x_train_noisy), np.prod(x_train_noisy.shape[1:])))\n",
        "x_test_1 = x_test_noisy.reshape((len(x_test_noisy), np.prod(x_test_noisy.shape[1:])))\n"
      ],
      "metadata": {
        "id": "g1jC13xEl1b5"
      },
      "execution_count": 33,
      "outputs": []
    },
    {
      "cell_type": "code",
      "source": [
        "x_train_no_noise = x_train.reshape((len(x_train), np.prod(x_train.shape[1:])))\n",
        "x_test_no_noise = x_test.reshape((len(x_test), np.prod(x_test.shape[1:])))"
      ],
      "metadata": {
        "id": "wvjDzFWonh1e"
      },
      "execution_count": 39,
      "outputs": []
    },
    {
      "cell_type": "code",
      "source": [
        "x_test_1.shape"
      ],
      "metadata": {
        "colab": {
          "base_uri": "https://localhost:8080/"
        },
        "id": "mGWf2WynjEA0",
        "outputId": "0d3ac3e2-b940-43ce-9141-33d3eba4c698"
      },
      "execution_count": 34,
      "outputs": [
        {
          "output_type": "execute_result",
          "data": {
            "text/plain": [
              "(10000, 784)"
            ]
          },
          "metadata": {},
          "execution_count": 34
        }
      ]
    },
    {
      "cell_type": "code",
      "source": [
        "\n",
        "\n",
        "from keras.layers import Input, Dense\n",
        "from keras.models import Model"
      ],
      "metadata": {
        "id": "v-jL1pQkF8KX"
      },
      "execution_count": 35,
      "outputs": []
    },
    {
      "cell_type": "code",
      "source": [
        "encoding_dim = 32  # 32 floats -> compression of factor 24.5, assuming the input is 784 floats\n",
        "\n",
        "# this is our input placeholder\n",
        "input_img = Input(shape=(784,))\n",
        "hidden_Layer = Dense(128, activation='relu')(input_img)\n",
        "\n",
        "encoded = Dense(encoding_dim, activation='relu')(input_img)\n",
        "# hidden_Layer = Dense(128, activation='relu')(input_img)\n",
        "# \"decoded\" is the lossy reconstruction of the input\n",
        "decoded = Dense(784, activation='sigmoid')(encoded)\n",
        "# this model maps an input to its reconstruction\n",
        "autoencoder = Model(input_img, decoded)\n",
        "# this model maps an input to its encoded representation\n",
        "autoencoder.compile(optimizer='adadelta', loss='binary_crossentropy',metrics=['accuracy'])\n",
        "autoencoder.summary()\n"
      ],
      "metadata": {
        "colab": {
          "base_uri": "https://localhost:8080/"
        },
        "id": "lkm1cDJyF94T",
        "outputId": "990d9529-f3a6-4b8e-8156-609765b907de"
      },
      "execution_count": 41,
      "outputs": [
        {
          "output_type": "stream",
          "name": "stdout",
          "text": [
            "Model: \"model_12\"\n",
            "_________________________________________________________________\n",
            " Layer (type)                Output Shape              Param #   \n",
            "=================================================================\n",
            " input_9 (InputLayer)        [(None, 784)]             0         \n",
            "                                                                 \n",
            " dense_13 (Dense)            (None, 32)                25120     \n",
            "                                                                 \n",
            " dense_14 (Dense)            (None, 784)               25872     \n",
            "                                                                 \n",
            "=================================================================\n",
            "Total params: 50992 (199.19 KB)\n",
            "Trainable params: 50992 (199.19 KB)\n",
            "Non-trainable params: 0 (0.00 Byte)\n",
            "_________________________________________________________________\n"
          ]
        }
      ]
    },
    {
      "cell_type": "code",
      "source": [
        "encoded_input = Input(shape=(encoding_dim,))\n",
        "decoder_layer = autoencoder.layers[-1]\n",
        "encoder = Model(input_img, encoded)\n",
        "decoder = Model(encoded_input, decoder_layer(encoded_input))"
      ],
      "metadata": {
        "id": "opHhSsLwk6vC"
      },
      "execution_count": 42,
      "outputs": []
    },
    {
      "cell_type": "code",
      "source": [
        "history= autoencoder.fit(x_train_1, x_train_no_noise,\n",
        "                epochs=5,\n",
        "                batch_size=256,\n",
        "                shuffle=True,\n",
        "                validation_data=(x_test_1,x_test_no_noise))"
      ],
      "metadata": {
        "colab": {
          "base_uri": "https://localhost:8080/"
        },
        "id": "x5A1mkWbGmmV",
        "outputId": "565770d5-f103-464b-9c5d-db7b1c991772"
      },
      "execution_count": 43,
      "outputs": [
        {
          "output_type": "stream",
          "name": "stdout",
          "text": [
            "Epoch 1/5\n",
            "235/235 [==============================] - 2s 6ms/step - loss: 0.6939 - accuracy: 0.0017 - val_loss: 0.6937 - val_accuracy: 9.0000e-04\n",
            "Epoch 2/5\n",
            "235/235 [==============================] - 1s 6ms/step - loss: 0.6936 - accuracy: 0.0016 - val_loss: 0.6934 - val_accuracy: 9.0000e-04\n",
            "Epoch 3/5\n",
            "235/235 [==============================] - 1s 5ms/step - loss: 0.6932 - accuracy: 0.0016 - val_loss: 0.6930 - val_accuracy: 9.0000e-04\n",
            "Epoch 4/5\n",
            "235/235 [==============================] - 1s 5ms/step - loss: 0.6929 - accuracy: 0.0016 - val_loss: 0.6927 - val_accuracy: 0.0010\n",
            "Epoch 5/5\n",
            "235/235 [==============================] - 1s 4ms/step - loss: 0.6925 - accuracy: 0.0016 - val_loss: 0.6924 - val_accuracy: 0.0010\n"
          ]
        }
      ]
    },
    {
      "cell_type": "code",
      "source": [
        "encoded_input = Input(shape=(encoding_dim,))\n",
        "decoder_layer = autoencoder.layers[-1]\n",
        "encoder = Model(input_img, encoded)\n",
        "decoder = Model(encoded_input, decoder_layer(encoded_input))"
      ],
      "metadata": {
        "id": "c6S4_ohgopLc"
      },
      "execution_count": 44,
      "outputs": []
    },
    {
      "cell_type": "code",
      "source": [
        "encoded_imgs = encoder.predict(x_test_1)\n",
        "decoded_imgs = decoder.predict(encoded_imgs)\n",
        "\n",
        "import matplotlib.pyplot as plt\n",
        "\n",
        "n = 3\n",
        "plt.figure(figsize=(20, 4))\n",
        "for i in range(n):\n",
        "    # display original\n",
        "    ax = plt.subplot(2, n, i + 1)\n",
        "    plt.imshow(x_test[i].reshape(28, 28))\n",
        "    plt.gray()\n",
        "    ax.get_xaxis().set_visible(False)\n",
        "    ax.get_yaxis().set_visible(False)\n",
        "\n",
        "    # display reconstruction\n",
        "    ax = plt.subplot(2, n, i + 1 + n)\n",
        "    plt.imshow(decoded_imgs[i].reshape(28, 28))\n",
        "    plt.gray()\n",
        "    ax.get_xaxis().set_visible(False)\n",
        "    ax.get_yaxis().set_visible(False)\n",
        "plt.show()"
      ],
      "metadata": {
        "colab": {
          "base_uri": "https://localhost:8080/",
          "height": 381
        },
        "id": "0NswNR-vL5HG",
        "outputId": "068c507d-4e23-4112-cc08-f3643eb0372f"
      },
      "execution_count": 46,
      "outputs": [
        {
          "output_type": "stream",
          "name": "stdout",
          "text": [
            "313/313 [==============================] - 1s 2ms/step\n",
            "313/313 [==============================] - 0s 1ms/step\n"
          ]
        },
        {
          "output_type": "display_data",
          "data": {
            "text/plain": [
              "<Figure size 2000x400 with 6 Axes>"
            ],
            "image/png": "[encoded data removed]"
          },
          "metadata": {}
        }
      ]
    },
    {
      "cell_type": "code",
      "source": [
        "# history= autoencoder.fit(x_train_1, x_train_no_noise,\n",
        "#                 epochs=10,\n",
        "#                 batch_size=256,\n",
        "#                 shuffle=True,\n",
        "#                 validation_data=(x_test_1,x_test_no_noise))"
      ],
      "metadata": {
        "id": "THEt-jjDNaXZ"
      },
      "execution_count": null,
      "outputs": []
    },
    {
      "cell_type": "code",
      "source": [
        "# autoencoder.compile(optimizer='adadelta', loss='binary_crossentropy', metrics=['accuracy'])"
      ],
      "metadata": {
        "id": "LSNlOhYtqqVz"
      },
      "execution_count": null,
      "outputs": []
    },
    {
      "cell_type": "code",
      "source": [
        "!pip install keras-tuner --upgrade"
      ],
      "metadata": {
        "colab": {
          "base_uri": "https://localhost:8080/"
        },
        "id": "tyP17EEtshp5",
        "outputId": "22ba14dd-04d7-4b4f-ee96-2afcab9e07d0"
      },
      "execution_count": 48,
      "outputs": [
        {
          "output_type": "stream",
          "name": "stdout",
          "text": [
            "Collecting keras-tuner\n",
            "  Downloading keras_tuner-1.4.7-py3-none-any.whl (129 kB)\n",
            "\u001b[?25l     \u001b[90m━━━━━━━━━━━━━━━━━━━━━━━━━━━━━━━━━━━━━━━━\u001b[0m \u001b[32m0.0/129.1 kB\u001b[0m \u001b[31m?\u001b[0m eta \u001b[36m-:--:--\u001b[0m\r\u001b[2K     \u001b[90m━━━━━━━━━━━━━━━━━━━━━━━━━━━━━━━━━━━━━━━━\u001b[0m \u001b[32m129.1/129.1 kB\u001b[0m \u001b[31m3.8 MB/s\u001b[0m eta \u001b[36m0:00:00\u001b[0m\n",
            "\u001b[?25hRequirement already satisfied: keras in /usr/local/lib/python3.10/dist-packages (from keras-tuner) (2.15.0)\n",
            "Requirement already satisfied: packaging in /usr/local/lib/python3.10/dist-packages (from keras-tuner) (24.0)\n",
            "Requirement already satisfied: requests in /usr/local/lib/python3.10/dist-packages (from keras-tuner) (2.31.0)\n",
            "Collecting kt-legacy (from keras-tuner)\n",
            "  Downloading kt_legacy-1.0.5-py3-none-any.whl (9.6 kB)\n",
            "Requirement already satisfied: charset-normalizer<4,>=2 in /usr/local/lib/python3.10/dist-packages (from requests->keras-tuner) (3.3.2)\n",
            "Requirement already satisfied: idna<4,>=2.5 in /usr/local/lib/python3.10/dist-packages (from requests->keras-tuner) (3.6)\n",
            "Requirement already satisfied: urllib3<3,>=1.21.1 in /usr/local/lib/python3.10/dist-packages (from requests->keras-tuner) (2.0.7)\n",
            "Requirement already satisfied: certifi>=2017.4.17 in /usr/local/lib/python3.10/dist-packages (from requests->keras-tuner) (2024.2.2)\n",
            "Installing collected packages: kt-legacy, keras-tuner\n",
            "Successfully installed keras-tuner-1.4.7 kt-legacy-1.0.5\n"
          ]
        }
      ]
    },
    {
      "cell_type": "code",
      "source": [
        "import keras\n",
        "from keras.layers import Input, Dense\n",
        "from keras.models import Model\n",
        "from keras.optimizers import Adadelta\n",
        "from kerastuner import HyperModel, RandomSearch\n",
        "\n",
        "# Define a hypermodel class\n",
        "class AutoencoderHyperModel(HyperModel):\n",
        "    def __init__(self, input_shape):\n",
        "        self.input_shape = input_shape\n",
        "\n",
        "    def build(self, hp):\n",
        "        input_img = Input(shape=(self.input_shape,))\n",
        "        encoding_dim = hp.Int('encoding_dim', min_value=16, max_value=128, step=16)\n",
        "\n",
        "        # Encoder\n",
        "        encoded = Dense(encoding_dim, activation='relu')(input_img)\n",
        "\n",
        "        # Decoder\n",
        "        decoded = Dense(784, activation='sigmoid')(encoded)\n",
        "\n",
        "        # Autoencoder model\n",
        "        autoencoder = Model(input_img, decoded)\n",
        "\n",
        "        # Compile the model\n",
        "        lr = hp.Float('learning_rate', min_value=1e-4, max_value=1e-2, sampling='log')\n",
        "        optimizer = Adadelta(learning_rate=lr)\n",
        "        autoencoder.compile(optimizer=optimizer, loss='binary_crossentropy', metrics=['accuracy'])\n",
        "\n",
        "        return autoencoder\n",
        "\n",
        "# Instantiate the hypermodel\n",
        "input_shape = 784\n",
        "hypermodel = AutoencoderHyperModel(input_shape=input_shape)\n",
        "\n",
        "# Tuner configuration\n",
        "tuner = RandomSearch(\n",
        "    hypermodel,\n",
        "    objective='val_loss',\n",
        "    max_trials=10,\n",
        "    executions_per_trial=2,\n",
        "    directory='autoencoder_tuning',\n",
        "    project_name='autoencoder_optimization'\n",
        ")\n",
        "\n",
        "# Data needs to be provided by the user\n",
        "# For example:\n",
        "# (x_train, _), (x_test, _) = keras.datasets.mnist.load_data()\n",
        "# x_train = x_train.astype('float32') / 255.\n",
        "# x_test = x_test.astype('float32') / 255.\n",
        "# x_train = x_train.reshape((len(x_train), np.prod(x_train.shape[1:])))\n",
        "# x_test = x_test.reshape((len(x_test), np.prod(x_test.shape[1:])))\n",
        "\n",
        "# Start the search for the best hyperparameters\n",
        "tuner.search(x_test_1,x_test_no_noise,\n",
        "             epochs=10,\n",
        "             validation_data=(x_test_1,x_test_no_noise))\n",
        "\n",
        "# Get the best model\n",
        "best_model = tuner.get_best_models(num_models=1)[0]\n",
        "best_model.summary()\n"
      ],
      "metadata": {
        "colab": {
          "base_uri": "https://localhost:8080/"
        },
        "id": "WiLRUUsYsIUo",
        "outputId": "4f4ad240-1520-4ec5-c559-14aa533aee9b"
      },
      "execution_count": null,
      "outputs": [
        {
          "output_type": "stream",
          "name": "stdout",
          "text": [
            "Trial 3 Complete [00h 01m 24s]\n",
            "val_loss: 0.695538341999054\n",
            "\n",
            "Best val_loss So Far: 0.695538341999054\n",
            "Total elapsed time: 00h 06m 48s\n",
            "\n",
            "Search: Running Trial #4\n",
            "\n",
            "Value             |Best Value So Far |Hyperparameter\n",
            "16                |128               |encoding_dim\n",
            "0.00053726        |0.00031605        |learning_rate\n",
            "\n",
            "Epoch 1/10\n",
            "313/313 [==============================] - 3s 6ms/step - loss: 0.6938 - accuracy: 0.0023 - val_loss: 0.6937 - val_accuracy: 0.0023\n",
            "Epoch 2/10\n",
            "313/313 [==============================] - 2s 5ms/step - loss: 0.6937 - accuracy: 0.0023 - val_loss: 0.6936 - val_accuracy: 0.0022\n",
            "Epoch 3/10\n",
            "313/313 [==============================] - 2s 7ms/step - loss: 0.6936 - accuracy: 0.0022 - val_loss: 0.6935 - val_accuracy: 0.0022\n",
            "Epoch 4/10\n",
            "313/313 [==============================] - 3s 8ms/step - loss: 0.6935 - accuracy: 0.0022 - val_loss: 0.6934 - val_accuracy: 0.0022\n",
            "Epoch 5/10\n",
            "313/313 [==============================] - 2s 7ms/step - loss: 0.6934 - accuracy: 0.0022 - val_loss: 0.6933 - val_accuracy: 0.0022\n",
            "Epoch 6/10\n",
            "313/313 [==============================] - 2s 5ms/step - loss: 0.6933 - accuracy: 0.0022 - val_loss: 0.6932 - val_accuracy: 0.0023\n",
            "Epoch 7/10\n",
            "313/313 [==============================] - 2s 5ms/step - loss: 0.6932 - accuracy: 0.0023 - val_loss: 0.6931 - val_accuracy: 0.0023\n",
            "Epoch 8/10\n",
            "313/313 [==============================] - 2s 5ms/step - loss: 0.6931 - accuracy: 0.0023 - val_loss: 0.6930 - val_accuracy: 0.0023\n",
            "Epoch 9/10\n",
            "313/313 [==============================] - 2s 7ms/step - loss: 0.6930 - accuracy: 0.0022 - val_loss: 0.6929 - val_accuracy: 0.0022\n",
            "Epoch 10/10\n",
            "313/313 [==============================] - 3s 8ms/step - loss: 0.6929 - accuracy: 0.0022 - val_loss: 0.6928 - val_accuracy: 0.0023\n",
            "Epoch 1/10\n",
            "313/313 [==============================] - 3s 7ms/step - loss: 0.6933 - accuracy: 5.0000e-04 - val_loss: 0.6932 - val_accuracy: 4.0000e-04\n",
            "Epoch 2/10\n",
            "313/313 [==============================] - 2s 7ms/step - loss: 0.6932 - accuracy: 4.0000e-04 - val_loss: 0.6931 - val_accuracy: 4.0000e-04\n",
            "Epoch 3/10\n",
            "313/313 [==============================] - 2s 7ms/step - loss: 0.6931 - accuracy: 5.0000e-04 - val_loss: 0.6930 - val_accuracy: 5.0000e-04\n",
            "Epoch 4/10\n",
            "313/313 [==============================] - 2s 5ms/step - loss: 0.6930 - accuracy: 5.0000e-04 - val_loss: 0.6929 - val_accuracy: 5.0000e-04\n",
            "Epoch 5/10\n",
            "313/313 [==============================] - 2s 7ms/step - loss: 0.6929 - accuracy: 5.0000e-04 - val_loss: 0.6928 - val_accuracy: 5.0000e-04\n",
            "Epoch 6/10\n",
            "313/313 [==============================] - 3s 8ms/step - loss: 0.6928 - accuracy: 5.0000e-04 - val_loss: 0.6927 - val_accuracy: 5.0000e-04\n",
            "Epoch 7/10\n",
            "313/313 [==============================] - 2s 5ms/step - loss: 0.6927 - accuracy: 6.0000e-04 - val_loss: 0.6926 - val_accuracy: 6.0000e-04\n",
            "Epoch 8/10\n",
            "313/313 [==============================] - 2s 5ms/step - loss: 0.6926 - accuracy: 6.0000e-04 - val_loss: 0.6925 - val_accuracy: 6.0000e-04\n",
            "Epoch 9/10\n",
            "313/313 [==============================] - 2s 7ms/step - loss: 0.6925 - accuracy: 6.0000e-04 - val_loss: 0.6924 - val_accuracy: 6.0000e-04\n",
            "Epoch 10/10\n",
            "312/313 [============================>.] - ETA: 0s - loss: 0.6924 - accuracy: 6.0096e-04"
          ]
        }
      ]
    },
    {
      "cell_type": "code",
      "source": [],
      "metadata": {
        "id": "wLKi8KRDr06n"
      },
      "execution_count": null,
      "outputs": []
    }
  ]
}