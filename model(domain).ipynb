{
  "nbformat": 4,
  "nbformat_minor": 0,
  "metadata": {
    "colab": {
      "provenance": [],
      "gpuType": "T4",
      "mount_file_id": "1ENuZSv8Eqfh2nKS5WD0tplgf0sV7z1xO",
      "authorship_tag": "ABX9TyPnEdTEbjItj26q9HIIJYEx",
      "include_colab_link": true
    },
    "kernelspec": {
      "name": "python3",
      "display_name": "Python 3"
    },
    "language_info": {
      "name": "python"
    },
    "accelerator": "GPU"
  },
  "cells": [
    {
      "cell_type": "markdown",
      "metadata": {
        "id": "view-in-github",
        "colab_type": "text"
      },
      "source": [
        "<a href=\"https://colab.research.google.com/github/Tejaswini-Gsl/neural-networks/blob/main/model(domain).ipynb\" target=\"_parent\"><img src=\"https://colab.research.google.com/assets/colab-badge.svg\" alt=\"Open In Colab\"/></a>"
      ]
    },
    {
      "cell_type": "code",
      "execution_count": 53,
      "metadata": {
        "id": "SE7V6nJu0kQm"
      },
      "outputs": [],
      "source": [
        "import numpy as np\n",
        "import matplotlib.pyplot as plt\n",
        "import pandas as pd\n",
        "import scipy as sp\n",
        "import os\n",
        "import librosa as lr\n",
        "import shutil\n",
        "import dask.array as da\n",
        "import h5py\n",
        "import glob\n",
        "# import resampy\n",
        "import imageio\n",
        "from PIL import Image\n"
      ]
    },
    {
      "cell_type": "markdown",
      "source": [
        "importing datasets"
      ],
      "metadata": {
        "id": "-ZdsQRB6InCF"
      }
    },
    {
      "cell_type": "code",
      "source": [
        "# importing english dataset\n",
        "\n",
        "other_df_en = pd.read_csv('/content/drive/MyDrive/neural dataset/en/other.tsv', sep='\\t')\n",
        "validate_sen_df_en = pd.read_csv('/content/drive/MyDrive/neural dataset/en/validated.tsv', sep='\\t')\n",
        "unvalidate_sen_df_en = pd.read_csv('/content/drive/MyDrive/neural dataset/en/invalidated.tsv', sep='\\t')\n",
        "\n",
        "other_df_ca = pd.read_csv('/content/drive/MyDrive/neural dataset/ca/other.tsv', sep='\\t')\n",
        "validate_sen_df_ca = pd.read_csv('/content/drive/MyDrive/neural dataset/ca/validated.tsv', sep='\\t')\n",
        "unvalidate_sen_df_ca = pd.read_csv('/content/drive/MyDrive/neural dataset/ca/invalidated.tsv', sep='\\t')\n",
        "\n",
        "print(validate_sen_df_en.shape,validate_sen_df_ca.shape)\n",
        "print(\"values of en:\",other_df_en['sentence_domain'].notnull().sum(),validate_sen_df_en['sentence_domain'].notnull().sum(),unvalidate_sen_df_en['sentence_domain'].notnull().sum())\n",
        "print(\"values of ca:\",other_df_ca['sentence_domain'].notnull().sum(),validate_sen_df_ca['sentence_domain'].notnull().sum(),unvalidate_sen_df_ca['sentence_domain'].notnull().sum())"
      ],
      "metadata": {
        "id": "flF-89SvJnHe",
        "colab": {
          "base_uri": "https://localhost:8080/"
        },
        "outputId": "a6e965da-a392-4300-a529-bf7caeca1fcd"
      },
      "execution_count": 3,
      "outputs": [
        {
          "output_type": "stream",
          "name": "stdout",
          "text": [
            "(1877, 13) (1586, 13)\n",
            "values of en: 102 1 1\n",
            "values of ca: 219 2 0\n"
          ]
        }
      ]
    },
    {
      "cell_type": "markdown",
      "source": [
        "data preprocessing"
      ],
      "metadata": {
        "id": "r-mc0KkvIzVO"
      }
    },
    {
      "cell_type": "code",
      "source": [
        "def cleaned_data(other_df,validate_sen_df,unvalidate_sen_df,lan): # combining different df wrt language(en,ca)\n",
        "  other_df_cleaned = other_df.dropna(subset=['sentence_domain'], inplace=False)\n",
        "  validate_sen_df_cleaned = validate_sen_df.dropna(subset=['sentence_domain'], inplace=False)\n",
        "  unvalidate_sen_df_cleaned = unvalidate_sen_df.dropna(subset=['sentence_domain'], inplace=False)\n",
        "  print(other_df_cleaned.shape,validate_sen_df_cleaned.shape,unvalidate_sen_df_cleaned.shape)\n",
        "  result = pd.concat([other_df_cleaned,validate_sen_df_cleaned,unvalidate_sen_df_cleaned], axis=0)\n",
        "  print(result.shape)\n",
        "  file_path = \"/content/drive/MyDrive/neural dataset/{}/other_cleaned.tsv\".format(lan)\n",
        "  result.to_csv(file_path, sep='\\t', index=False)\n",
        "  return(result)\n",
        "\n",
        "df_en = cleaned_data(other_df_en,validate_sen_df_en,unvalidate_sen_df_en,'en')\n",
        "df_ca = pd.read_csv('/content/drive/MyDrive/neural dataset/ca/other_cleaned.tsv', sep='\\t') #[:102]\n",
        "df_ca.shape"
      ],
      "metadata": {
        "id": "K0PdoXwfBSdL",
        "colab": {
          "base_uri": "https://localhost:8080/"
        },
        "outputId": "25122408-9b2e-477d-b45f-c10f2df266f6"
      },
      "execution_count": 38,
      "outputs": [
        {
          "output_type": "stream",
          "name": "stdout",
          "text": [
            "(102, 13) (1, 13) (1, 13)\n",
            "(104, 13)\n"
          ]
        },
        {
          "output_type": "execute_result",
          "data": {
            "text/plain": [
              "(221, 13)"
            ]
          },
          "metadata": {},
          "execution_count": 38
        }
      ]
    },
    {
      "cell_type": "markdown",
      "source": [
        "(optional) moving mp3 files to different folders based on path"
      ],
      "metadata": {
        "id": "maRlVx6KJci2"
      }
    },
    {
      "cell_type": "code",
      "source": [
        "# import os\n",
        "# import shutil\n",
        "\n",
        "# def allclips(df,lan):\n",
        "#   # Source folder containing the MP3 files\n",
        "\n",
        "#   path = '/content/drive/MyDrive/neural dataset/{}/clips'.format(lan)\n",
        "#   source_folder = path\n",
        "\n",
        "#   # Destination folder where MP3 files will be moved\n",
        "#   destination_folder = '/content/drive/MyDrive/neural dataset/allclips'\n",
        "\n",
        "#   # Create destination folder if it doesn't exist\n",
        "#   os.makedirs(destination_folder, exist_ok=True)\n",
        "\n",
        "#   # Loop through each row in the DataFrame\n",
        "#   for index, row in df.iterrows():\n",
        "#       # Extract the MP3 file name from the 'path' column\n",
        "#       mp3_file = os.path.basename(row['path'])\n",
        "\n",
        "#       # Construct the full path of the MP3 file in the source folder\n",
        "#       source_path = os.path.join(source_folder, mp3_file)\n",
        "\n",
        "#       # Construct the full path of the MP3 file in the destination folder\n",
        "#       destination_path = os.path.join(destination_folder, mp3_file)\n",
        "\n",
        "#       # Check if the MP3 file exists in the source folder\n",
        "#       if os.path.exists(source_path):\n",
        "#           # Move the MP3 file from the source folder to the destination folder\n",
        "#           shutil.move(source_path, destination_path)\n",
        "#           print(f\"Moved {mp3_file} to {destination_folder}\")\n",
        "#       else:\n",
        "#           print(f\"MP3 file {mp3_file} not found in the source folder\")\n",
        "\n",
        "#   print(\"All MP3 files have been moved.\")\n",
        "\n",
        "\n",
        "# allclips(df_en,'en')\n",
        "# # allclips(df_de,'de')\n"
      ],
      "metadata": {
        "id": "bDzW-xxD7vxa"
      },
      "execution_count": null,
      "outputs": []
    },
    {
      "cell_type": "code",
      "source": [
        "df_total = pd.concat([df_en,df_ca], axis=0)  # combining language(en,ca) df into\n",
        "df_total.head(1)"
      ],
      "metadata": {
        "colab": {
          "base_uri": "https://localhost:8080/",
          "height": 187
        },
        "id": "3NNYvWFUH-_R",
        "outputId": "83ed9402-8098-41ce-94ae-c02e61507b91"
      },
      "execution_count": 40,
      "outputs": [
        {
          "output_type": "execute_result",
          "data": {
            "text/plain": [
              "                                               client_id  \\\n",
              "31964  044c70753ccd50c9bf6711e2344eb264c8ef5064960e38...   \n",
              "\n",
              "                               path  \\\n",
              "31964  common_voice_en_40031175.mp3   \n",
              "\n",
              "                                             sentence_id  \\\n",
              "31964  806fb5a822d00a7181769805509a97076ff51bf252dd06...   \n",
              "\n",
              "                                                sentence      sentence_domain  \\\n",
              "31964  I would like to install Alpine Linux on my com...  technology_robotics   \n",
              "\n",
              "       up_votes  down_votes  age gender accents variant locale  segment  \n",
              "31964         0           0  NaN    NaN     NaN     NaN     en      NaN  "
            ],
            "text/html": [
              "\n",
              "  <div id=\"df-b2389363-e646-478e-8bc9-e6034d0ad8f3\" class=\"colab-df-container\">\n",
              "    <div>\n",
              "<style scoped>\n",
              "    .dataframe tbody tr th:only-of-type {\n",
              "        vertical-align: middle;\n",
              "    }\n",
              "\n",
              "    .dataframe tbody tr th {\n",
              "        vertical-align: top;\n",
              "    }\n",
              "\n",
              "    .dataframe thead th {\n",
              "        text-align: right;\n",
              "    }\n",
              "</style>\n",
              "<table border=\"1\" class=\"dataframe\">\n",
              "  <thead>\n",
              "    <tr style=\"text-align: right;\">\n",
              "      <th></th>\n",
              "      <th>client_id</th>\n",
              "      <th>path</th>\n",
              "      <th>sentence_id</th>\n",
              "      <th>sentence</th>\n",
              "      <th>sentence_domain</th>\n",
              "      <th>up_votes</th>\n",
              "      <th>down_votes</th>\n",
              "      <th>age</th>\n",
              "      <th>gender</th>\n",
              "      <th>accents</th>\n",
              "      <th>variant</th>\n",
              "      <th>locale</th>\n",
              "      <th>segment</th>\n",
              "    </tr>\n",
              "  </thead>\n",
              "  <tbody>\n",
              "    <tr>\n",
              "      <th>31964</th>\n",
              "      <td>044c70753ccd50c9bf6711e2344eb264c8ef5064960e38...</td>\n",
              "      <td>common_voice_en_40031175.mp3</td>\n",
              "      <td>806fb5a822d00a7181769805509a97076ff51bf252dd06...</td>\n",
              "      <td>I would like to install Alpine Linux on my com...</td>\n",
              "      <td>technology_robotics</td>\n",
              "      <td>0</td>\n",
              "      <td>0</td>\n",
              "      <td>NaN</td>\n",
              "      <td>NaN</td>\n",
              "      <td>NaN</td>\n",
              "      <td>NaN</td>\n",
              "      <td>en</td>\n",
              "      <td>NaN</td>\n",
              "    </tr>\n",
              "  </tbody>\n",
              "</table>\n",
              "</div>\n",
              "    <div class=\"colab-df-buttons\">\n",
              "\n",
              "  <div class=\"colab-df-container\">\n",
              "    <button class=\"colab-df-convert\" onclick=\"convertToInteractive('df-b2389363-e646-478e-8bc9-e6034d0ad8f3')\"\n",
              "            title=\"Convert this dataframe to an interactive table.\"\n",
              "            style=\"display:none;\">\n",
              "\n",
              "  <svg xmlns=\"http://www.w3.org/2000/svg\" height=\"24px\" viewBox=\"0 -960 960 960\">\n",
              "    <path d=\"M120-120v-720h720v720H120Zm60-500h600v-160H180v160Zm220 220h160v-160H400v160Zm0 220h160v-160H400v160ZM180-400h160v-160H180v160Zm440 0h160v-160H620v160ZM180-180h160v-160H180v160Zm440 0h160v-160H620v160Z\"/>\n",
              "  </svg>\n",
              "    </button>\n",
              "\n",
              "  <style>\n",
              "    .colab-df-container {\n",
              "      display:flex;\n",
              "      gap: 12px;\n",
              "    }\n",
              "\n",
              "    .colab-df-convert {\n",
              "      background-color: #E8F0FE;\n",
              "      border: none;\n",
              "      border-radius: 50%;\n",
              "      cursor: pointer;\n",
              "      display: none;\n",
              "      fill: #1967D2;\n",
              "      height: 32px;\n",
              "      padding: 0 0 0 0;\n",
              "      width: 32px;\n",
              "    }\n",
              "\n",
              "    .colab-df-convert:hover {\n",
              "      background-color: #E2EBFA;\n",
              "      box-shadow: 0px 1px 2px rgba(60, 64, 67, 0.3), 0px 1px 3px 1px rgba(60, 64, 67, 0.15);\n",
              "      fill: #174EA6;\n",
              "    }\n",
              "\n",
              "    .colab-df-buttons div {\n",
              "      margin-bottom: 4px;\n",
              "    }\n",
              "\n",
              "    [theme=dark] .colab-df-convert {\n",
              "      background-color: #3B4455;\n",
              "      fill: #D2E3FC;\n",
              "    }\n",
              "\n",
              "    [theme=dark] .colab-df-convert:hover {\n",
              "      background-color: #434B5C;\n",
              "      box-shadow: 0px 1px 3px 1px rgba(0, 0, 0, 0.15);\n",
              "      filter: drop-shadow(0px 1px 2px rgba(0, 0, 0, 0.3));\n",
              "      fill: #FFFFFF;\n",
              "    }\n",
              "  </style>\n",
              "\n",
              "    <script>\n",
              "      const buttonEl =\n",
              "        document.querySelector('#df-b2389363-e646-478e-8bc9-e6034d0ad8f3 button.colab-df-convert');\n",
              "      buttonEl.style.display =\n",
              "        google.colab.kernel.accessAllowed ? 'block' : 'none';\n",
              "\n",
              "      async function convertToInteractive(key) {\n",
              "        const element = document.querySelector('#df-b2389363-e646-478e-8bc9-e6034d0ad8f3');\n",
              "        const dataTable =\n",
              "          await google.colab.kernel.invokeFunction('convertToInteractive',\n",
              "                                                    [key], {});\n",
              "        if (!dataTable) return;\n",
              "\n",
              "        const docLinkHtml = 'Like what you see? Visit the ' +\n",
              "          '<a target=\"_blank\" href=https://colab.research.google.com/notebooks/data_table.ipynb>data table notebook</a>'\n",
              "          + ' to learn more about interactive tables.';\n",
              "        element.innerHTML = '';\n",
              "        dataTable['output_type'] = 'display_data';\n",
              "        await google.colab.output.renderOutput(dataTable, element);\n",
              "        const docLink = document.createElement('div');\n",
              "        docLink.innerHTML = docLinkHtml;\n",
              "        element.appendChild(docLink);\n",
              "      }\n",
              "    </script>\n",
              "  </div>\n",
              "\n",
              "\n",
              "    </div>\n",
              "  </div>\n"
            ],
            "application/vnd.google.colaboratory.intrinsic+json": {
              "type": "dataframe",
              "variable_name": "df_total",
              "summary": "{\n  \"name\": \"df_total\",\n  \"rows\": 325,\n  \"fields\": [\n    {\n      \"column\": \"client_id\",\n      \"properties\": {\n        \"dtype\": \"category\",\n        \"num_unique_values\": 76,\n        \"samples\": [\n          \"a97730f86fa90560ae105669364412a9ad393b32839d0151236604af188212aab60bf5168a7975fdd0a448dd3131543f5c0032e737a7164b41e9d9d85ffd6660\",\n          \"ff8126e82115aa579ced358a14777739a3707cedf80c9c1f6aa7e338c02ea9ff1f06928bb0b01ad558e02e6630d06f38efb0c450c0adffc1b02a4767f57aba82\",\n          \"97958ec946d28431fedc12282d784edd0e2089ccd7d841a7b878955026c9eeca4ebc718c879c10a39edf1ba3d9438b10ccd167b43bcff5f48472d9daab5dea40\"\n        ],\n        \"semantic_type\": \"\",\n        \"description\": \"\"\n      }\n    },\n    {\n      \"column\": \"path\",\n      \"properties\": {\n        \"dtype\": \"string\",\n        \"num_unique_values\": 325,\n        \"samples\": [\n          \"common_voice_ca_40100351.mp3\",\n          \"common_voice_ca_40063787.mp3\",\n          \"common_voice_ca_40104548.mp3\"\n        ],\n        \"semantic_type\": \"\",\n        \"description\": \"\"\n      }\n    },\n    {\n      \"column\": \"sentence_id\",\n      \"properties\": {\n        \"dtype\": \"string\",\n        \"num_unique_values\": 218,\n        \"samples\": [\n          \"1bf4f6a9dccd3a3135f3e88385d0992ae536ae15a4b8893e01b521704e2a485e\",\n          \"5fe50b1bc4ace246cca4b8435dab5b0704f5702ef1ed0b69f1aade8a84fb587e\",\n          \"746fe79c6d6d182c0ac8420b1f686dc0ebc7b42be5a5171ae6eb460ccc89f86b\"\n        ],\n        \"semantic_type\": \"\",\n        \"description\": \"\"\n      }\n    },\n    {\n      \"column\": \"sentence\",\n      \"properties\": {\n        \"dtype\": \"string\",\n        \"num_unique_values\": 218,\n        \"samples\": [\n          \"I always wanted to say something to you... I am a duck!\",\n          \"T'agraden m\\u00e9s els de vent o els de l'Empord\\u00e0?\",\n          \"Has estat mai al monestir de Vallbona de les Monges?\"\n        ],\n        \"semantic_type\": \"\",\n        \"description\": \"\"\n      }\n    },\n    {\n      \"column\": \"sentence_domain\",\n      \"properties\": {\n        \"dtype\": \"category\",\n        \"num_unique_values\": 11,\n        \"samples\": [\n          \"news_current_affairs\",\n          \"technology_robotics\",\n          \"language_fundamentals\"\n        ],\n        \"semantic_type\": \"\",\n        \"description\": \"\"\n      }\n    },\n    {\n      \"column\": \"up_votes\",\n      \"properties\": {\n        \"dtype\": \"number\",\n        \"std\": 0,\n        \"min\": 0,\n        \"max\": 3,\n        \"num_unique_values\": 4,\n        \"samples\": [\n          1,\n          2,\n          0\n        ],\n        \"semantic_type\": \"\",\n        \"description\": \"\"\n      }\n    },\n    {\n      \"column\": \"down_votes\",\n      \"properties\": {\n        \"dtype\": \"number\",\n        \"std\": 0,\n        \"min\": 0,\n        \"max\": 2,\n        \"num_unique_values\": 3,\n        \"samples\": [\n          0,\n          1,\n          2\n        ],\n        \"semantic_type\": \"\",\n        \"description\": \"\"\n      }\n    },\n    {\n      \"column\": \"age\",\n      \"properties\": {\n        \"dtype\": \"category\",\n        \"num_unique_values\": 7,\n        \"samples\": [\n          \"fourties\",\n          \"sixties\",\n          \"fifties\"\n        ],\n        \"semantic_type\": \"\",\n        \"description\": \"\"\n      }\n    },\n    {\n      \"column\": \"gender\",\n      \"properties\": {\n        \"dtype\": \"category\",\n        \"num_unique_values\": 3,\n        \"samples\": [\n          \"female_feminine\",\n          \"male_masculine\",\n          \"transgender\"\n        ],\n        \"semantic_type\": \"\",\n        \"description\": \"\"\n      }\n    },\n    {\n      \"column\": \"accents\",\n      \"properties\": {\n        \"dtype\": \"category\",\n        \"num_unique_values\": 24,\n        \"samples\": [\n          \"England English\",\n          \"German English,Non native speaker\",\n          \"Scottish English\"\n        ],\n        \"semantic_type\": \"\",\n        \"description\": \"\"\n      }\n    },\n    {\n      \"column\": \"variant\",\n      \"properties\": {\n        \"dtype\": \"category\",\n        \"num_unique_values\": 2,\n        \"samples\": [\n          \"Tortos\\u00ed\",\n          \"Central\"\n        ],\n        \"semantic_type\": \"\",\n        \"description\": \"\"\n      }\n    },\n    {\n      \"column\": \"locale\",\n      \"properties\": {\n        \"dtype\": \"category\",\n        \"num_unique_values\": 2,\n        \"samples\": [\n          \"ca\",\n          \"en\"\n        ],\n        \"semantic_type\": \"\",\n        \"description\": \"\"\n      }\n    },\n    {\n      \"column\": \"segment\",\n      \"properties\": {\n        \"dtype\": \"number\",\n        \"std\": null,\n        \"min\": null,\n        \"max\": null,\n        \"num_unique_values\": 0,\n        \"samples\": [],\n        \"semantic_type\": \"\",\n        \"description\": \"\"\n      }\n    }\n  ]\n}"
            }
          },
          "metadata": {},
          "execution_count": 40
        }
      ]
    },
    {
      "cell_type": "code",
      "source": [
        "def load_audio(file_path, sr=16000): #Load an audio file into an array.\n",
        "    data,sr = lr.load(file_path)\n",
        "    return data\n",
        "\n",
        "\n",
        "df_total['audio'] = df_total['path'].apply(lambda x: load_audio(f'/content/drive/MyDrive/neural dataset/allclips/{x}'))"
      ],
      "metadata": {
        "id": "-77Rrnu91GaZ"
      },
      "execution_count": 45,
      "outputs": []
    },
    {
      "cell_type": "code",
      "source": [
        "import librosa as lr\n",
        "\n",
        "# def extract_features(audio, n_mfcc=13, hop_length=512, n_fft=2048):\n",
        "#     mfcc = lr.feature.mfcc(y=audio, sr=16000, n_mfcc=n_mfcc,\n",
        "#                            hop_length=hop_length, n_fft=n_fft)\n",
        "#     return mfcc.T  # Transpose to align time to rows\n",
        "# df_total['features'] = df_total['audio'].apply(extract_features)\n",
        "\n",
        "\n",
        "# Extract mel spectrogram features from an audio signal.\n",
        "def extract_features(audio, n_mels=128, hop_length=512, n_fft=2048):\n",
        "    mel_spectrogram = lr.feature.melspectrogram(y=audio, sr=16000, n_mels=n_mels,\n",
        "                                                hop_length=hop_length, n_fft=n_fft)\n",
        "    return mel_spectrogram.T  # Transpose to align time to rows\n",
        "\n",
        "# Assuming df_total['audio'] contains the audio data\n",
        "df_total['features'] = df_total['audio'].apply(extract_features)\n",
        "\n",
        "# Print the shapes of the extracted features\n",
        "print(df_total['features'][0].shape)  # Assuming you want to check the shape of the first sample\n",
        "\n"
      ],
      "metadata": {
        "colab": {
          "base_uri": "https://localhost:8080/"
        },
        "id": "StxzsCKF7win",
        "outputId": "a750782d-412c-4664-ed6a-84b33a8f16ee"
      },
      "execution_count": 46,
      "outputs": [
        {
          "output_type": "stream",
          "name": "stdout",
          "text": [
            "(109, 128)\n"
          ]
        }
      ]
    },
    {
      "cell_type": "code",
      "source": [
        "\n",
        "features_lengths = []\n",
        "for features in df_total['features']:\n",
        "    features_lengths.append(features.shape[0])\n",
        "\n",
        "# Calculate statistics\n",
        "mean_length = np.mean(features_lengths)\n",
        "median_length = np.median(features_lengths)\n",
        "percentile_90 = np.percentile(features_lengths, 90)\n",
        "percentile_95 = np.percentile(features_lengths, 95)\n",
        "\n",
        "print(f\"Mean mel-spectrogram length: {mean_length:.2f}\")\n",
        "print(f\"Median mel-spectrogram length: {median_length}\")\n",
        "print(f\"90th percentile mel-spectrogram length: {percentile_90}\")\n",
        "print(f\"95th percentile mel-spectrogram length: {percentile_95}\")\n",
        "\n",
        "# Plot a histogram\n",
        "plt.figure(figsize=(8, 6))\n",
        "plt.hist(features_lengths, bins=50, edgecolor='black')\n",
        "plt.xlabel('Mel-spectrogram Length')\n",
        "plt.ylabel('Frequency')\n",
        "plt.title('Distribution of Mel-spectrogram Lengths')\n",
        "plt.show()"
      ],
      "metadata": {
        "colab": {
          "base_uri": "https://localhost:8080/",
          "height": 636
        },
        "id": "40Rmhs2Bo07u",
        "outputId": "632f48b0-5623-4cc4-e4f4-b6eaec6af7f6"
      },
      "execution_count": 50,
      "outputs": [
        {
          "output_type": "stream",
          "name": "stdout",
          "text": [
            "Mean mel-spectrogram length: 180.55\n",
            "Median mel-spectrogram length: 165.0\n",
            "90th percentile mel-spectrogram length: 272.6\n",
            "95th percentile mel-spectrogram length: 318.80000000000007\n"
          ]
        },
        {
          "output_type": "display_data",
          "data": {
            "text/plain": [
              "<Figure size 800x600 with 1 Axes>"
            ],
            "image/png": "[encoded data removed]"
          },
          "metadata": {}
        }
      ]
    },
    {
      "cell_type": "code",
      "source": [
        "\n",
        "# Assuming you have a maximum length for the features\n",
        "max_length = 256  # Replace with the desired maximum length based on percentile mel-spectrogram length\n",
        "\n",
        "# Define a padding function\n",
        "def pad_features(features, max_length):\n",
        "    padded_features = np.zeros((max_length, features.shape[1]))\n",
        "    if features.shape[0] > max_length:\n",
        "        padded_features = features[:max_length, :]\n",
        "    else:\n",
        "        padded_features[:features.shape[0], :] = features\n",
        "    return padded_features\n",
        "\n",
        "# Pad the features in the dataframes\n",
        "df_total['features'] = df_total['features'].apply(lambda x: pad_features(x, max_length))\n",
        "# Now you can convert the features to NumPy arrays\n",
        "X = np.array(df_total['features'].tolist())\n",
        "y_domain =(df_total['sentence_domain'])\n",
        "\n"
      ],
      "metadata": {
        "id": "UXsfMQ5WlYjO"
      },
      "execution_count": 51,
      "outputs": []
    },
    {
      "cell_type": "code",
      "source": [
        "from sklearn.preprocessing import LabelEncoder\n",
        "from tensorflow.keras.utils import to_categorical\n",
        "\n",
        "# df_total['locale'] and df_total['sentence_domain'] are the columns with string labels\n",
        "# Initialize label encoders\n",
        "label_encoder_lang = LabelEncoder()\n",
        "label_encoder_domain = LabelEncoder()\n",
        "\n",
        "# Fit label encoder and return encoded labels\n",
        "# y_lan = label_encoder_lang.fit_transform(df_total['locale'].dropna())\n",
        "y_domain = label_encoder_domain.fit_transform(df_total['sentence_domain'].dropna())\n",
        "# print(y_domain.shape)\n",
        "\n",
        "# Get the number of classes from the fitted label encoder\n",
        "# num_language_classes = len(label_encoder_lang.classes_)\n",
        "num_domain_classes = len(label_encoder_domain.classes_)\n",
        "\n",
        "# Convert labels to one-hot encoding\n",
        "# y_lan_encoded = to_categorical(y_lan, num_classes=num_language_classes)\n",
        "# y_lan_encoded.shape\n",
        "\n",
        "y_domain_encoded = to_categorical(y_domain, num_classes=num_domain_classes)\n",
        "y_domain_encoded.shape"
      ],
      "metadata": {
        "id": "fZFMdkHybAut",
        "colab": {
          "base_uri": "https://localhost:8080/"
        },
        "outputId": "8845ec8c-2079-426c-d6d8-62f052386444"
      },
      "execution_count": 52,
      "outputs": [
        {
          "output_type": "execute_result",
          "data": {
            "text/plain": [
              "(325, 11)"
            ]
          },
          "metadata": {},
          "execution_count": 52
        }
      ]
    },
    {
      "cell_type": "code",
      "source": [
        "X.shape,y_domain_encoded.shape"
      ],
      "metadata": {
        "colab": {
          "base_uri": "https://localhost:8080/"
        },
        "id": "767MFxcVsKJ0",
        "outputId": "12be2643-53b2-49de-9bda-b65a7df0b200"
      },
      "execution_count": 12,
      "outputs": [
        {
          "output_type": "execute_result",
          "data": {
            "text/plain": [
              "((325, 256, 128), (325, 11))"
            ]
          },
          "metadata": {},
          "execution_count": 12
        }
      ]
    },
    {
      "cell_type": "markdown",
      "source": [
        "train test split"
      ],
      "metadata": {
        "id": "jaLlpRv9L2YO"
      }
    },
    {
      "cell_type": "code",
      "source": [
        "from sklearn.model_selection import train_test_split\n",
        "\n",
        "X_train, X_test, y_domain_train, y_domain_test = train_test_split(\n",
        "    X, y_domain_encoded, test_size=0.3, random_state=42\n",
        ")\n",
        "\n",
        "# Optionally, split the training set further to create a validation set (e.g., 80% of the remaining train for training, 20% for validation)\n",
        "X_train, X_val, y_domain_train, y_domain_val = train_test_split(\n",
        "    X_train, y_domain_train, test_size=0.2, random_state=42\n",
        ")\n",
        "\n",
        "\n",
        "# Check the shape of each set to ensure everything is correct\n",
        "print(\"Training set:\", X_train.shape, y_domain_train.shape)\n",
        "print(\"Validation set:\", X_val.shape, y_domain_val.shape)\n",
        "print(\"Test set:\", X_test.shape, y_domain_test.shape)"
      ],
      "metadata": {
        "id": "-38tZ9ffTcFS",
        "colab": {
          "base_uri": "https://localhost:8080/"
        },
        "outputId": "d3d45af4-5234-4373-c802-b2d1659986e2"
      },
      "execution_count": 13,
      "outputs": [
        {
          "output_type": "stream",
          "name": "stdout",
          "text": [
            "Training set: (181, 256, 128) (181, 11)\n",
            "Validation set: (46, 256, 128) (46, 11)\n",
            "Test set: (98, 256, 128) (98, 11)\n"
          ]
        }
      ]
    },
    {
      "cell_type": "code",
      "source": [
        "X_train = X_train.reshape(X_train.shape[0], X_train.shape[1], X_train.shape[2], 1)/ 255.0\n",
        "X_val = X_val.reshape(X_val.shape[0], X_val.shape[1], X_val.shape[2], 1)/ 255.0\n",
        "X_test = X_test.reshape(X_test.shape[0], X_test.shape[1], X_test.shape[2], 1)/255.0"
      ],
      "metadata": {
        "id": "ab5_KYcFnQN5"
      },
      "execution_count": 14,
      "outputs": []
    },
    {
      "cell_type": "code",
      "source": [
        "num_language_classes= 2\n",
        "num_domain_classes = y_domain_test.shape[-1]\n",
        "X_train.shape\n"
      ],
      "metadata": {
        "colab": {
          "base_uri": "https://localhost:8080/"
        },
        "id": "nfsVb2gm9DGv",
        "outputId": "8480c1d8-03ff-43cc-fba4-3928f151d5d5"
      },
      "execution_count": 18,
      "outputs": [
        {
          "output_type": "execute_result",
          "data": {
            "text/plain": [
              "(181, 256, 128, 1)"
            ]
          },
          "metadata": {},
          "execution_count": 18
        }
      ]
    },
    {
      "cell_type": "markdown",
      "source": [
        "# Model 1 : CNN"
      ],
      "metadata": {
        "id": "b9t38_ivL9gw"
      }
    },
    {
      "cell_type": "code",
      "source": [
        "import tensorflow as tf\n",
        "from tensorflow.keras import models, layers, optimizers\n",
        "\n",
        "# Define the CNN model\n",
        "def create_cnn_model(input_shape, num_domain_classes, num_language_classes):\n",
        "    model = models.Sequential([\n",
        "        # Input layer\n",
        "        layers.Input(shape=input_shape),\n",
        "\n",
        "        # First conv layer\n",
        "        layers.Conv2D(32, kernel_size=(3, 3), activation='relu', padding='same'),\n",
        "        # layers.BatchNormalization(),\n",
        "        layers.MaxPooling2D(pool_size=(2, 2)),\n",
        "        layers.Dropout(0.25),\n",
        "\n",
        "        # Second conv layer\n",
        "        layers.Conv2D(64, kernel_size=(3, 3), activation='relu', padding='same'),\n",
        "        # layers.BatchNormalization(),\n",
        "        layers.MaxPooling2D(pool_size=(2, 2)),\n",
        "        layers.Dropout(0.25),\n",
        "\n",
        "        # Third conv layer\n",
        "        layers.Conv2D(128, kernel_size=(3, 3), activation='relu', padding='same'),\n",
        "        # layers.BatchNormalization(),\n",
        "        layers.MaxPooling2D(pool_size=(2, 2)),\n",
        "        layers.Dropout(0.25),\n",
        "\n",
        "\n",
        "\n",
        "        # Flatten the output of the conv layers to feed into the dense layer\n",
        "        layers.Flatten(),\n",
        "\n",
        "        # Dense layer for feature interpretation\n",
        "        layers.Dense(256, activation='relu'),\n",
        "        layers.Dropout(0.5),\n",
        "\n",
        "        # Separate output layers for domain classification\n",
        "        # layers.Dense(num_language_classes, activation='softmax'),\n",
        "        layers.Dense(num_domain_classes, activation='softmax')\n",
        "    ])\n",
        "\n",
        "    # Compile the model\n",
        "    model.compile(optimizer='adam',\n",
        "                  loss='categorical_crossentropy',\n",
        "                  metrics=['accuracy'])\n",
        "\n",
        "    return model\n",
        "\n",
        "# Assuming you have already defined input_shape, num_domain_classes, and num_language_classes\n",
        "input_shape = X_train[0].shape  # Example: (MFCC_Time, MFCC_Features, 1) e.g., (32, 13, 1)\n",
        "print(input_shape)\n",
        "# Create the model\n",
        "model = create_cnn_model(input_shape, num_domain_classes, num_language_classes)\n",
        "\n",
        "# Print the model summary\n",
        "model.summary()\n"
      ],
      "metadata": {
        "id": "8fUQtfCMtjC2",
        "colab": {
          "base_uri": "https://localhost:8080/"
        },
        "outputId": "b0c522ea-55f2-430a-f65e-2ac498390350"
      },
      "execution_count": 19,
      "outputs": [
        {
          "output_type": "stream",
          "name": "stdout",
          "text": [
            "(256, 128, 1)\n",
            "Model: \"sequential\"\n",
            "_________________________________________________________________\n",
            " Layer (type)                Output Shape              Param #   \n",
            "=================================================================\n",
            " conv2d (Conv2D)             (None, 256, 128, 32)      320       \n",
            "                                                                 \n",
            " max_pooling2d (MaxPooling2  (None, 128, 64, 32)       0         \n",
            " D)                                                              \n",
            "                                                                 \n",
            " dropout (Dropout)           (None, 128, 64, 32)       0         \n",
            "                                                                 \n",
            " conv2d_1 (Conv2D)           (None, 128, 64, 64)       18496     \n",
            "                                                                 \n",
            " max_pooling2d_1 (MaxPoolin  (None, 64, 32, 64)        0         \n",
            " g2D)                                                            \n",
            "                                                                 \n",
            " dropout_1 (Dropout)         (None, 64, 32, 64)        0         \n",
            "                                                                 \n",
            " conv2d_2 (Conv2D)           (None, 64, 32, 128)       73856     \n",
            "                                                                 \n",
            " max_pooling2d_2 (MaxPoolin  (None, 32, 16, 128)       0         \n",
            " g2D)                                                            \n",
            "                                                                 \n",
            " dropout_2 (Dropout)         (None, 32, 16, 128)       0         \n",
            "                                                                 \n",
            " flatten (Flatten)           (None, 65536)             0         \n",
            "                                                                 \n",
            " dense (Dense)               (None, 256)               16777472  \n",
            "                                                                 \n",
            " dropout_3 (Dropout)         (None, 256)               0         \n",
            "                                                                 \n",
            " dense_1 (Dense)             (None, 11)                2827      \n",
            "                                                                 \n",
            "=================================================================\n",
            "Total params: 16872971 (64.37 MB)\n",
            "Trainable params: 16872971 (64.37 MB)\n",
            "Non-trainable params: 0 (0.00 Byte)\n",
            "_________________________________________________________________\n"
          ]
        }
      ]
    },
    {
      "cell_type": "code",
      "source": [
        "# fit the model\n",
        "history = model.fit(X_train, y_domain_train,epochs=20,validation_data=(X_val,y_domain_val), batch_size=32)"
      ],
      "metadata": {
        "id": "jv0jbv0LHZEJ",
        "colab": {
          "base_uri": "https://localhost:8080/"
        },
        "outputId": "add7b983-43fc-4d15-d156-2700cd8bccee"
      },
      "execution_count": 20,
      "outputs": [
        {
          "output_type": "stream",
          "name": "stdout",
          "text": [
            "Epoch 1/20\n",
            "6/6 [==============================] - 21s 3s/step - loss: 2.0203 - accuracy: 0.3867 - val_loss: 2.1198 - val_accuracy: 0.3478\n",
            "Epoch 2/20\n",
            "6/6 [==============================] - 28s 5s/step - loss: 1.8040 - accuracy: 0.4586 - val_loss: 2.0613 - val_accuracy: 0.3478\n",
            "Epoch 3/20\n",
            "6/6 [==============================] - 17s 3s/step - loss: 1.6975 - accuracy: 0.4641 - val_loss: 1.9795 - val_accuracy: 0.3478\n",
            "Epoch 4/20\n",
            "6/6 [==============================] - 20s 4s/step - loss: 1.6800 - accuracy: 0.4309 - val_loss: 2.0124 - val_accuracy: 0.3261\n",
            "Epoch 5/20\n",
            "6/6 [==============================] - 27s 4s/step - loss: 1.5848 - accuracy: 0.4530 - val_loss: 2.1699 - val_accuracy: 0.3478\n",
            "Epoch 6/20\n",
            "6/6 [==============================] - 17s 3s/step - loss: 1.5394 - accuracy: 0.4751 - val_loss: 2.4216 - val_accuracy: 0.3261\n",
            "Epoch 7/20\n",
            "6/6 [==============================] - 21s 3s/step - loss: 1.4759 - accuracy: 0.4751 - val_loss: 2.5877 - val_accuracy: 0.3261\n",
            "Epoch 8/20\n",
            "6/6 [==============================] - 22s 4s/step - loss: 1.4053 - accuracy: 0.5304 - val_loss: 2.6556 - val_accuracy: 0.3261\n",
            "Epoch 9/20\n",
            "6/6 [==============================] - 17s 3s/step - loss: 1.2797 - accuracy: 0.5193 - val_loss: 3.1841 - val_accuracy: 0.3478\n",
            "Epoch 10/20\n",
            "6/6 [==============================] - 26s 4s/step - loss: 1.1657 - accuracy: 0.5856 - val_loss: 3.5501 - val_accuracy: 0.2609\n",
            "Epoch 11/20\n",
            "6/6 [==============================] - 26s 5s/step - loss: 1.1298 - accuracy: 0.5580 - val_loss: 4.1501 - val_accuracy: 0.2609\n",
            "Epoch 12/20\n",
            "6/6 [==============================] - 21s 3s/step - loss: 0.9454 - accuracy: 0.6519 - val_loss: 5.1239 - val_accuracy: 0.2609\n",
            "Epoch 13/20\n",
            "6/6 [==============================] - 18s 3s/step - loss: 0.8917 - accuracy: 0.6519 - val_loss: 5.8693 - val_accuracy: 0.2609\n",
            "Epoch 14/20\n",
            "6/6 [==============================] - 17s 3s/step - loss: 0.8592 - accuracy: 0.6961 - val_loss: 6.7076 - val_accuracy: 0.3043\n",
            "Epoch 15/20\n",
            "6/6 [==============================] - 17s 3s/step - loss: 0.7593 - accuracy: 0.7293 - val_loss: 6.8027 - val_accuracy: 0.2609\n",
            "Epoch 16/20\n",
            "6/6 [==============================] - 17s 3s/step - loss: 0.7153 - accuracy: 0.7901 - val_loss: 7.4427 - val_accuracy: 0.2174\n",
            "Epoch 17/20\n",
            "6/6 [==============================] - 16s 3s/step - loss: 0.7512 - accuracy: 0.7182 - val_loss: 8.7909 - val_accuracy: 0.1957\n",
            "Epoch 18/20\n",
            "6/6 [==============================] - 17s 3s/step - loss: 0.6086 - accuracy: 0.7901 - val_loss: 8.9064 - val_accuracy: 0.2609\n",
            "Epoch 19/20\n",
            "6/6 [==============================] - 17s 3s/step - loss: 0.6070 - accuracy: 0.8122 - val_loss: 8.1288 - val_accuracy: 0.3043\n",
            "Epoch 20/20\n",
            "6/6 [==============================] - 17s 3s/step - loss: 0.6181 - accuracy: 0.8343 - val_loss: 8.9833 - val_accuracy: 0.2174\n"
          ]
        }
      ]
    },
    {
      "cell_type": "markdown",
      "source": [
        "# Model 2 : RNN"
      ],
      "metadata": {
        "id": "7iObOXG-MKAd"
      }
    },
    {
      "cell_type": "code",
      "source": [
        "def create_rnn_model(input_shape, num_domain_classes, num_language_classes):\n",
        "    model = models.Sequential([\n",
        "        # Input layer\n",
        "        layers.Input(shape=input_shape),\n",
        "\n",
        "        # LSTM layer\n",
        "        layers.LSTM(64, return_sequences=True),\n",
        "\n",
        "        # Dropout layer\n",
        "        layers.Dropout(0.5),\n",
        "\n",
        "        # LSTM layer\n",
        "        layers.LSTM(64),\n",
        "\n",
        "        # Dropout layer\n",
        "        layers.Dropout(0.5),\n",
        "\n",
        "        # Dense layer for feature interpretation\n",
        "        layers.Dense(256, activation='relu'),\n",
        "\n",
        "        # Output layer for domain classification\n",
        "        layers.Dense(num_domain_classes, activation='softmax')\n",
        "    ])\n",
        "\n",
        "    # Compile the model\n",
        "    model.compile(optimizer='adam',\n",
        "                  loss='categorical_crossentropy',\n",
        "                  metrics=['accuracy'])\n",
        "\n",
        "    return model\n",
        "\n",
        "input_shape1=X_train.shape[1:-1]\n",
        "model_rnn = create_rnn_model(input_shape1, num_domain_classes, num_language_classes)\n",
        "\n",
        "model_rnn.summary()"
      ],
      "metadata": {
        "colab": {
          "base_uri": "https://localhost:8080/"
        },
        "id": "nI6vw6navXX2",
        "outputId": "0a0dbb56-7eef-439c-b0be-0bbd7c59b537"
      },
      "execution_count": 23,
      "outputs": [
        {
          "output_type": "stream",
          "name": "stdout",
          "text": [
            "Model: \"sequential_2\"\n",
            "_________________________________________________________________\n",
            " Layer (type)                Output Shape              Param #   \n",
            "=================================================================\n",
            " lstm_2 (LSTM)               (None, 256, 64)           49408     \n",
            "                                                                 \n",
            " dropout_6 (Dropout)         (None, 256, 64)           0         \n",
            "                                                                 \n",
            " lstm_3 (LSTM)               (None, 64)                33024     \n",
            "                                                                 \n",
            " dropout_7 (Dropout)         (None, 64)                0         \n",
            "                                                                 \n",
            " dense_4 (Dense)             (None, 256)               16640     \n",
            "                                                                 \n",
            " dense_5 (Dense)             (None, 11)                2827      \n",
            "                                                                 \n",
            "=================================================================\n",
            "Total params: 101899 (398.04 KB)\n",
            "Trainable params: 101899 (398.04 KB)\n",
            "Non-trainable params: 0 (0.00 Byte)\n",
            "_________________________________________________________________\n"
          ]
        }
      ]
    },
    {
      "cell_type": "code",
      "source": [
        "# Fit the model\n",
        "history_rnn = model_rnn.fit(X_train, y_domain_train,epochs=20,validation_data=(X_val,y_domain_val), batch_size=32)"
      ],
      "metadata": {
        "colab": {
          "base_uri": "https://localhost:8080/"
        },
        "id": "62guXEQnw2HW",
        "outputId": "62106983-2494-44a6-d9f0-fbb4e73c1531"
      },
      "execution_count": 25,
      "outputs": [
        {
          "output_type": "stream",
          "name": "stdout",
          "text": [
            "Epoch 1/20\n",
            "6/6 [==============================] - 2s 307ms/step - loss: 1.7714 - accuracy: 0.4420 - val_loss: 1.9567 - val_accuracy: 0.3478\n",
            "Epoch 2/20\n",
            "6/6 [==============================] - 2s 285ms/step - loss: 1.7450 - accuracy: 0.4420 - val_loss: 1.9362 - val_accuracy: 0.3478\n",
            "Epoch 3/20\n",
            "6/6 [==============================] - 2s 340ms/step - loss: 1.7450 - accuracy: 0.4420 - val_loss: 1.9441 - val_accuracy: 0.3478\n",
            "Epoch 4/20\n",
            "6/6 [==============================] - 3s 469ms/step - loss: 1.9054 - accuracy: 0.4420 - val_loss: 2.3840 - val_accuracy: 0.3478\n",
            "Epoch 5/20\n",
            "6/6 [==============================] - 2s 345ms/step - loss: 1.8290 - accuracy: 0.4420 - val_loss: 1.9555 - val_accuracy: 0.3478\n",
            "Epoch 6/20\n",
            "6/6 [==============================] - 2s 287ms/step - loss: 1.8237 - accuracy: 0.4254 - val_loss: 1.9683 - val_accuracy: 0.3478\n",
            "Epoch 7/20\n",
            "6/6 [==============================] - 2s 293ms/step - loss: 1.8142 - accuracy: 0.4365 - val_loss: 1.9465 - val_accuracy: 0.3478\n",
            "Epoch 8/20\n",
            "6/6 [==============================] - 2s 300ms/step - loss: 1.7875 - accuracy: 0.4475 - val_loss: 1.9556 - val_accuracy: 0.3478\n",
            "Epoch 9/20\n",
            "6/6 [==============================] - 2s 287ms/step - loss: 1.7829 - accuracy: 0.4420 - val_loss: 1.9558 - val_accuracy: 0.3478\n",
            "Epoch 10/20\n",
            "6/6 [==============================] - 2s 283ms/step - loss: 1.7805 - accuracy: 0.4420 - val_loss: 1.9436 - val_accuracy: 0.3478\n",
            "Epoch 11/20\n",
            "6/6 [==============================] - 3s 456ms/step - loss: 1.7694 - accuracy: 0.4420 - val_loss: 1.9544 - val_accuracy: 0.3478\n",
            "Epoch 12/20\n",
            "6/6 [==============================] - 3s 432ms/step - loss: 1.7576 - accuracy: 0.4420 - val_loss: 1.9561 - val_accuracy: 0.3478\n",
            "Epoch 13/20\n",
            "6/6 [==============================] - 2s 289ms/step - loss: 1.7358 - accuracy: 0.4420 - val_loss: 1.9436 - val_accuracy: 0.3478\n",
            "Epoch 14/20\n",
            "6/6 [==============================] - 2s 289ms/step - loss: 1.7564 - accuracy: 0.4420 - val_loss: 1.9444 - val_accuracy: 0.3478\n",
            "Epoch 15/20\n",
            "6/6 [==============================] - 2s 301ms/step - loss: 1.7634 - accuracy: 0.4420 - val_loss: 1.9520 - val_accuracy: 0.3478\n",
            "Epoch 16/20\n",
            "6/6 [==============================] - 2s 286ms/step - loss: 1.7565 - accuracy: 0.4420 - val_loss: 1.9448 - val_accuracy: 0.3478\n",
            "Epoch 17/20\n",
            "6/6 [==============================] - 2s 289ms/step - loss: 1.7664 - accuracy: 0.4420 - val_loss: 1.9407 - val_accuracy: 0.3478\n",
            "Epoch 18/20\n",
            "6/6 [==============================] - 2s 399ms/step - loss: 1.7695 - accuracy: 0.4420 - val_loss: 1.9368 - val_accuracy: 0.3478\n",
            "Epoch 19/20\n",
            "6/6 [==============================] - 3s 475ms/step - loss: 1.7569 - accuracy: 0.4365 - val_loss: 1.9381 - val_accuracy: 0.3478\n",
            "Epoch 20/20\n",
            "6/6 [==============================] - 3s 446ms/step - loss: 1.7851 - accuracy: 0.4420 - val_loss: 1.9615 - val_accuracy: 0.3478\n"
          ]
        }
      ]
    },
    {
      "cell_type": "markdown",
      "source": [
        "# Model 3 : Transformer"
      ],
      "metadata": {
        "id": "96Tyr5eiMSV_"
      }
    },
    {
      "cell_type": "code",
      "source": [
        "from tensorflow.keras import layers, models\n",
        "\n",
        "def create_transformer_model(input_shape, num_domain_classes, num_language_classes):\n",
        "    # Encoder\n",
        "    encoder_inputs = layers.Input(shape=input_shape)\n",
        "    encoder_dense = layers.Flatten()(encoder_inputs)\n",
        "    encoder_dense = layers.Dense(128, activation='relu')(encoder_dense)\n",
        "    encoder_dense = layers.Dropout(0.5)(encoder_dense)\n",
        "    encoder_output = layers.Dense(128, activation='relu')(encoder_dense)\n",
        "\n",
        "    # Decoder\n",
        "    decoder_inputs = layers.Input(shape=input_shape)\n",
        "    decoder_dense = layers.Flatten()(decoder_inputs)\n",
        "    decoder_dense = layers.Dense(128, activation='relu')(decoder_dense)\n",
        "    decoder_dense = layers.Dropout(0.5)(decoder_dense)\n",
        "    decoder_output = layers.Dense(128, activation='relu')(decoder_dense)\n",
        "\n",
        "    # Output layers\n",
        "    output = layers.Concatenate()([encoder_output, decoder_output])\n",
        "    output = layers.Dense(256, activation='relu')(output)\n",
        "    output = layers.Dropout(0.5)(output)\n",
        "    # language_output = layers.Dense(num_language_classes, activation='softmax')(output)\n",
        "    domain_output = layers.Dense(num_domain_classes, activation='softmax')(output)\n",
        "\n",
        "    # Build and compile the model\n",
        "    model = models.Model(inputs=[encoder_inputs, decoder_inputs], outputs=domain_output)\n",
        "    model.compile(optimizer='adam', loss='categorical_crossentropy', metrics=['accuracy'])\n",
        "\n",
        "    return model\n",
        "\n",
        "# Example usage\n",
        "input_shape = X_train.shape[1:]  # Input shape for the encoder\n",
        "\n",
        "print(input_shape)\n",
        "# num_domain_classes = 10  # Number of domain classes\n",
        "# num_language_classes = 2  # Number of language classes\n",
        "\n",
        "model_ts = create_transformer_model(input_shape, num_domain_classes, num_language_classes)\n",
        "model_ts.summary()\n"
      ],
      "metadata": {
        "colab": {
          "base_uri": "https://localhost:8080/"
        },
        "id": "wMeA53nZ-yft",
        "outputId": "b9d22c79-4652-4519-d4f6-99f06f4a373b"
      },
      "execution_count": 28,
      "outputs": [
        {
          "output_type": "stream",
          "name": "stdout",
          "text": [
            "(256, 128, 1)\n",
            "Model: \"model\"\n",
            "__________________________________________________________________________________________________\n",
            " Layer (type)                Output Shape                 Param #   Connected to                  \n",
            "==================================================================================================\n",
            " input_4 (InputLayer)        [(None, 256, 128, 1)]        0         []                            \n",
            "                                                                                                  \n",
            " input_5 (InputLayer)        [(None, 256, 128, 1)]        0         []                            \n",
            "                                                                                                  \n",
            " flatten_1 (Flatten)         (None, 32768)                0         ['input_4[0][0]']             \n",
            "                                                                                                  \n",
            " flatten_2 (Flatten)         (None, 32768)                0         ['input_5[0][0]']             \n",
            "                                                                                                  \n",
            " dense_6 (Dense)             (None, 128)                  4194432   ['flatten_1[0][0]']           \n",
            "                                                                                                  \n",
            " dense_8 (Dense)             (None, 128)                  4194432   ['flatten_2[0][0]']           \n",
            "                                                                                                  \n",
            " dropout_8 (Dropout)         (None, 128)                  0         ['dense_6[0][0]']             \n",
            "                                                                                                  \n",
            " dropout_9 (Dropout)         (None, 128)                  0         ['dense_8[0][0]']             \n",
            "                                                                                                  \n",
            " dense_7 (Dense)             (None, 128)                  16512     ['dropout_8[0][0]']           \n",
            "                                                                                                  \n",
            " dense_9 (Dense)             (None, 128)                  16512     ['dropout_9[0][0]']           \n",
            "                                                                                                  \n",
            " concatenate (Concatenate)   (None, 256)                  0         ['dense_7[0][0]',             \n",
            "                                                                     'dense_9[0][0]']             \n",
            "                                                                                                  \n",
            " dense_10 (Dense)            (None, 256)                  65792     ['concatenate[0][0]']         \n",
            "                                                                                                  \n",
            " dropout_10 (Dropout)        (None, 256)                  0         ['dense_10[0][0]']            \n",
            "                                                                                                  \n",
            " dense_11 (Dense)            (None, 11)                   2827      ['dropout_10[0][0]']          \n",
            "                                                                                                  \n",
            "==================================================================================================\n",
            "Total params: 8490507 (32.39 MB)\n",
            "Trainable params: 8490507 (32.39 MB)\n",
            "Non-trainable params: 0 (0.00 Byte)\n",
            "__________________________________________________________________________________________________\n"
          ]
        }
      ]
    },
    {
      "cell_type": "code",
      "source": [
        "# Fit the model\n",
        "history_ts = model_ts.fit([X_train, X_train], y_domain_train, validation_data=([X_val, X_val], y_domain_val), epochs=20, batch_size=32)"
      ],
      "metadata": {
        "colab": {
          "base_uri": "https://localhost:8080/"
        },
        "id": "Kpv7OyJI2-Qq",
        "outputId": "7ece5ed4-e065-4cfe-f843-1114f0245d79"
      },
      "execution_count": 29,
      "outputs": [
        {
          "output_type": "stream",
          "name": "stdout",
          "text": [
            "Epoch 1/20\n",
            "6/6 [==============================] - 2s 170ms/step - loss: 2.2733 - accuracy: 0.3425 - val_loss: 2.2381 - val_accuracy: 0.3478\n",
            "Epoch 2/20\n",
            "6/6 [==============================] - 1s 115ms/step - loss: 1.9662 - accuracy: 0.4420 - val_loss: 2.2894 - val_accuracy: 0.3478\n",
            "Epoch 3/20\n",
            "6/6 [==============================] - 1s 161ms/step - loss: 1.8805 - accuracy: 0.4475 - val_loss: 2.2282 - val_accuracy: 0.3478\n",
            "Epoch 4/20\n",
            "6/6 [==============================] - 1s 150ms/step - loss: 1.6670 - accuracy: 0.4641 - val_loss: 2.3246 - val_accuracy: 0.3478\n",
            "Epoch 5/20\n",
            "6/6 [==============================] - 1s 145ms/step - loss: 1.5089 - accuracy: 0.5028 - val_loss: 2.3922 - val_accuracy: 0.3261\n",
            "Epoch 6/20\n",
            "6/6 [==============================] - 1s 141ms/step - loss: 1.4560 - accuracy: 0.4972 - val_loss: 2.5377 - val_accuracy: 0.3478\n",
            "Epoch 7/20\n",
            "6/6 [==============================] - 1s 152ms/step - loss: 1.2868 - accuracy: 0.5470 - val_loss: 2.6365 - val_accuracy: 0.3043\n",
            "Epoch 8/20\n",
            "6/6 [==============================] - 1s 137ms/step - loss: 1.2147 - accuracy: 0.6022 - val_loss: 2.7812 - val_accuracy: 0.3261\n",
            "Epoch 9/20\n",
            "6/6 [==============================] - 1s 109ms/step - loss: 1.0649 - accuracy: 0.6243 - val_loss: 3.1574 - val_accuracy: 0.3261\n",
            "Epoch 10/20\n",
            "6/6 [==============================] - 1s 112ms/step - loss: 0.9962 - accuracy: 0.6575 - val_loss: 3.3993 - val_accuracy: 0.3043\n",
            "Epoch 11/20\n",
            "6/6 [==============================] - 1s 118ms/step - loss: 0.9118 - accuracy: 0.6906 - val_loss: 3.5986 - val_accuracy: 0.3043\n",
            "Epoch 12/20\n",
            "6/6 [==============================] - 1s 107ms/step - loss: 0.7545 - accuracy: 0.7459 - val_loss: 3.6227 - val_accuracy: 0.3043\n",
            "Epoch 13/20\n",
            "6/6 [==============================] - 1s 115ms/step - loss: 0.7299 - accuracy: 0.7956 - val_loss: 4.1334 - val_accuracy: 0.2826\n",
            "Epoch 14/20\n",
            "6/6 [==============================] - 1s 110ms/step - loss: 0.6712 - accuracy: 0.7459 - val_loss: 4.4777 - val_accuracy: 0.3043\n",
            "Epoch 15/20\n",
            "6/6 [==============================] - 1s 113ms/step - loss: 0.5877 - accuracy: 0.8232 - val_loss: 4.1699 - val_accuracy: 0.3261\n",
            "Epoch 16/20\n",
            "6/6 [==============================] - 1s 108ms/step - loss: 0.5402 - accuracy: 0.8453 - val_loss: 4.5846 - val_accuracy: 0.3261\n",
            "Epoch 17/20\n",
            "6/6 [==============================] - 1s 115ms/step - loss: 0.5263 - accuracy: 0.8564 - val_loss: 4.8837 - val_accuracy: 0.3043\n",
            "Epoch 18/20\n",
            "6/6 [==============================] - 1s 105ms/step - loss: 0.4366 - accuracy: 0.8840 - val_loss: 5.0448 - val_accuracy: 0.3043\n",
            "Epoch 19/20\n",
            "6/6 [==============================] - 1s 113ms/step - loss: 0.4245 - accuracy: 0.8950 - val_loss: 5.3254 - val_accuracy: 0.2826\n",
            "Epoch 20/20\n",
            "6/6 [==============================] - 1s 107ms/step - loss: 0.3964 - accuracy: 0.8729 - val_loss: 5.8910 - val_accuracy: 0.3043\n"
          ]
        }
      ]
    },
    {
      "cell_type": "markdown",
      "source": [
        "Evaluation Models"
      ],
      "metadata": {
        "id": "Zv_ulZpsMh2d"
      }
    },
    {
      "cell_type": "code",
      "source": [
        "def eval_model(model, x, y, model_name):\n",
        "\n",
        "    try:\n",
        "        if model_name == 'Transformer':\n",
        "            test_loss, test_accuracy = model.evaluate([x, x], y)\n",
        "        else:\n",
        "            test_loss, test_accuracy = model.evaluate(x, y)\n",
        "        return test_loss, test_accuracy\n",
        "    except Exception as e:\n",
        "        print('Failed to evaluate model {}: {}'.format(model_name, e))\n",
        "        return None, None\n",
        "\n",
        "# Example usage and storing results:\n",
        "results = {}\n",
        "models = {'CNN': model, 'RNN': model_rnn, 'Transformer': model_ts}\n",
        "for name, mod in models.items():\n",
        "    loss, accuracy = eval_model(mod, X_test, y_domain_test, name)\n",
        "    results[name] = (loss, accuracy)\n"
      ],
      "metadata": {
        "colab": {
          "base_uri": "https://localhost:8080/"
        },
        "id": "UMXWJd4YIMNm",
        "outputId": "d7fc9f87-a4f6-4acc-8bab-f4e0d5a90438"
      },
      "execution_count": 36,
      "outputs": [
        {
          "output_type": "stream",
          "name": "stdout",
          "text": [
            "4/4 [==============================] - 2s 410ms/step - loss: 6.5910 - accuracy: 0.3571\n",
            "4/4 [==============================] - 0s 67ms/step - loss: 1.6026 - accuracy: 0.5102\n",
            "4/4 [==============================] - 0s 15ms/step - loss: 4.0560 - accuracy: 0.4388\n"
          ]
        }
      ]
    },
    {
      "cell_type": "code",
      "source": [
        "import matplotlib.pyplot as plt\n",
        "\n",
        "# Assuming `results` is a dictionary containing the loss and accuracy\n",
        "labels = list(results.keys())\n",
        "loss_values = [results[name][0] for name in labels]\n",
        "accuracy_values = [results[name][1] for name in labels]\n",
        "\n",
        "# Creating subplots\n",
        "fig, ax = plt.subplots(1, 2, figsize=(14, 5))\n",
        "\n",
        "# Plotting loss\n",
        "ax[0].bar(labels, loss_values, color='blue')\n",
        "ax[0].set_title('Test Loss by Model')\n",
        "ax[0].set_ylabel('Loss')\n",
        "ax[0].set_xlabel('Model')\n",
        "\n",
        "# Plotting accuracy\n",
        "ax[1].bar(labels, accuracy_values, color='green')\n",
        "ax[1].set_title('Test Accuracy by Model')\n",
        "ax[1].set_ylabel('Accuracy')\n",
        "ax[1].set_xlabel('Model')\n",
        "\n",
        "# Adding a legend\n",
        "for a in ax:\n",
        "    for p in a.patches:\n",
        "        a.annotate(f\"{p.get_height():.4f}\", (p.get_x() + p.get_width() / 2., p.get_height()),\n",
        "                   ha='center', va='center', fontsize=10, color='black', xytext=(0, 5),\n",
        "                   textcoords='offset points')\n",
        "\n",
        "plt.tight_layout()\n",
        "plt.show()\n"
      ],
      "metadata": {
        "colab": {
          "base_uri": "https://localhost:8080/",
          "height": 476
        },
        "id": "eQynfMjPIOZZ",
        "outputId": "5549534a-4c65-41a4-82e3-a60f2dfa9b58"
      },
      "execution_count": 37,
      "outputs": [
        {
          "output_type": "display_data",
          "data": {
            "text/plain": [
              "<Figure size 1400x500 with 2 Axes>"
            ],
            "image/png": "[encoded data removed]"
          },
          "metadata": {}
        }
      ]
    },
    {
      "cell_type": "code",
      "source": [],
      "metadata": {
        "id": "XVpmhHOxIUPT"
      },
      "execution_count": null,
      "outputs": []
    }
  ]
}