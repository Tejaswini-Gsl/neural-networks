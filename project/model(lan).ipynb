{
  "nbformat": 4,
  "nbformat_minor": 0,
  "metadata": {
    "colab": {
      "provenance": [],
      "gpuType": "T4",
      "mount_file_id": "1a5L3GGLy1_c1ybJOBB5RtVMIxoodyenP",
      "authorship_tag": "ABX9TyOcEmFajb0bWuQrDzM5SEkg",
      "include_colab_link": true
    },
    "kernelspec": {
      "name": "python3",
      "display_name": "Python 3"
    },
    "language_info": {
      "name": "python"
    },
    "accelerator": "GPU"
  },
  "cells": [
    {
      "cell_type": "markdown",
      "metadata": {
        "id": "view-in-github",
        "colab_type": "text"
      },
      "source": [
        "<a href=\"https://colab.research.google.com/github/Tejaswini-Gsl/neural-networks/blob/main/model(lan).ipynb\" target=\"_parent\"><img src=\"https://colab.research.google.com/assets/colab-badge.svg\" alt=\"Open In Colab\"/></a>"
      ]
    },
    {
      "cell_type": "code",
      "execution_count": 4,
      "metadata": {
        "id": "SE7V6nJu0kQm"
      },
      "outputs": [],
      "source": [
        "import numpy as np\n",
        "import matplotlib.pyplot as plt\n",
        "import pandas as pd\n",
        "import scipy as sp\n",
        "import os\n",
        "import librosa as lr\n",
        "import shutil\n",
        "import dask.array as da\n",
        "import h5py\n",
        "import glob\n",
        "# import resampy\n",
        "import imageio\n",
        "from PIL import Image\n",
        "\n"
      ]
    },
    {
      "cell_type": "markdown",
      "source": [
        "importing datasets"
      ],
      "metadata": {
        "id": "9zk5szTBNSgw"
      }
    },
    {
      "cell_type": "code",
      "source": [
        "\n",
        "\n",
        "# other_df_en = pd.read_csv('/content/drive/MyDrive/neural dataset/en/other.tsv', sep='\\t')\n",
        "validate_sen_df_en = pd.read_csv('/content/drive/MyDrive/neural dataset/en/validated.tsv', sep='\\t')\n",
        "# unvalidate_sen_df_en = pd.read_csv('/content/drive/MyDrive/neural dataset/en/invalidated.tsv', sep='\\t')\n",
        "\n",
        "# other_df_ca = pd.read_csv('/content/drive/MyDrive/neural dataset/ca/other.tsv', sep='\\t')\n",
        "validate_sen_df_ca = pd.read_csv('/content/drive/MyDrive/neural dataset/ca/validated.tsv', sep='\\t')\n",
        "# unvalidate_sen_df_ca = pd.read_csv('/content/drive/MyDrive/neural dataset/ca/invalidated.tsv', sep='\\t')\n",
        "\n",
        "print(validate_sen_df_en.shape,validate_sen_df_ca.shape)\n"
      ],
      "metadata": {
        "id": "flF-89SvJnHe",
        "colab": {
          "base_uri": "https://localhost:8080/"
        },
        "outputId": "964b76d6-565c-4aa8-9f35-fe96bc10fb40"
      },
      "execution_count": 5,
      "outputs": [
        {
          "output_type": "stream",
          "name": "stdout",
          "text": [
            "(1877, 13) (1586, 13)\n"
          ]
        }
      ]
    },
    {
      "cell_type": "markdown",
      "source": [
        "data preprocessing"
      ],
      "metadata": {
        "id": "RWDZ2niNN33Q"
      }
    },
    {
      "cell_type": "code",
      "source": [
        "def load_audio(file_path, sr=16000):#Load an audio file into an array.\n",
        "    data,sr = lr.load(file_path)\n",
        "    return data\n",
        "\n",
        "validate_sen_df_en['audio'] = validate_sen_df_en['path'].apply(lambda x: load_audio(f'/content/drive/MyDrive/neural dataset/en/clips/{x}'))\n",
        "validate_sen_df_ca['audio'] = validate_sen_df_ca['path'].apply(lambda x: load_audio(f'/content/drive/MyDrive/neural dataset/ca/val_clips/{x}'))\n"
      ],
      "metadata": {
        "id": "-77Rrnu91GaZ"
      },
      "execution_count": 6,
      "outputs": []
    },
    {
      "cell_type": "code",
      "source": [
        "validate_sen_df_ca.head(1)"
      ],
      "metadata": {
        "colab": {
          "base_uri": "https://localhost:8080/",
          "height": 205
        },
        "id": "vEM2Rw2rI3la",
        "outputId": "5e939583-7cd0-4985-cc7c-f62861481452"
      },
      "execution_count": 7,
      "outputs": [
        {
          "output_type": "execute_result",
          "data": {
            "text/plain": [
              "                                           client_id  \\\n",
              "0  0bf9a3c9eebf8e427fa1d08800532c4bb279c13c113446...   \n",
              "\n",
              "                           path  \\\n",
              "0  common_voice_ca_39702834.mp3   \n",
              "\n",
              "                                         sentence_id  \\\n",
              "0  d159405abc07362ede5b393be7a63233f72fdc766a3186...   \n",
              "\n",
              "                                            sentence sentence_domain  \\\n",
              "0  La finalització de la guerra obrí un tens perí...             NaN   \n",
              "\n",
              "   up_votes  down_votes       age           gender accents variant locale  \\\n",
              "0         2           0  fourties  female_feminine     NaN     NaN     ca   \n",
              "\n",
              "   segment                                              audio  \n",
              "0      NaN  [-3.9815347e-12, -8.749569e-13, -4.1578212e-12...  "
            ],
            "text/html": [
              "\n",
              "  <div id=\"df-ff762def-1dcf-44e6-a6e9-ec5c814ed511\" class=\"colab-df-container\">\n",
              "    <div>\n",
              "<style scoped>\n",
              "    .dataframe tbody tr th:only-of-type {\n",
              "        vertical-align: middle;\n",
              "    }\n",
              "\n",
              "    .dataframe tbody tr th {\n",
              "        vertical-align: top;\n",
              "    }\n",
              "\n",
              "    .dataframe thead th {\n",
              "        text-align: right;\n",
              "    }\n",
              "</style>\n",
              "<table border=\"1\" class=\"dataframe\">\n",
              "  <thead>\n",
              "    <tr style=\"text-align: right;\">\n",
              "      <th></th>\n",
              "      <th>client_id</th>\n",
              "      <th>path</th>\n",
              "      <th>sentence_id</th>\n",
              "      <th>sentence</th>\n",
              "      <th>sentence_domain</th>\n",
              "      <th>up_votes</th>\n",
              "      <th>down_votes</th>\n",
              "      <th>age</th>\n",
              "      <th>gender</th>\n",
              "      <th>accents</th>\n",
              "      <th>variant</th>\n",
              "      <th>locale</th>\n",
              "      <th>segment</th>\n",
              "      <th>audio</th>\n",
              "    </tr>\n",
              "  </thead>\n",
              "  <tbody>\n",
              "    <tr>\n",
              "      <th>0</th>\n",
              "      <td>0bf9a3c9eebf8e427fa1d08800532c4bb279c13c113446...</td>\n",
              "      <td>common_voice_ca_39702834.mp3</td>\n",
              "      <td>d159405abc07362ede5b393be7a63233f72fdc766a3186...</td>\n",
              "      <td>La finalització de la guerra obrí un tens perí...</td>\n",
              "      <td>NaN</td>\n",
              "      <td>2</td>\n",
              "      <td>0</td>\n",
              "      <td>fourties</td>\n",
              "      <td>female_feminine</td>\n",
              "      <td>NaN</td>\n",
              "      <td>NaN</td>\n",
              "      <td>ca</td>\n",
              "      <td>NaN</td>\n",
              "      <td>[-3.9815347e-12, -8.749569e-13, -4.1578212e-12...</td>\n",
              "    </tr>\n",
              "  </tbody>\n",
              "</table>\n",
              "</div>\n",
              "    <div class=\"colab-df-buttons\">\n",
              "\n",
              "  <div class=\"colab-df-container\">\n",
              "    <button class=\"colab-df-convert\" onclick=\"convertToInteractive('df-ff762def-1dcf-44e6-a6e9-ec5c814ed511')\"\n",
              "            title=\"Convert this dataframe to an interactive table.\"\n",
              "            style=\"display:none;\">\n",
              "\n",
              "  <svg xmlns=\"http://www.w3.org/2000/svg\" height=\"24px\" viewBox=\"0 -960 960 960\">\n",
              "    <path d=\"M120-120v-720h720v720H120Zm60-500h600v-160H180v160Zm220 220h160v-160H400v160Zm0 220h160v-160H400v160ZM180-400h160v-160H180v160Zm440 0h160v-160H620v160ZM180-180h160v-160H180v160Zm440 0h160v-160H620v160Z\"/>\n",
              "  </svg>\n",
              "    </button>\n",
              "\n",
              "  <style>\n",
              "    .colab-df-container {\n",
              "      display:flex;\n",
              "      gap: 12px;\n",
              "    }\n",
              "\n",
              "    .colab-df-convert {\n",
              "      background-color: #E8F0FE;\n",
              "      border: none;\n",
              "      border-radius: 50%;\n",
              "      cursor: pointer;\n",
              "      display: none;\n",
              "      fill: #1967D2;\n",
              "      height: 32px;\n",
              "      padding: 0 0 0 0;\n",
              "      width: 32px;\n",
              "    }\n",
              "\n",
              "    .colab-df-convert:hover {\n",
              "      background-color: #E2EBFA;\n",
              "      box-shadow: 0px 1px 2px rgba(60, 64, 67, 0.3), 0px 1px 3px 1px rgba(60, 64, 67, 0.15);\n",
              "      fill: #174EA6;\n",
              "    }\n",
              "\n",
              "    .colab-df-buttons div {\n",
              "      margin-bottom: 4px;\n",
              "    }\n",
              "\n",
              "    [theme=dark] .colab-df-convert {\n",
              "      background-color: #3B4455;\n",
              "      fill: #D2E3FC;\n",
              "    }\n",
              "\n",
              "    [theme=dark] .colab-df-convert:hover {\n",
              "      background-color: #434B5C;\n",
              "      box-shadow: 0px 1px 3px 1px rgba(0, 0, 0, 0.15);\n",
              "      filter: drop-shadow(0px 1px 2px rgba(0, 0, 0, 0.3));\n",
              "      fill: #FFFFFF;\n",
              "    }\n",
              "  </style>\n",
              "\n",
              "    <script>\n",
              "      const buttonEl =\n",
              "        document.querySelector('#df-ff762def-1dcf-44e6-a6e9-ec5c814ed511 button.colab-df-convert');\n",
              "      buttonEl.style.display =\n",
              "        google.colab.kernel.accessAllowed ? 'block' : 'none';\n",
              "\n",
              "      async function convertToInteractive(key) {\n",
              "        const element = document.querySelector('#df-ff762def-1dcf-44e6-a6e9-ec5c814ed511');\n",
              "        const dataTable =\n",
              "          await google.colab.kernel.invokeFunction('convertToInteractive',\n",
              "                                                    [key], {});\n",
              "        if (!dataTable) return;\n",
              "\n",
              "        const docLinkHtml = 'Like what you see? Visit the ' +\n",
              "          '<a target=\"_blank\" href=https://colab.research.google.com/notebooks/data_table.ipynb>data table notebook</a>'\n",
              "          + ' to learn more about interactive tables.';\n",
              "        element.innerHTML = '';\n",
              "        dataTable['output_type'] = 'display_data';\n",
              "        await google.colab.output.renderOutput(dataTable, element);\n",
              "        const docLink = document.createElement('div');\n",
              "        docLink.innerHTML = docLinkHtml;\n",
              "        element.appendChild(docLink);\n",
              "      }\n",
              "    </script>\n",
              "  </div>\n",
              "\n",
              "\n",
              "    </div>\n",
              "  </div>\n"
            ],
            "application/vnd.google.colaboratory.intrinsic+json": {
              "type": "dataframe",
              "variable_name": "validate_sen_df_ca",
              "summary": "{\n  \"name\": \"validate_sen_df_ca\",\n  \"rows\": 1586,\n  \"fields\": [\n    {\n      \"column\": \"client_id\",\n      \"properties\": {\n        \"dtype\": \"category\",\n        \"num_unique_values\": 59,\n        \"samples\": [\n          \"0bf9a3c9eebf8e427fa1d08800532c4bb279c13c113446c7507857ed53dbe058fae56bb0cf3db94e38ac53927e2165ca7e66cad3a46cae0afb21a5b8eed5b776\",\n          \"648a7a2a915bb43ddf94a74c2d0c3b3e23e0443cbe379f18d4c0ec9582b46ab8a52fe08189031603f1358a4c9d956aec3379d7ebaf6be259d746f33b84d92b70\",\n          \"2484ec5ade2d6f4d4f4018c366912fef0116608a55cc756d241646e2e18fbc8fc1cf53e04d9234e02e2054197686160cf9b647650ade74a1832a774c89752207\"\n        ],\n        \"semantic_type\": \"\",\n        \"description\": \"\"\n      }\n    },\n    {\n      \"column\": \"path\",\n      \"properties\": {\n        \"dtype\": \"string\",\n        \"num_unique_values\": 1586,\n        \"samples\": [\n          \"common_voice_ca_39978668.mp3\",\n          \"common_voice_ca_39852414.mp3\",\n          \"common_voice_ca_39761018.mp3\"\n        ],\n        \"semantic_type\": \"\",\n        \"description\": \"\"\n      }\n    },\n    {\n      \"column\": \"sentence_id\",\n      \"properties\": {\n        \"dtype\": \"string\",\n        \"num_unique_values\": 1584,\n        \"samples\": [\n          \"d875725fd0884d69e47deab4b68407c663ad7425d970db9fdc50c1d0c7b228b1\",\n          \"b051131e2de13090ff6bf6778ae691efc0e949f8c234e8719e62b8bd9d7f0ed2\",\n          \"d508eaaf9fe67820569ce9f92c4eeb3df9ba5e366497f8b4588a446c0ec24332\"\n        ],\n        \"semantic_type\": \"\",\n        \"description\": \"\"\n      }\n    },\n    {\n      \"column\": \"sentence\",\n      \"properties\": {\n        \"dtype\": \"string\",\n        \"num_unique_values\": 1584,\n        \"samples\": [\n          \"Li van disparar per l\\u2019esquena quan intentava escapar-se dels policies.\",\n          \"A finals de novembre, replegar\\u00e0s la teua oliva sempre.\",\n          \"A la segona fase es jugaren vint-i-tres eliminat\\u00f2ries.\"\n        ],\n        \"semantic_type\": \"\",\n        \"description\": \"\"\n      }\n    },\n    {\n      \"column\": \"sentence_domain\",\n      \"properties\": {\n        \"dtype\": \"category\",\n        \"num_unique_values\": 2,\n        \"samples\": [\n          \"food_service_retail\",\n          \"automotive\"\n        ],\n        \"semantic_type\": \"\",\n        \"description\": \"\"\n      }\n    },\n    {\n      \"column\": \"up_votes\",\n      \"properties\": {\n        \"dtype\": \"number\",\n        \"std\": 0,\n        \"min\": 2,\n        \"max\": 9,\n        \"num_unique_values\": 5,\n        \"samples\": [\n          3,\n          9\n        ],\n        \"semantic_type\": \"\",\n        \"description\": \"\"\n      }\n    },\n    {\n      \"column\": \"down_votes\",\n      \"properties\": {\n        \"dtype\": \"number\",\n        \"std\": 0,\n        \"min\": 0,\n        \"max\": 0,\n        \"num_unique_values\": 1,\n        \"samples\": [\n          0\n        ],\n        \"semantic_type\": \"\",\n        \"description\": \"\"\n      }\n    },\n    {\n      \"column\": \"age\",\n      \"properties\": {\n        \"dtype\": \"category\",\n        \"num_unique_values\": 7,\n        \"samples\": [\n          \"fourties\"\n        ],\n        \"semantic_type\": \"\",\n        \"description\": \"\"\n      }\n    },\n    {\n      \"column\": \"gender\",\n      \"properties\": {\n        \"dtype\": \"category\",\n        \"num_unique_values\": 2,\n        \"samples\": [\n          \"male_masculine\"\n        ],\n        \"semantic_type\": \"\",\n        \"description\": \"\"\n      }\n    },\n    {\n      \"column\": \"accents\",\n      \"properties\": {\n        \"dtype\": \"category\",\n        \"num_unique_values\": 16,\n        \"samples\": [\n          \"valenci\\u00e0,Castell\\u00f3 de la Plana\"\n        ],\n        \"semantic_type\": \"\",\n        \"description\": \"\"\n      }\n    },\n    {\n      \"column\": \"variant\",\n      \"properties\": {\n        \"dtype\": \"category\",\n        \"num_unique_values\": 7,\n        \"samples\": [\n          \"Valenci\\u00e0 septentrional\"\n        ],\n        \"semantic_type\": \"\",\n        \"description\": \"\"\n      }\n    },\n    {\n      \"column\": \"locale\",\n      \"properties\": {\n        \"dtype\": \"category\",\n        \"num_unique_values\": 1,\n        \"samples\": [\n          \"ca\"\n        ],\n        \"semantic_type\": \"\",\n        \"description\": \"\"\n      }\n    },\n    {\n      \"column\": \"segment\",\n      \"properties\": {\n        \"dtype\": \"number\",\n        \"std\": null,\n        \"min\": null,\n        \"max\": null,\n        \"num_unique_values\": 0,\n        \"samples\": [],\n        \"semantic_type\": \"\",\n        \"description\": \"\"\n      }\n    },\n    {\n      \"column\": \"audio\",\n      \"properties\": {\n        \"dtype\": \"object\",\n        \"semantic_type\": \"\",\n        \"description\": \"\"\n      }\n    }\n  ]\n}"
            }
          },
          "metadata": {},
          "execution_count": 7
        }
      ]
    },
    {
      "cell_type": "markdown",
      "source": [
        "(optional) saving and importing csv files"
      ],
      "metadata": {
        "id": "ukvIKI-6ORKd"
      }
    },
    {
      "cell_type": "code",
      "source": [
        "# # df_total = pd.concat([validate_sen_df_en,validate_sen_df_ca], axis=0)\n",
        "# # df_total.shape\n",
        "# validate_sen_df_en.to_csv('/content/drive/MyDrive/neural dataset/data_en.csv', index=False)\n",
        "# validate_sen_df_ca.to_csv('/content/drive/MyDrive/neural dataset/data_ca.csv', index=False)\n",
        "\n",
        "# validate_sen_df_en = pd.read_csv('/content/drive/MyDrive/neural dataset/data_en.csv')\n",
        "# validate_sen_df_ca = pd.read_csv('/content/drive/MyDrive/neural dataset/data_ca.csv')"
      ],
      "metadata": {
        "id": "rDSmxUPwCDo-"
      },
      "execution_count": 8,
      "outputs": []
    },
    {
      "cell_type": "code",
      "source": [
        "df_total = pd.concat([validate_sen_df_en,validate_sen_df_ca], axis=0) # combining language(en,ca) df into\n",
        "df_total.head(1)"
      ],
      "metadata": {
        "colab": {
          "base_uri": "https://localhost:8080/",
          "height": 257
        },
        "id": "3NNYvWFUH-_R",
        "outputId": "f6523a50-c2b3-4d34-bdc0-8603b2faa5c0"
      },
      "execution_count": 9,
      "outputs": [
        {
          "output_type": "execute_result",
          "data": {
            "text/plain": [
              "                                           client_id  \\\n",
              "0  01e8ea298cdecf26e273f5baac3915eb992c493f229686...   \n",
              "\n",
              "                           path  \\\n",
              "0  common_voice_en_39751075.mp3   \n",
              "\n",
              "                                         sentence_id  \\\n",
              "0  e5e7d4694b7160add018a08876327f254690c1ab4c39ea...   \n",
              "\n",
              "                                            sentence sentence_domain  \\\n",
              "0  Madin was a significant figure of post-war Bir...             NaN   \n",
              "\n",
              "   up_votes  down_votes  age gender                                 accents  \\\n",
              "0         2           0  NaN    NaN  United States English,New York English   \n",
              "\n",
              "  variant locale  segment                                              audio  \n",
              "0     NaN     en      NaN  [0.0, 0.0, 0.0, 0.0, 0.0, 0.0, 0.0, 0.0, 0.0, ...  "
            ],
            "text/html": [
              "\n",
              "  <div id=\"df-9427c047-f3f5-4b99-86ed-cc5fa8641df9\" class=\"colab-df-container\">\n",
              "    <div>\n",
              "<style scoped>\n",
              "    .dataframe tbody tr th:only-of-type {\n",
              "        vertical-align: middle;\n",
              "    }\n",
              "\n",
              "    .dataframe tbody tr th {\n",
              "        vertical-align: top;\n",
              "    }\n",
              "\n",
              "    .dataframe thead th {\n",
              "        text-align: right;\n",
              "    }\n",
              "</style>\n",
              "<table border=\"1\" class=\"dataframe\">\n",
              "  <thead>\n",
              "    <tr style=\"text-align: right;\">\n",
              "      <th></th>\n",
              "      <th>client_id</th>\n",
              "      <th>path</th>\n",
              "      <th>sentence_id</th>\n",
              "      <th>sentence</th>\n",
              "      <th>sentence_domain</th>\n",
              "      <th>up_votes</th>\n",
              "      <th>down_votes</th>\n",
              "      <th>age</th>\n",
              "      <th>gender</th>\n",
              "      <th>accents</th>\n",
              "      <th>variant</th>\n",
              "      <th>locale</th>\n",
              "      <th>segment</th>\n",
              "      <th>audio</th>\n",
              "    </tr>\n",
              "  </thead>\n",
              "  <tbody>\n",
              "    <tr>\n",
              "      <th>0</th>\n",
              "      <td>01e8ea298cdecf26e273f5baac3915eb992c493f229686...</td>\n",
              "      <td>common_voice_en_39751075.mp3</td>\n",
              "      <td>e5e7d4694b7160add018a08876327f254690c1ab4c39ea...</td>\n",
              "      <td>Madin was a significant figure of post-war Bir...</td>\n",
              "      <td>NaN</td>\n",
              "      <td>2</td>\n",
              "      <td>0</td>\n",
              "      <td>NaN</td>\n",
              "      <td>NaN</td>\n",
              "      <td>United States English,New York English</td>\n",
              "      <td>NaN</td>\n",
              "      <td>en</td>\n",
              "      <td>NaN</td>\n",
              "      <td>[0.0, 0.0, 0.0, 0.0, 0.0, 0.0, 0.0, 0.0, 0.0, ...</td>\n",
              "    </tr>\n",
              "  </tbody>\n",
              "</table>\n",
              "</div>\n",
              "    <div class=\"colab-df-buttons\">\n",
              "\n",
              "  <div class=\"colab-df-container\">\n",
              "    <button class=\"colab-df-convert\" onclick=\"convertToInteractive('df-9427c047-f3f5-4b99-86ed-cc5fa8641df9')\"\n",
              "            title=\"Convert this dataframe to an interactive table.\"\n",
              "            style=\"display:none;\">\n",
              "\n",
              "  <svg xmlns=\"http://www.w3.org/2000/svg\" height=\"24px\" viewBox=\"0 -960 960 960\">\n",
              "    <path d=\"M120-120v-720h720v720H120Zm60-500h600v-160H180v160Zm220 220h160v-160H400v160Zm0 220h160v-160H400v160ZM180-400h160v-160H180v160Zm440 0h160v-160H620v160ZM180-180h160v-160H180v160Zm440 0h160v-160H620v160Z\"/>\n",
              "  </svg>\n",
              "    </button>\n",
              "\n",
              "  <style>\n",
              "    .colab-df-container {\n",
              "      display:flex;\n",
              "      gap: 12px;\n",
              "    }\n",
              "\n",
              "    .colab-df-convert {\n",
              "      background-color: #E8F0FE;\n",
              "      border: none;\n",
              "      border-radius: 50%;\n",
              "      cursor: pointer;\n",
              "      display: none;\n",
              "      fill: #1967D2;\n",
              "      height: 32px;\n",
              "      padding: 0 0 0 0;\n",
              "      width: 32px;\n",
              "    }\n",
              "\n",
              "    .colab-df-convert:hover {\n",
              "      background-color: #E2EBFA;\n",
              "      box-shadow: 0px 1px 2px rgba(60, 64, 67, 0.3), 0px 1px 3px 1px rgba(60, 64, 67, 0.15);\n",
              "      fill: #174EA6;\n",
              "    }\n",
              "\n",
              "    .colab-df-buttons div {\n",
              "      margin-bottom: 4px;\n",
              "    }\n",
              "\n",
              "    [theme=dark] .colab-df-convert {\n",
              "      background-color: #3B4455;\n",
              "      fill: #D2E3FC;\n",
              "    }\n",
              "\n",
              "    [theme=dark] .colab-df-convert:hover {\n",
              "      background-color: #434B5C;\n",
              "      box-shadow: 0px 1px 3px 1px rgba(0, 0, 0, 0.15);\n",
              "      filter: drop-shadow(0px 1px 2px rgba(0, 0, 0, 0.3));\n",
              "      fill: #FFFFFF;\n",
              "    }\n",
              "  </style>\n",
              "\n",
              "    <script>\n",
              "      const buttonEl =\n",
              "        document.querySelector('#df-9427c047-f3f5-4b99-86ed-cc5fa8641df9 button.colab-df-convert');\n",
              "      buttonEl.style.display =\n",
              "        google.colab.kernel.accessAllowed ? 'block' : 'none';\n",
              "\n",
              "      async function convertToInteractive(key) {\n",
              "        const element = document.querySelector('#df-9427c047-f3f5-4b99-86ed-cc5fa8641df9');\n",
              "        const dataTable =\n",
              "          await google.colab.kernel.invokeFunction('convertToInteractive',\n",
              "                                                    [key], {});\n",
              "        if (!dataTable) return;\n",
              "\n",
              "        const docLinkHtml = 'Like what you see? Visit the ' +\n",
              "          '<a target=\"_blank\" href=https://colab.research.google.com/notebooks/data_table.ipynb>data table notebook</a>'\n",
              "          + ' to learn more about interactive tables.';\n",
              "        element.innerHTML = '';\n",
              "        dataTable['output_type'] = 'display_data';\n",
              "        await google.colab.output.renderOutput(dataTable, element);\n",
              "        const docLink = document.createElement('div');\n",
              "        docLink.innerHTML = docLinkHtml;\n",
              "        element.appendChild(docLink);\n",
              "      }\n",
              "    </script>\n",
              "  </div>\n",
              "\n",
              "\n",
              "    </div>\n",
              "  </div>\n"
            ],
            "application/vnd.google.colaboratory.intrinsic+json": {
              "type": "dataframe",
              "variable_name": "df_total",
              "summary": "{\n  \"name\": \"df_total\",\n  \"rows\": 3463,\n  \"fields\": [\n    {\n      \"column\": \"client_id\",\n      \"properties\": {\n        \"dtype\": \"category\",\n        \"num_unique_values\": 435,\n        \"samples\": [\n          \"0debffd64018e6ec9b8706b996df4fdd7470774170f9d8da46600ad86d68f9e09a2f09d0dbfee4027ff7241c89ba1a3136cdfff40ad9c92f002c943a6f6e1a61\",\n          \"718fc490d46fcc55a2bae12a0dec7c3f9d6444a907d38c30712106497827e32ae89dec06b41532d2effbd72ed2944c4714e7e8daae50ddfeb7e6e10a1abc9e90\",\n          \"9dc051959870e443479ac04840758c8c10096804504e183c3849bc231fb7423fdad2419852f71281d8661f8862ac35b17d5e984ae990e3a897dc8ec9d77d34c6\"\n        ],\n        \"semantic_type\": \"\",\n        \"description\": \"\"\n      }\n    },\n    {\n      \"column\": \"path\",\n      \"properties\": {\n        \"dtype\": \"string\",\n        \"num_unique_values\": 3463,\n        \"samples\": [\n          \"common_voice_ca_39899611.mp3\",\n          \"common_voice_en_39747377.mp3\",\n          \"common_voice_ca_39907498.mp3\"\n        ],\n        \"semantic_type\": \"\",\n        \"description\": \"\"\n      }\n    },\n    {\n      \"column\": \"sentence_id\",\n      \"properties\": {\n        \"dtype\": \"string\",\n        \"num_unique_values\": 3459,\n        \"samples\": [\n          \"a8825d5d458ec7355516f0293d23fa23323de4068b52789ed550e0ec5bfa82ce\",\n          \"e4112c2174dfaaa6c7a7a1556f699f9633c561675b6aaaca85a2f71897e2a259\",\n          \"d5cb8ef3d2c2d0d5b29c89fa1d216811aca63f129ed6af95f2867c91bebde5c9\"\n        ],\n        \"semantic_type\": \"\",\n        \"description\": \"\"\n      }\n    },\n    {\n      \"column\": \"sentence\",\n      \"properties\": {\n        \"dtype\": \"string\",\n        \"num_unique_values\": 3459,\n        \"samples\": [\n          \"The slug is caught in the sea off Samoa.\",\n          \"During this time, Konstantin's first campaign took place under the leadership of Suvorov.\",\n          \"De sobte el mon\\u00f2lit emet un senyal ac\\u00fastic eixordador.\"\n        ],\n        \"semantic_type\": \"\",\n        \"description\": \"\"\n      }\n    },\n    {\n      \"column\": \"sentence_domain\",\n      \"properties\": {\n        \"dtype\": \"category\",\n        \"num_unique_values\": 3,\n        \"samples\": [\n          \"technology_robotics\",\n          \"automotive\",\n          \"food_service_retail\"\n        ],\n        \"semantic_type\": \"\",\n        \"description\": \"\"\n      }\n    },\n    {\n      \"column\": \"up_votes\",\n      \"properties\": {\n        \"dtype\": \"number\",\n        \"std\": 0,\n        \"min\": 2,\n        \"max\": 12,\n        \"num_unique_values\": 7,\n        \"samples\": [\n          2,\n          3,\n          12\n        ],\n        \"semantic_type\": \"\",\n        \"description\": \"\"\n      }\n    },\n    {\n      \"column\": \"down_votes\",\n      \"properties\": {\n        \"dtype\": \"number\",\n        \"std\": 0,\n        \"min\": 0,\n        \"max\": 2,\n        \"num_unique_values\": 3,\n        \"samples\": [\n          0,\n          1,\n          2\n        ],\n        \"semantic_type\": \"\",\n        \"description\": \"\"\n      }\n    },\n    {\n      \"column\": \"age\",\n      \"properties\": {\n        \"dtype\": \"category\",\n        \"num_unique_values\": 7,\n        \"samples\": [\n          \"teens\",\n          \"twenties\",\n          \"fifties\"\n        ],\n        \"semantic_type\": \"\",\n        \"description\": \"\"\n      }\n    },\n    {\n      \"column\": \"gender\",\n      \"properties\": {\n        \"dtype\": \"category\",\n        \"num_unique_values\": 3,\n        \"samples\": [\n          \"transgender\",\n          \"male_masculine\",\n          \"female_feminine\"\n        ],\n        \"semantic_type\": \"\",\n        \"description\": \"\"\n      }\n    },\n    {\n      \"column\": \"accents\",\n      \"properties\": {\n        \"dtype\": \"category\",\n        \"num_unique_values\": 135,\n        \"samples\": [\n          \"European accent\",\n          \"England English, north yorkshire\",\n          \"Singaporean English\"\n        ],\n        \"semantic_type\": \"\",\n        \"description\": \"\"\n      }\n    },\n    {\n      \"column\": \"variant\",\n      \"properties\": {\n        \"dtype\": \"category\",\n        \"num_unique_values\": 7,\n        \"samples\": [\n          \"Valenci\\u00e0 septentrional\",\n          \"Central\",\n          \"Valenci\\u00e0 meridional\"\n        ],\n        \"semantic_type\": \"\",\n        \"description\": \"\"\n      }\n    },\n    {\n      \"column\": \"locale\",\n      \"properties\": {\n        \"dtype\": \"category\",\n        \"num_unique_values\": 2,\n        \"samples\": [\n          \"ca\",\n          \"en\"\n        ],\n        \"semantic_type\": \"\",\n        \"description\": \"\"\n      }\n    },\n    {\n      \"column\": \"segment\",\n      \"properties\": {\n        \"dtype\": \"number\",\n        \"std\": null,\n        \"min\": null,\n        \"max\": null,\n        \"num_unique_values\": 0,\n        \"samples\": [],\n        \"semantic_type\": \"\",\n        \"description\": \"\"\n      }\n    },\n    {\n      \"column\": \"audio\",\n      \"properties\": {\n        \"dtype\": \"object\",\n        \"semantic_type\": \"\",\n        \"description\": \"\"\n      }\n    }\n  ]\n}"
            }
          },
          "metadata": {},
          "execution_count": 9
        }
      ]
    },
    {
      "cell_type": "code",
      "source": [
        "import librosa as lr\n",
        "\n",
        "# def extract_features(audio, n_mfcc=13, hop_length=512, n_fft=2048):\n",
        "#     mfcc = lr.feature.mfcc(y=audio, sr=16000, n_mfcc=n_mfcc,\n",
        "#                            hop_length=hop_length, n_fft=n_fft)\n",
        "#     return mfcc.T  # Transpose to align time to rows\n",
        "# df_total['features'] = df_total['audio'].apply(extract_features)\n",
        "\n",
        "# Extract mel spectrogram features from an audio signal.\n",
        "def extract_features(audio, n_mels=128, hop_length=512, n_fft=2048):\n",
        "    mel_spectrogram = lr.feature.melspectrogram(y=audio, sr=16000, n_mels=n_mels,\n",
        "                                                hop_length=hop_length, n_fft=n_fft)\n",
        "    return mel_spectrogram.T  # Transpose to align time to rows\n",
        "\n",
        "# Assuming df_total['audio'] contains the audio data\n",
        "df_total['features'] = df_total['audio'].apply(extract_features)\n",
        "\n",
        "# Print the shapes of the extracted features\n",
        "print(df_total['features'][0].shape)  # Assuming you want to check the shape of the first sample\n",
        "\n"
      ],
      "metadata": {
        "colab": {
          "base_uri": "https://localhost:8080/"
        },
        "id": "StxzsCKF7win",
        "outputId": "c0b6da07-0423-4192-ec5f-3f3f58e7e73e"
      },
      "execution_count": 10,
      "outputs": [
        {
          "output_type": "stream",
          "name": "stdout",
          "text": [
            "(2,)\n"
          ]
        }
      ]
    },
    {
      "cell_type": "code",
      "source": [
        "import matplotlib.pyplot as plt\n",
        "import numpy as np\n",
        "\n",
        "features_lengths = []\n",
        "for features in df_total['features']:\n",
        "    features_lengths.append(features.shape[0])\n",
        "# Calculate statistics\n",
        "mean_length = np.mean(features_lengths)\n",
        "median_length = np.median(features_lengths)\n",
        "percentile_90 = np.percentile(features_lengths, 90)\n",
        "percentile_95 = np.percentile(features_lengths, 95)\n",
        "\n",
        "print(f\"Mean mel-spectrogram length: {mean_length:.2f}\")\n",
        "print(f\"Median mel-spectrogram length: {median_length}\")\n",
        "print(f\"90th percentile mel-spectrogram length: {percentile_90}\")\n",
        "print(f\"95th percentile mel-spectrogram length: {percentile_95}\")\n",
        "\n",
        "# Plot a histogram\n",
        "plt.figure(figsize=(8, 6))\n",
        "plt.hist(features_lengths, bins=50, edgecolor='black')\n",
        "plt.xlabel('Mel-spectrogram Length')\n",
        "plt.ylabel('Frequency')\n",
        "plt.title('Distribution of Mel-spectrogram Lengths')\n",
        "plt.show()"
      ],
      "metadata": {
        "colab": {
          "base_uri": "https://localhost:8080/",
          "height": 636
        },
        "id": "40Rmhs2Bo07u",
        "outputId": "d10a5c8b-ae4e-4942-e8a2-dd3ee2d10700"
      },
      "execution_count": 11,
      "outputs": [
        {
          "output_type": "stream",
          "name": "stdout",
          "text": [
            "Mean mel-spectrogram length: 220.74\n",
            "Median mel-spectrogram length: 214.0\n",
            "90th percentile mel-spectrogram length: 311.8000000000002\n",
            "95th percentile mel-spectrogram length: 338.0\n"
          ]
        },
        {
          "output_type": "display_data",
          "data": {
            "text/plain": [
              "<Figure size 800x600 with 1 Axes>"
            ],
            "image/png": "[encoded data removed]"
          },
          "metadata": {}
        }
      ]
    },
    {
      "cell_type": "code",
      "source": [
        "import numpy as np\n",
        "\n",
        "# Assuming you have a maximum length for the features\n",
        "max_length = 256  # Replace with the desired maximum length based on percentile mel-spectrogram length\n",
        "\n",
        "# Define a padding function\n",
        "def pad_features(features, max_length):\n",
        "    padded_features = np.zeros((max_length, features.shape[1]))\n",
        "    if features.shape[0] > max_length:\n",
        "        padded_features = features[:max_length, :]\n",
        "    else:\n",
        "        padded_features[:features.shape[0], :] = features\n",
        "    return padded_features\n",
        "\n",
        "# Pad the features in the dataframes\n",
        "df_total['features'] = df_total['features'].apply(lambda x: pad_features(x, max_length))\n",
        "\n",
        "# Now you can convert the features to NumPy arrays\n",
        "X = np.array(df_total['features'].tolist())\n",
        "# y_domain =(df_total['sentence_domain'])\n",
        "y_lan = (df_total['locale'])\n"
      ],
      "metadata": {
        "id": "UXsfMQ5WlYjO"
      },
      "execution_count": 12,
      "outputs": []
    },
    {
      "cell_type": "code",
      "source": [
        "from sklearn.preprocessing import LabelEncoder\n",
        "from tensorflow.keras.utils import to_categorical\n",
        "\n",
        "# Assuming df_total['locale'] and df_total['sentence_domain'] are the columns with string labels\n",
        "# Initialize label encoders\n",
        "label_encoder_lang = LabelEncoder()\n",
        "# label_encoder_domain = LabelEncoder()\n",
        "\n",
        "# Fit label encoder and return encoded labels\n",
        "y_lan = label_encoder_lang.fit_transform(df_total['locale'].dropna())\n",
        "\n",
        "# Get the number of classes from the fitted label encoder\n",
        "num_language_classes = len(label_encoder_lang.classes_)\n",
        "\n",
        "# Convert labels to one-hot encoding\n",
        "y_lan_encoded = to_categorical(y_lan, num_classes=num_language_classes)\n",
        "y_lan_encoded.shape"
      ],
      "metadata": {
        "id": "fZFMdkHybAut",
        "colab": {
          "base_uri": "https://localhost:8080/"
        },
        "outputId": "b8e724e4-b6b1-46df-893c-23a4ae7f2d85"
      },
      "execution_count": 14,
      "outputs": [
        {
          "output_type": "execute_result",
          "data": {
            "text/plain": [
              "(3463, 2)"
            ]
          },
          "metadata": {},
          "execution_count": 14
        }
      ]
    },
    {
      "cell_type": "code",
      "source": [
        "X.shape,y_lan_encoded.shape"
      ],
      "metadata": {
        "colab": {
          "base_uri": "https://localhost:8080/"
        },
        "id": "767MFxcVsKJ0",
        "outputId": "66401f7b-f1e2-46c2-9696-b353f8379068"
      },
      "execution_count": 15,
      "outputs": [
        {
          "output_type": "execute_result",
          "data": {
            "text/plain": [
              "((3463, 256, 128), (3463, 2))"
            ]
          },
          "metadata": {},
          "execution_count": 15
        }
      ]
    },
    {
      "cell_type": "code",
      "source": [
        "from sklearn.model_selection import train_test_split\n",
        "\n",
        "X_train, X_test, y_lan_train, y_lan_test = train_test_split(\n",
        "    X, y_lan_encoded, test_size=0.3, random_state=42\n",
        ")\n",
        "\n",
        "# Optionally, split the training set further to create a validation set (e.g., 80% of the remaining train for training, 20% for validation)\n",
        "X_train, X_val, y_lan_train, y_lan_val = train_test_split(\n",
        "    X_train, y_lan_train, test_size=0.2, random_state=42\n",
        ")\n",
        "\n",
        "\n",
        "# Check the shape of each set to ensure everything is correct\n",
        "print(\"Training set:\", X_train.shape, y_lan_train.shape)\n",
        "print(\"Validation set:\", X_val.shape ,y_lan_val.shape)\n",
        "print(\"Test set:\", X_test.shape, y_lan_test.shape)"
      ],
      "metadata": {
        "colab": {
          "base_uri": "https://localhost:8080/"
        },
        "id": "-38tZ9ffTcFS",
        "outputId": "07a892a6-b774-47fd-eb1a-80da10605244"
      },
      "execution_count": 16,
      "outputs": [
        {
          "output_type": "stream",
          "name": "stdout",
          "text": [
            "Training set: (1939, 256, 128) (1939, 2)\n",
            "Validation set: (485, 256, 128) (485, 2)\n",
            "Test set: (1039, 256, 128) (1039, 2)\n"
          ]
        }
      ]
    },
    {
      "cell_type": "code",
      "source": [
        "X_train = X_train.reshape(X_train.shape[0], X_train.shape[1], X_train.shape[2], 1)/ 255.0\n",
        "X_val = X_val.reshape(X_val.shape[0], X_val.shape[1], X_val.shape[2], 1)/ 255.0\n",
        "X_test = X_test.reshape(X_test.shape[0], X_test.shape[1], X_test.shape[2], 1)/255.0"
      ],
      "metadata": {
        "id": "ab5_KYcFnQN5"
      },
      "execution_count": 17,
      "outputs": []
    },
    {
      "cell_type": "code",
      "source": [
        "num_language_classes=  y_lan_test.shape[-1]\n",
        "num_domain_classes = 11\n",
        "X_train.shape\n"
      ],
      "metadata": {
        "colab": {
          "base_uri": "https://localhost:8080/"
        },
        "id": "nfsVb2gm9DGv",
        "outputId": "1c5f9b86-ee67-4d88-ccc8-241a512f5046"
      },
      "execution_count": 19,
      "outputs": [
        {
          "output_type": "execute_result",
          "data": {
            "text/plain": [
              "(1939, 256, 128, 1)"
            ]
          },
          "metadata": {},
          "execution_count": 19
        }
      ]
    },
    {
      "cell_type": "markdown",
      "source": [
        "# Model 1 : CNN"
      ],
      "metadata": {
        "id": "w7uVdw-uVSgr"
      }
    },
    {
      "cell_type": "code",
      "source": [
        "import tensorflow as tf\n",
        "from tensorflow.keras import models, layers, optimizers\n",
        "\n",
        "# Define the CNN model\n",
        "def create_cnn_model(input_shape, num_domain_classes, num_language_classes):\n",
        "    model = models.Sequential([\n",
        "        # Input layer\n",
        "        layers.Input(shape=input_shape),\n",
        "\n",
        "        # First conv layer\n",
        "        layers.Conv2D(32, kernel_size=(3, 3), activation='relu', padding='same'),\n",
        "        # layers.BatchNormalization(),\n",
        "        layers.MaxPooling2D(pool_size=(2, 2)),\n",
        "        layers.Dropout(0.25),\n",
        "\n",
        "        # Second conv layer\n",
        "        layers.Conv2D(64, kernel_size=(3, 3), activation='relu', padding='same'),\n",
        "        # layers.BatchNormalization(),\n",
        "        layers.MaxPooling2D(pool_size=(2, 2)),\n",
        "        layers.Dropout(0.25),\n",
        "\n",
        "        # Third conv layer\n",
        "        layers.Conv2D(128, kernel_size=(3, 3), activation='relu', padding='same'),\n",
        "        # layers.BatchNormalization(),\n",
        "        layers.MaxPooling2D(pool_size=(2, 2)),\n",
        "        layers.Dropout(0.25),\n",
        "\n",
        "\n",
        "\n",
        "        # Flatten the output of the conv layers to feed into the dense layer\n",
        "        layers.Flatten(),\n",
        "\n",
        "        # Dense layer for feature interpretation\n",
        "        layers.Dense(256, activation='relu'),\n",
        "        layers.Dropout(0.5),\n",
        "\n",
        "        # Separate output layers for domain and language classification\n",
        "        layers.Dense(num_language_classes, activation='softmax'),\n",
        "    ])\n",
        "\n",
        "    # Compile the model\n",
        "    model.compile(optimizer='adam',\n",
        "                  loss='categorical_crossentropy',\n",
        "                  metrics=['accuracy'])\n",
        "\n",
        "    return model\n",
        "\n",
        "# Assuming you have already defined input_shape, num_domain_classes, and num_language_classes\n",
        "input_shape = X_train[0].shape  # Example: (MFCC_Time, MFCC_Features, 1) e.g., (32, 13, 1)\n",
        "print(input_shape)\n",
        "# Create the model\n",
        "model = create_cnn_model(input_shape, num_domain_classes, num_language_classes)\n",
        "\n",
        "# Print the model summary\n",
        "model.summary()\n"
      ],
      "metadata": {
        "id": "8fUQtfCMtjC2",
        "colab": {
          "base_uri": "https://localhost:8080/"
        },
        "outputId": "cff04a3b-ce8f-492d-bcb6-4d6900be5429"
      },
      "execution_count": 21,
      "outputs": [
        {
          "output_type": "stream",
          "name": "stdout",
          "text": [
            "(256, 128, 1)\n",
            "Model: \"sequential_1\"\n",
            "_________________________________________________________________\n",
            " Layer (type)                Output Shape              Param #   \n",
            "=================================================================\n",
            " conv2d_3 (Conv2D)           (None, 256, 128, 32)      320       \n",
            "                                                                 \n",
            " max_pooling2d_3 (MaxPoolin  (None, 128, 64, 32)       0         \n",
            " g2D)                                                            \n",
            "                                                                 \n",
            " dropout_4 (Dropout)         (None, 128, 64, 32)       0         \n",
            "                                                                 \n",
            " conv2d_4 (Conv2D)           (None, 128, 64, 64)       18496     \n",
            "                                                                 \n",
            " max_pooling2d_4 (MaxPoolin  (None, 64, 32, 64)        0         \n",
            " g2D)                                                            \n",
            "                                                                 \n",
            " dropout_5 (Dropout)         (None, 64, 32, 64)        0         \n",
            "                                                                 \n",
            " conv2d_5 (Conv2D)           (None, 64, 32, 128)       73856     \n",
            "                                                                 \n",
            " max_pooling2d_5 (MaxPoolin  (None, 32, 16, 128)       0         \n",
            " g2D)                                                            \n",
            "                                                                 \n",
            " dropout_6 (Dropout)         (None, 32, 16, 128)       0         \n",
            "                                                                 \n",
            " flatten_1 (Flatten)         (None, 65536)             0         \n",
            "                                                                 \n",
            " dense_2 (Dense)             (None, 256)               16777472  \n",
            "                                                                 \n",
            " dropout_7 (Dropout)         (None, 256)               0         \n",
            "                                                                 \n",
            " dense_3 (Dense)             (None, 2)                 514       \n",
            "                                                                 \n",
            "=================================================================\n",
            "Total params: 16870658 (64.36 MB)\n",
            "Trainable params: 16870658 (64.36 MB)\n",
            "Non-trainable params: 0 (0.00 Byte)\n",
            "_________________________________________________________________\n"
          ]
        }
      ]
    },
    {
      "cell_type": "code",
      "source": [
        "# fit the model\n",
        "history = model.fit(X_train, y_lan_train,epochs=20,validation_data=(X_val,y_lan_val), batch_size=32)"
      ],
      "metadata": {
        "colab": {
          "base_uri": "https://localhost:8080/"
        },
        "id": "jv0jbv0LHZEJ",
        "outputId": "a14a42ab-9913-402e-f7fd-7c4c68ceba02"
      },
      "execution_count": 22,
      "outputs": [
        {
          "output_type": "stream",
          "name": "stdout",
          "text": [
            "Epoch 1/20\n",
            "61/61 [==============================] - 200s 3s/step - loss: 0.6740 - accuracy: 0.5570 - val_loss: 0.6617 - val_accuracy: 0.6763\n",
            "Epoch 2/20\n",
            "61/61 [==============================] - 184s 3s/step - loss: 0.6400 - accuracy: 0.6142 - val_loss: 0.6170 - val_accuracy: 0.6268\n",
            "Epoch 3/20\n",
            "61/61 [==============================] - 169s 3s/step - loss: 0.5818 - accuracy: 0.7029 - val_loss: 0.6661 - val_accuracy: 0.6289\n",
            "Epoch 4/20\n",
            "61/61 [==============================] - 167s 3s/step - loss: 0.5246 - accuracy: 0.7457 - val_loss: 0.5474 - val_accuracy: 0.7423\n",
            "Epoch 5/20\n",
            "61/61 [==============================] - 167s 3s/step - loss: 0.4616 - accuracy: 0.7782 - val_loss: 0.5670 - val_accuracy: 0.7010\n",
            "Epoch 6/20\n",
            "61/61 [==============================] - 164s 3s/step - loss: 0.3940 - accuracy: 0.8231 - val_loss: 0.5005 - val_accuracy: 0.7814\n",
            "Epoch 7/20\n",
            "61/61 [==============================] - 173s 3s/step - loss: 0.3513 - accuracy: 0.8561 - val_loss: 0.6860 - val_accuracy: 0.6515\n",
            "Epoch 8/20\n",
            "61/61 [==============================] - 179s 3s/step - loss: 0.3036 - accuracy: 0.8711 - val_loss: 0.5474 - val_accuracy: 0.7979\n",
            "Epoch 9/20\n",
            "61/61 [==============================] - 176s 3s/step - loss: 0.2626 - accuracy: 0.8891 - val_loss: 0.6482 - val_accuracy: 0.7814\n",
            "Epoch 10/20\n",
            "61/61 [==============================] - 166s 3s/step - loss: 0.2174 - accuracy: 0.9097 - val_loss: 0.5552 - val_accuracy: 0.8206\n",
            "Epoch 11/20\n",
            "61/61 [==============================] - 171s 3s/step - loss: 0.1878 - accuracy: 0.9232 - val_loss: 0.6995 - val_accuracy: 0.7773\n",
            "Epoch 12/20\n",
            "61/61 [==============================] - 178s 3s/step - loss: 0.1966 - accuracy: 0.9247 - val_loss: 0.5540 - val_accuracy: 0.8371\n",
            "Epoch 13/20\n",
            "61/61 [==============================] - 176s 3s/step - loss: 0.1644 - accuracy: 0.9417 - val_loss: 0.5806 - val_accuracy: 0.8412\n",
            "Epoch 14/20\n",
            "61/61 [==============================] - 176s 3s/step - loss: 0.1237 - accuracy: 0.9526 - val_loss: 0.6891 - val_accuracy: 0.8309\n",
            "Epoch 15/20\n",
            "61/61 [==============================] - 168s 3s/step - loss: 0.1076 - accuracy: 0.9587 - val_loss: 0.7355 - val_accuracy: 0.8186\n",
            "Epoch 16/20\n",
            "61/61 [==============================] - 166s 3s/step - loss: 0.1243 - accuracy: 0.9608 - val_loss: 0.6702 - val_accuracy: 0.8268\n",
            "Epoch 17/20\n",
            "61/61 [==============================] - 166s 3s/step - loss: 0.1197 - accuracy: 0.9567 - val_loss: 0.8814 - val_accuracy: 0.7959\n",
            "Epoch 18/20\n",
            "61/61 [==============================] - 167s 3s/step - loss: 0.0807 - accuracy: 0.9737 - val_loss: 0.6957 - val_accuracy: 0.8598\n",
            "Epoch 19/20\n",
            "61/61 [==============================] - 180s 3s/step - loss: 0.0684 - accuracy: 0.9778 - val_loss: 0.7199 - val_accuracy: 0.8433\n",
            "Epoch 20/20\n",
            "61/61 [==============================] - 181s 3s/step - loss: 0.0765 - accuracy: 0.9747 - val_loss: 0.7652 - val_accuracy: 0.8309\n"
          ]
        }
      ]
    },
    {
      "cell_type": "markdown",
      "source": [
        "# Model 2 : RNN"
      ],
      "metadata": {
        "id": "6ZbYkMYuWEer"
      }
    },
    {
      "cell_type": "code",
      "source": [
        "def create_rnn_model(input_shape, num_domain_classes, num_language_classes):\n",
        "    model = models.Sequential([\n",
        "        # Input layer\n",
        "        layers.Input(shape=input_shape),\n",
        "\n",
        "        # LSTM layer\n",
        "        layers.LSTM(64, return_sequences=True),\n",
        "\n",
        "        # Dropout layer\n",
        "        layers.Dropout(0.5),\n",
        "\n",
        "        # LSTM layer\n",
        "        layers.LSTM(64),\n",
        "\n",
        "        # Dropout layer\n",
        "        layers.Dropout(0.5),\n",
        "\n",
        "        # Dense layer for feature interpretation\n",
        "        layers.Dense(256, activation='relu'),\n",
        "\n",
        "        # Output layer for language classification\n",
        "        layers.Dense(num_language_classes, activation='softmax')\n",
        "    ])\n",
        "\n",
        "    # Compile the model\n",
        "    model.compile(optimizer='adam',\n",
        "                  loss='categorical_crossentropy',\n",
        "                  metrics=['accuracy'])\n",
        "\n",
        "    return model\n",
        "\n",
        "input_shape1=X_train.shape[1:-1]\n",
        "#  (X_train.shape[1],X_train.shape[2])\n",
        "model_rnn = create_rnn_model(input_shape1, num_domain_classes, num_language_classes)\n",
        "\n",
        "model_rnn.summary()"
      ],
      "metadata": {
        "colab": {
          "base_uri": "https://localhost:8080/"
        },
        "id": "nI6vw6navXX2",
        "outputId": "44782dab-3290-4343-e443-3744f7548831"
      },
      "execution_count": 24,
      "outputs": [
        {
          "output_type": "stream",
          "name": "stdout",
          "text": [
            "Model: \"sequential_3\"\n",
            "_________________________________________________________________\n",
            " Layer (type)                Output Shape              Param #   \n",
            "=================================================================\n",
            " lstm_2 (LSTM)               (None, 256, 64)           49408     \n",
            "                                                                 \n",
            " dropout_10 (Dropout)        (None, 256, 64)           0         \n",
            "                                                                 \n",
            " lstm_3 (LSTM)               (None, 64)                33024     \n",
            "                                                                 \n",
            " dropout_11 (Dropout)        (None, 64)                0         \n",
            "                                                                 \n",
            " dense_6 (Dense)             (None, 256)               16640     \n",
            "                                                                 \n",
            " dense_7 (Dense)             (None, 2)                 514       \n",
            "                                                                 \n",
            "=================================================================\n",
            "Total params: 99586 (389.01 KB)\n",
            "Trainable params: 99586 (389.01 KB)\n",
            "Non-trainable params: 0 (0.00 Byte)\n",
            "_________________________________________________________________\n"
          ]
        }
      ]
    },
    {
      "cell_type": "code",
      "source": [
        "# fit the model\n",
        "history_rnn = model_rnn.fit(X_train, y_lan_train,epochs=20,validation_data=(X_val,y_lan_val), batch_size=32)"
      ],
      "metadata": {
        "colab": {
          "base_uri": "https://localhost:8080/"
        },
        "id": "62guXEQnw2HW",
        "outputId": "6531c379-838b-45d7-9789-422dcda42bde"
      },
      "execution_count": 25,
      "outputs": [
        {
          "output_type": "stream",
          "name": "stdout",
          "text": [
            "Epoch 1/20\n",
            "61/61 [==============================] - 25s 348ms/step - loss: 0.6924 - accuracy: 0.5364 - val_loss: 0.6783 - val_accuracy: 0.5505\n",
            "Epoch 2/20\n",
            "61/61 [==============================] - 18s 290ms/step - loss: 0.6882 - accuracy: 0.5260 - val_loss: 0.6832 - val_accuracy: 0.5113\n",
            "Epoch 3/20\n",
            "61/61 [==============================] - 18s 290ms/step - loss: 0.6880 - accuracy: 0.5260 - val_loss: 0.6845 - val_accuracy: 0.4990\n",
            "Epoch 4/20\n",
            "61/61 [==============================] - 19s 320ms/step - loss: 0.6848 - accuracy: 0.5317 - val_loss: 0.6761 - val_accuracy: 0.5711\n",
            "Epoch 5/20\n",
            "61/61 [==============================] - 17s 285ms/step - loss: 0.6732 - accuracy: 0.5400 - val_loss: 0.6932 - val_accuracy: 0.4990\n",
            "Epoch 6/20\n",
            "61/61 [==============================] - 18s 289ms/step - loss: 0.6748 - accuracy: 0.5627 - val_loss: 0.6914 - val_accuracy: 0.5546\n",
            "Epoch 7/20\n",
            "61/61 [==============================] - 21s 348ms/step - loss: 0.6834 - accuracy: 0.5291 - val_loss: 0.6568 - val_accuracy: 0.5608\n",
            "Epoch 8/20\n",
            "61/61 [==============================] - 18s 288ms/step - loss: 0.7018 - accuracy: 0.5436 - val_loss: 0.6713 - val_accuracy: 0.5505\n",
            "Epoch 9/20\n",
            "61/61 [==============================] - 18s 288ms/step - loss: 0.6959 - accuracy: 0.5266 - val_loss: 0.6865 - val_accuracy: 0.5567\n",
            "Epoch 10/20\n",
            "61/61 [==============================] - 18s 290ms/step - loss: 0.6934 - accuracy: 0.5214 - val_loss: 0.6862 - val_accuracy: 0.5567\n",
            "Epoch 11/20\n",
            "61/61 [==============================] - 19s 309ms/step - loss: 0.6905 - accuracy: 0.5317 - val_loss: 0.6866 - val_accuracy: 0.5546\n",
            "Epoch 12/20\n",
            "61/61 [==============================] - 18s 288ms/step - loss: 0.6912 - accuracy: 0.5039 - val_loss: 0.6803 - val_accuracy: 0.5546\n",
            "Epoch 13/20\n",
            "61/61 [==============================] - 17s 288ms/step - loss: 0.6872 - accuracy: 0.5271 - val_loss: 0.6898 - val_accuracy: 0.4763\n",
            "Epoch 14/20\n",
            "61/61 [==============================] - 19s 311ms/step - loss: 0.6858 - accuracy: 0.5039 - val_loss: 0.6717 - val_accuracy: 0.5670\n",
            "Epoch 15/20\n",
            "61/61 [==============================] - 18s 294ms/step - loss: 0.6715 - accuracy: 0.5456 - val_loss: 1.0127 - val_accuracy: 0.6412\n",
            "Epoch 16/20\n",
            "61/61 [==============================] - 17s 287ms/step - loss: 0.7198 - accuracy: 0.5142 - val_loss: 0.6876 - val_accuracy: 0.5567\n",
            "Epoch 17/20\n",
            "61/61 [==============================] - 18s 289ms/step - loss: 0.6959 - accuracy: 0.5157 - val_loss: 0.6902 - val_accuracy: 0.5567\n",
            "Epoch 18/20\n",
            "61/61 [==============================] - 20s 325ms/step - loss: 0.6939 - accuracy: 0.5214 - val_loss: 0.6918 - val_accuracy: 0.5567\n",
            "Epoch 19/20\n",
            "61/61 [==============================] - 18s 288ms/step - loss: 0.6933 - accuracy: 0.5080 - val_loss: 0.6905 - val_accuracy: 0.5567\n",
            "Epoch 20/20\n",
            "61/61 [==============================] - 19s 313ms/step - loss: 0.6935 - accuracy: 0.5111 - val_loss: 0.6886 - val_accuracy: 0.5567\n"
          ]
        }
      ]
    },
    {
      "cell_type": "markdown",
      "source": [
        "# Model 3 : Transformer"
      ],
      "metadata": {
        "id": "IXcIS11fWHHW"
      }
    },
    {
      "cell_type": "code",
      "source": [
        "from tensorflow.keras import layers, models\n",
        "\n",
        "def create_transformer_model(input_shape, num_domain_classes, num_language_classes):\n",
        "    # Encoder\n",
        "    encoder_inputs = layers.Input(shape=input_shape)\n",
        "    encoder_dense = layers.Flatten()(encoder_inputs)\n",
        "    encoder_dense = layers.Dense(128, activation='relu')(encoder_dense)\n",
        "    encoder_dense = layers.Dropout(0.5)(encoder_dense)\n",
        "    encoder_output = layers.Dense(128, activation='relu')(encoder_dense)\n",
        "\n",
        "    # Decoder\n",
        "    decoder_inputs = layers.Input(shape=input_shape)\n",
        "    decoder_dense = layers.Flatten()(decoder_inputs)\n",
        "    decoder_dense = layers.Dense(128, activation='relu')(decoder_dense)\n",
        "    decoder_dense = layers.Dropout(0.5)(decoder_dense)\n",
        "    decoder_output = layers.Dense(128, activation='relu')(decoder_dense)\n",
        "\n",
        "    # Output layers\n",
        "    output = layers.Concatenate()([encoder_output, decoder_output])\n",
        "    output = layers.Dense(256, activation='relu')(output)\n",
        "    output = layers.Dropout(0.5)(output)\n",
        "    language_output = layers.Dense(num_language_classes, activation='softmax')(output)\n",
        "    # domain_output = layers.Dense(num_domain_classes, activation='softmax', name='domain_output')(output)\n",
        "\n",
        "    # Build and compile the model\n",
        "    model = models.Model(inputs=[encoder_inputs, decoder_inputs], outputs=language_output)\n",
        "    model.compile(optimizer='adam', loss='categorical_crossentropy', metrics=['accuracy'])\n",
        "\n",
        "    return model\n",
        "\n",
        "# Example usage\n",
        "input_shape = X_train.shape[1:]  # Input shape for the encoder\n",
        "\n",
        "print(input_shape)\n",
        "num_domain_classes = 10  # Number of domain classes\n",
        "num_language_classes = 2  # Number of language classes\n",
        "\n",
        "model_ts = create_transformer_model(input_shape, num_domain_classes, num_language_classes)\n",
        "model_ts.summary()\n"
      ],
      "metadata": {
        "colab": {
          "base_uri": "https://localhost:8080/"
        },
        "id": "wMeA53nZ-yft",
        "outputId": "c38388bd-a9d3-45e0-835c-918939d061e5"
      },
      "execution_count": 26,
      "outputs": [
        {
          "output_type": "stream",
          "name": "stdout",
          "text": [
            "(256, 128, 1)\n",
            "Model: \"model\"\n",
            "__________________________________________________________________________________________________\n",
            " Layer (type)                Output Shape                 Param #   Connected to                  \n",
            "==================================================================================================\n",
            " input_5 (InputLayer)        [(None, 256, 128, 1)]        0         []                            \n",
            "                                                                                                  \n",
            " input_6 (InputLayer)        [(None, 256, 128, 1)]        0         []                            \n",
            "                                                                                                  \n",
            " flatten_2 (Flatten)         (None, 32768)                0         ['input_5[0][0]']             \n",
            "                                                                                                  \n",
            " flatten_3 (Flatten)         (None, 32768)                0         ['input_6[0][0]']             \n",
            "                                                                                                  \n",
            " dense_8 (Dense)             (None, 128)                  4194432   ['flatten_2[0][0]']           \n",
            "                                                                                                  \n",
            " dense_10 (Dense)            (None, 128)                  4194432   ['flatten_3[0][0]']           \n",
            "                                                                                                  \n",
            " dropout_12 (Dropout)        (None, 128)                  0         ['dense_8[0][0]']             \n",
            "                                                                                                  \n",
            " dropout_13 (Dropout)        (None, 128)                  0         ['dense_10[0][0]']            \n",
            "                                                                                                  \n",
            " dense_9 (Dense)             (None, 128)                  16512     ['dropout_12[0][0]']          \n",
            "                                                                                                  \n",
            " dense_11 (Dense)            (None, 128)                  16512     ['dropout_13[0][0]']          \n",
            "                                                                                                  \n",
            " concatenate (Concatenate)   (None, 256)                  0         ['dense_9[0][0]',             \n",
            "                                                                     'dense_11[0][0]']            \n",
            "                                                                                                  \n",
            " dense_12 (Dense)            (None, 256)                  65792     ['concatenate[0][0]']         \n",
            "                                                                                                  \n",
            " dropout_14 (Dropout)        (None, 256)                  0         ['dense_12[0][0]']            \n",
            "                                                                                                  \n",
            " dense_13 (Dense)            (None, 2)                    514       ['dropout_14[0][0]']          \n",
            "                                                                                                  \n",
            "==================================================================================================\n",
            "Total params: 8488194 (32.38 MB)\n",
            "Trainable params: 8488194 (32.38 MB)\n",
            "Non-trainable params: 0 (0.00 Byte)\n",
            "__________________________________________________________________________________________________\n"
          ]
        }
      ]
    },
    {
      "cell_type": "code",
      "source": [
        "history_ts = model_ts.fit([X_train, X_train], y_lan_train, validation_data=([X_val, X_val], y_lan_val), epochs=20, batch_size=32)"
      ],
      "metadata": {
        "colab": {
          "base_uri": "https://localhost:8080/"
        },
        "id": "Kpv7OyJI2-Qq",
        "outputId": "4973ca9d-6440-4490-bcde-e8849dcc6217"
      },
      "execution_count": 27,
      "outputs": [
        {
          "output_type": "stream",
          "name": "stdout",
          "text": [
            "Epoch 1/20\n",
            "61/61 [==============================] - 9s 131ms/step - loss: 0.6774 - accuracy: 0.6204 - val_loss: 0.6584 - val_accuracy: 0.5979\n",
            "Epoch 2/20\n",
            "61/61 [==============================] - 10s 162ms/step - loss: 0.5612 - accuracy: 0.7385 - val_loss: 0.5726 - val_accuracy: 0.7216\n",
            "Epoch 3/20\n",
            "61/61 [==============================] - 7s 112ms/step - loss: 0.4076 - accuracy: 0.8272 - val_loss: 0.8435 - val_accuracy: 0.6948\n",
            "Epoch 4/20\n",
            "61/61 [==============================] - 6s 101ms/step - loss: 0.2903 - accuracy: 0.8907 - val_loss: 0.9645 - val_accuracy: 0.7134\n",
            "Epoch 5/20\n",
            "61/61 [==============================] - 7s 122ms/step - loss: 0.1877 - accuracy: 0.9376 - val_loss: 1.3221 - val_accuracy: 0.6845\n",
            "Epoch 6/20\n",
            "61/61 [==============================] - 6s 100ms/step - loss: 0.2023 - accuracy: 0.9443 - val_loss: 1.0228 - val_accuracy: 0.7196\n",
            "Epoch 7/20\n",
            "61/61 [==============================] - 7s 122ms/step - loss: 0.0872 - accuracy: 0.9732 - val_loss: 1.4009 - val_accuracy: 0.7237\n",
            "Epoch 8/20\n",
            "61/61 [==============================] - 6s 102ms/step - loss: 0.0789 - accuracy: 0.9783 - val_loss: 1.2081 - val_accuracy: 0.7443\n",
            "Epoch 9/20\n",
            "61/61 [==============================] - 8s 125ms/step - loss: 0.0980 - accuracy: 0.9763 - val_loss: 1.3182 - val_accuracy: 0.7546\n",
            "Epoch 10/20\n",
            "61/61 [==============================] - 6s 100ms/step - loss: 0.0574 - accuracy: 0.9814 - val_loss: 1.3980 - val_accuracy: 0.7629\n",
            "Epoch 11/20\n",
            "61/61 [==============================] - 7s 114ms/step - loss: 0.0578 - accuracy: 0.9856 - val_loss: 1.2849 - val_accuracy: 0.7526\n",
            "Epoch 12/20\n",
            "61/61 [==============================] - 7s 106ms/step - loss: 0.0307 - accuracy: 0.9917 - val_loss: 1.5140 - val_accuracy: 0.7753\n",
            "Epoch 13/20\n",
            "61/61 [==============================] - 7s 110ms/step - loss: 0.0446 - accuracy: 0.9861 - val_loss: 1.8537 - val_accuracy: 0.7629\n",
            "Epoch 14/20\n",
            "61/61 [==============================] - 7s 112ms/step - loss: 0.0285 - accuracy: 0.9928 - val_loss: 1.8455 - val_accuracy: 0.7608\n",
            "Epoch 15/20\n",
            "61/61 [==============================] - 6s 100ms/step - loss: 0.0470 - accuracy: 0.9917 - val_loss: 1.7002 - val_accuracy: 0.7670\n",
            "Epoch 16/20\n",
            "61/61 [==============================] - 7s 120ms/step - loss: 0.0297 - accuracy: 0.9897 - val_loss: 1.8746 - val_accuracy: 0.7546\n",
            "Epoch 17/20\n",
            "61/61 [==============================] - 6s 99ms/step - loss: 0.0327 - accuracy: 0.9907 - val_loss: 1.9260 - val_accuracy: 0.7732\n",
            "Epoch 18/20\n",
            "61/61 [==============================] - 7s 121ms/step - loss: 0.0313 - accuracy: 0.9897 - val_loss: 1.9311 - val_accuracy: 0.7814\n",
            "Epoch 19/20\n",
            "61/61 [==============================] - 6s 99ms/step - loss: 0.0474 - accuracy: 0.9887 - val_loss: 2.0382 - val_accuracy: 0.7485\n",
            "Epoch 20/20\n",
            "61/61 [==============================] - 7s 119ms/step - loss: 0.0324 - accuracy: 0.9881 - val_loss: 1.8355 - val_accuracy: 0.7711\n"
          ]
        }
      ]
    },
    {
      "cell_type": "code",
      "source": [
        "def eval_model(model, x, y, model_name):\n",
        "\n",
        "    try:\n",
        "        if model_name == 'Transformer':\n",
        "            test_loss, test_accuracy = model.evaluate([x, x], y)\n",
        "        else:\n",
        "            test_loss, test_accuracy = model.evaluate(x, y)\n",
        "        return test_loss, test_accuracy\n",
        "    except Exception as e:\n",
        "        print('Failed to evaluate model {}: {}'.format(model_name, e))\n",
        "        return None, None\n",
        "\n",
        "# Example usage and storing results:\n",
        "results = {}\n",
        "models = {'CNN': model, 'RNN': model_rnn, 'Transformer': model_ts}\n",
        "for name, mod in models.items():\n",
        "    loss, accuracy = eval_model(mod, X_test, y_lan_test, name)\n",
        "    results[name] = (loss, accuracy)\n"
      ],
      "metadata": {
        "colab": {
          "base_uri": "https://localhost:8080/"
        },
        "id": "watWHpOtWeMt",
        "outputId": "9b18c8d5-2ccc-41ea-bf90-018a7d483448"
      },
      "execution_count": 28,
      "outputs": [
        {
          "output_type": "stream",
          "name": "stdout",
          "text": [
            "33/33 [==============================] - 23s 683ms/step - loss: 0.8494 - accuracy: 0.8085\n",
            "33/33 [==============================] - 3s 76ms/step - loss: 0.6868 - accuracy: 0.5736\n",
            "33/33 [==============================] - 1s 28ms/step - loss: 2.5607 - accuracy: 0.7353\n"
          ]
        }
      ]
    },
    {
      "cell_type": "code",
      "source": [
        "import matplotlib.pyplot as plt\n",
        "\n",
        "# Assuming `results` is a dictionary containing the loss and accuracy\n",
        "labels = list(results.keys())\n",
        "loss_values = [results[name][0] for name in labels]\n",
        "accuracy_values = [results[name][1] for name in labels]\n",
        "\n",
        "# Creating subplots\n",
        "fig, ax = plt.subplots(1, 2, figsize=(14, 5))\n",
        "\n",
        "# Plotting loss\n",
        "ax[0].bar(labels, loss_values, color='blue')\n",
        "ax[0].set_title('Test Loss by Model')\n",
        "ax[0].set_ylabel('Loss')\n",
        "ax[0].set_xlabel('Model')\n",
        "\n",
        "# Plotting accuracy\n",
        "ax[1].bar(labels, accuracy_values, color='green')\n",
        "ax[1].set_title('Test Accuracy by Model')\n",
        "ax[1].set_ylabel('Accuracy')\n",
        "ax[1].set_xlabel('Model')\n",
        "\n",
        "# Adding a legend\n",
        "for a in ax:\n",
        "    for p in a.patches:\n",
        "        a.annotate(f\"{p.get_height():.4f}\", (p.get_x() + p.get_width() / 2., p.get_height()),\n",
        "                   ha='center', va='center', fontsize=10, color='black', xytext=(0, 5),\n",
        "                   textcoords='offset points')\n",
        "\n",
        "plt.tight_layout()\n",
        "plt.show()\n"
      ],
      "metadata": {
        "colab": {
          "base_uri": "https://localhost:8080/",
          "height": 476
        },
        "id": "tnjpXdfTWhPv",
        "outputId": "bcc81ca1-7c4c-413f-a4d2-398c34f5d3fd"
      },
      "execution_count": 29,
      "outputs": [
        {
          "output_type": "display_data",
          "data": {
            "text/plain": [
              "<Figure size 1400x500 with 2 Axes>"
            ],
            "image/png": "[encoded data removed]"
          },
          "metadata": {}
        }
      ]
    },
    {
      "cell_type": "code",
      "source": [],
      "metadata": {
        "id": "rHINwNxqWreD"
      },
      "execution_count": null,
      "outputs": []
    }
  ]
}